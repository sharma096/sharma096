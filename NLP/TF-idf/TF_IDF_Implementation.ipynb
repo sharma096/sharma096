{
 "cells": [
  {
   "cell_type": "markdown",
   "metadata": {
    "id": "h9464I-uxLiw"
   },
   "source": [
    "#Z"
   ]
  },
  {
   "cell_type": "markdown",
   "metadata": {
    "id": "IvLvmewlxLix"
   },
   "source": [
    "<font face='georgia'>\n",
    "    \n",
    "   <h4><strong>What does tf-idf mean?</strong></h4>\n",
    "\n",
    "   <p>    \n",
    "Tf-idf stands for <em>term frequency-inverse document frequency</em>, and the tf-idf weight is a weight often used in information retrieval and text mining. This weight is a statistical measure used to evaluate how important a word is to a document in a collection or corpus. The importance increases proportionally to the number of times a word appears in the document but is offset by the frequency of the word in the corpus. Variations of the tf-idf weighting scheme are often used by search engines as a central tool in scoring and ranking a document's relevance given a user query.\n",
    "</p>\n",
    "    \n",
    "   <p>\n",
    "One of the simplest ranking functions is computed by summing the tf-idf for each query term; many more sophisticated ranking functions are variants of this simple model.\n",
    "</p>\n",
    "    \n",
    "   <p>\n",
    "Tf-idf can be successfully used for stop-words filtering in various subject fields including text summarization and classification.\n",
    "</p>\n",
    "    \n",
    "</font>"
   ]
  },
  {
   "cell_type": "markdown",
   "metadata": {
    "id": "4XLaGFUMxLiy"
   },
   "source": [
    "<font face='georgia'>\n",
    "    <h4><strong>How to Compute:</strong></h4>\n",
    "\n",
    "Typically, the tf-idf weight is composed by two terms: the first computes the normalized Term Frequency (TF), aka. the number of times a word appears in a document, divided by the total number of words in that document; the second term is the Inverse Document Frequency (IDF), computed as the logarithm of the number of the documents in the corpus divided by the number of documents where the specific term appears.\n",
    "\n",
    " <ul>\n",
    "    <li>\n",
    "<strong>TF:</strong> Term Frequency, which measures how frequently a term occurs in a document. Since every document is different in length, it is possible that a term would appear much more times in long documents than shorter ones. Thus, the term frequency is often divided by the document length (aka. the total number of terms in the document) as a way of normalization: <br>\n",
    "\n",
    "$TF(t) = \\frac{\\text{Number of times term t appears in a document}}{\\text{Total number of terms in the document}}.$\n",
    "</li>\n",
    "<li>\n",
    "<strong>IDF:</strong> Inverse Document Frequency, which measures how important a term is. While computing TF, all terms are considered equally important. However it is known that certain terms, such as \"is\", \"of\", and \"that\", may appear a lot of times but have little importance. Thus we need to weigh down the frequent terms while scale up the rare ones, by computing the following: <br>\n",
    "\n",
    "$IDF(t) = \\log_{e}\\frac{\\text{Total  number of documents}} {\\text{Number of documents with term t in it}}.$\n",
    "for numerical stabiltiy we will be changing this formula little bit\n",
    "$IDF(t) = \\log_{e}\\frac{\\text{Total  number of documents}} {\\text{Number of documents with term t in it}+1}.$\n",
    "</li>\n",
    "</ul>\n",
    "\n",
    "<br>\n",
    "<h4><strong>Example</strong></h4>\n",
    "<p>\n",
    "\n",
    "Consider a document containing 100 words wherein the word cat appears 3 times. The term frequency (i.e., tf) for cat is then (3 / 100) = 0.03. Now, assume we have 10 million documents and the word cat appears in one thousand of these. Then, the inverse document frequency (i.e., idf) is calculated as log(10,000,000 / 1,000) = 4. Thus, the Tf-idf weight is the product of these quantities: 0.03 * 4 = 0.12.\n",
    "</p>\n",
    "</font>"
   ]
  },
  {
   "cell_type": "markdown",
   "metadata": {
    "id": "dg2ooa4DxLiz"
   },
   "source": [
    "## Task-1"
   ]
  },
  {
   "cell_type": "markdown",
   "metadata": {
    "id": "TAcTjhO8xLiz"
   },
   "source": [
    "<font face='georgia'>\n",
    "    <h4><strong>1. Build a TFIDF Vectorizer & compare its results with Sklearn:</strong></h4>\n",
    "\n",
    "<ul>\n",
    "    <li> As a part of this task you will be implementing TFIDF vectorizer on a collection of text documents.</li>\n",
    "    <br>\n",
    "    <li> You should compare the results of your own implementation of TFIDF vectorizer with that of sklearns implemenation TFIDF vectorizer.</li>\n",
    "    <br>\n",
    "    <li> Sklearn does few more tweaks in the implementation of its version of TFIDF vectorizer, so to replicate the exact results you would need to add following things to your custom implementation of tfidf vectorizer:\n",
    "       <ol>\n",
    "        <li> Sklearn has its vocabulary generated from idf sroted in alphabetical order</li>\n",
    "        <li> Sklearn formula of idf is different from the standard textbook formula. Here the constant <strong>\"1\"</strong> is added to the numerator and denominator of the idf as if an extra document was seen containing every term in the collection exactly once, which prevents zero divisions.\n",
    "            \n",
    " $IDF(t) = 1+\\log_{e}\\frac{1\\text{ }+\\text{ Total  number of documents in collection}} {1+\\text{Number of documents with term t in it}}.$\n",
    "        </li>\n",
    "        <li> Sklearn applies L2-normalization on its output matrix.</li>\n",
    "        <li> The final output of sklearn tfidf vectorizer is a sparse matrix.</li>\n",
    "    </ol>\n",
    "    <br>\n",
    "    <li>Steps to approach this task:\n",
    "    <ol>\n",
    "        <li> You would have to write both fit and transform methods for your custom implementation of tfidf vectorizer.</li>\n",
    "        <li> Print out the alphabetically sorted voacb after you fit your data and check if its the same as that of the feature names from sklearn tfidf vectorizer. </li>\n",
    "        <li> Print out the idf values from your implementation and check if its the same as that of sklearns tfidf vectorizer idf values. </li>\n",
    "        <li> Once you get your voacb and idf values to be same as that of sklearns implementation of tfidf vectorizer, proceed to the below steps. </li>\n",
    "        <li> Make sure the output of your implementation is a sparse matrix. Before generating the final output, you need to normalize your sparse matrix using L2 normalization. You can refer to this link https://scikit-learn.org/stable/modules/generated/sklearn.preprocessing.normalize.html </li>\n",
    "        <li> After completing the above steps, print the output of your custom implementation and compare it with sklearns implementation of tfidf vectorizer.</li>\n",
    "        <li> To check the output of a single document in your collection of documents,  you can convert the sparse matrix related only to that document into dense matrix and print it.</li>\n",
    "        </ol>\n",
    "    </li>\n",
    "    <br>\n",
    "   </ul>\n",
    "\n",
    "  <p> <font color=\"#e60000\"><strong>Note-1: </strong></font> All the necessary outputs of sklearns tfidf vectorizer have been provided as reference in this notebook, you can compare your outputs as mentioned in the above steps, with these outputs.<br>\n",
    "   <font color=\"#e60000\"><strong>Note-2: </strong></font> The output of your custom implementation and that of sklearns implementation would match only with the collection of document strings provided to you as reference in this notebook. It would not match for strings that contain capital letters or punctuations, etc, because sklearn version of tfidf vectorizer deals with such strings in a different way. To know further details about how sklearn tfidf vectorizer works with such string, you can always refer to its official documentation.<br>\n",
    "   <font color=\"#e60000\"><strong>Note-3: </strong></font> During this task, it would be helpful for you to debug the code you write with print statements wherever necessary. But when you are finally submitting the assignment, make sure your code is readable and try not to print things which are not part of this task.\n",
    "    </p>"
   ]
  },
  {
   "cell_type": "markdown",
   "metadata": {
    "id": "OnV82tg1xLi0"
   },
   "source": [
    "### Corpus"
   ]
  },
  {
   "cell_type": "code",
   "execution_count": 1,
   "metadata": {
    "id": "bUsYm9wjxLi1"
   },
   "outputs": [],
   "source": [
    "## SkLearn# Collection of string documents\n",
    "\n",
    "corpus = [\n",
    "     'this is the first document',\n",
    "     'this document is the second document',\n",
    "     'and this is the third one',\n",
    "     'is this the first document',\n",
    "]"
   ]
  },
  {
   "cell_type": "markdown",
   "metadata": {
    "id": "eLwmFZfKxLi4"
   },
   "source": [
    "### SkLearn Implementation"
   ]
  },
  {
   "cell_type": "code",
   "execution_count": 47,
   "metadata": {
    "id": "Np4dfQOkxLi4"
   },
   "outputs": [],
   "source": [
    "from sklearn.feature_extraction.text import TfidfVectorizer\n",
    "vectorizer = TfidfVectorizer()\n",
    "vectorizer.fit(corpus)\n",
    "skl_output = vectorizer.transform(corpus)"
   ]
  },
  {
   "cell_type": "code",
   "execution_count": 48,
   "metadata": {
    "id": "-7Om8YpYxLi6",
    "outputId": "0a3bd0f5-4424-4400-944f-4482a80bd799"
   },
   "outputs": [
    {
     "name": "stdout",
     "output_type": "stream",
     "text": [
      "['and', 'document', 'first', 'is', 'one', 'second', 'the', 'third', 'this']\n"
     ]
    }
   ],
   "source": [
    "# sklearn feature names, they are sorted in alphabetic order by default.\n",
    "\n",
    "print(vectorizer.get_feature_names())"
   ]
  },
  {
   "cell_type": "code",
   "execution_count": 49,
   "metadata": {
    "id": "dTKplK96xLi-",
    "outputId": "53722fa2-6756-4aa0-f179-37b578bb6890"
   },
   "outputs": [
    {
     "name": "stdout",
     "output_type": "stream",
     "text": [
      "[1.91629073 1.22314355 1.51082562 1.         1.91629073 1.91629073\n",
      " 1.         1.91629073 1.        ]\n"
     ]
    }
   ],
   "source": [
    "# Here we will print the sklearn tfidf vectorizer idf values after applying the fit method\n",
    "# After using the fit function on the corpus the vocab has 9 words in it, and each has its idf value.\n",
    "\n",
    "print(vectorizer.idf_)"
   ]
  },
  {
   "cell_type": "code",
   "execution_count": 50,
   "metadata": {
    "id": "-CTiWHygxLjA",
    "outputId": "8d5a9cde-2c29-4afe-f7b4-1547e88dba4f"
   },
   "outputs": [
    {
     "data": {
      "text/plain": [
       "(4, 9)"
      ]
     },
     "execution_count": 50,
     "metadata": {},
     "output_type": "execute_result"
    }
   ],
   "source": [
    "# shape of sklearn tfidf vectorizer output after applying transform method.\n",
    "\n",
    "skl_output.shape"
   ]
  },
  {
   "cell_type": "code",
   "execution_count": 51,
   "metadata": {
    "id": "bDKEpbA-xLjD",
    "outputId": "87dafd65-5313-443f-8c6e-1b05cc8c2543"
   },
   "outputs": [
    {
     "name": "stdout",
     "output_type": "stream",
     "text": [
      "  (0, 8)\t0.38408524091481483\n",
      "  (0, 6)\t0.38408524091481483\n",
      "  (0, 3)\t0.38408524091481483\n",
      "  (0, 2)\t0.5802858236844359\n",
      "  (0, 1)\t0.46979138557992045\n"
     ]
    }
   ],
   "source": [
    "# sklearn tfidf values for first line of the above corpus.\n",
    "# Here the output is a sparse matrix\n",
    "\n",
    "print(skl_output[0])"
   ]
  },
  {
   "cell_type": "code",
   "execution_count": 84,
   "metadata": {
    "id": "3QWo34hexLjF",
    "outputId": "cdc04e08-989f-4bdc-dd7f-f1c82a9f90be"
   },
   "outputs": [
    {
     "name": "stdout",
     "output_type": "stream",
     "text": [
      "[[0.         0.46979139 0.58028582 0.38408524 0.         0.\n",
      "  0.38408524 0.         0.38408524]]\n"
     ]
    }
   ],
   "source": [
    "# sklearn tfidf values for first line of the above corpus.\n",
    "# To understand the output better, here we are converting the sparse output matrix to dense matrix and printing it.\n",
    "# Notice that this output is normalized using L2 normalization. sklearn does this by default.\n",
    "\n",
    "print(skl_output[0].toarray())"
   ]
  },
  {
   "cell_type": "code",
   "execution_count": 87,
   "metadata": {},
   "outputs": [
    {
     "data": {
      "text/plain": [
       "<4x9 sparse matrix of type '<class 'numpy.float64'>'\n",
       "\twith 21 stored elements in Compressed Sparse Row format>"
      ]
     },
     "execution_count": 87,
     "metadata": {},
     "output_type": "execute_result"
    }
   ],
   "source": [
    "skl_output"
   ]
  },
  {
   "cell_type": "markdown",
   "metadata": {
    "id": "qfIwx5LzxLjI"
   },
   "source": [
    "### Your custom implementation"
   ]
  },
  {
   "cell_type": "code",
   "execution_count": 56,
   "metadata": {},
   "outputs": [],
   "source": [
    "corpus = [\n",
    "     'this is the first document',\n",
    "     'this document is the second document',\n",
    "     'and this is the third one',\n",
    "     'is this the first document',\n",
    "]"
   ]
  },
  {
   "cell_type": "code",
   "execution_count": 53,
   "metadata": {
    "id": "HjuCcJwXxLjJ"
   },
   "outputs": [],
   "source": [
    "# Write your code here.\n",
    "# Make sure its well documented and readble with appropriate comments.\n",
    "# Compare your results with the above sklearn tfidf vectorizer\n",
    "# You are not supposed to use any other library apart from the ones given below\n",
    "\n",
    "from collections import Counter\n",
    "from tqdm import tqdm\n",
    "from scipy.sparse import csr_matrix\n",
    "import math\n",
    "import operator\n",
    "from sklearn.preprocessing import normalize\n",
    "import numpy as np\n",
    "\n",
    "def IDF(corpus, unique_words):\n",
    "    idf_dict={}\n",
    "    N=len(corpus)\n",
    "    for i in unique_words:\n",
    "        count=0\n",
    "        for sen in corpus:\n",
    "            if i in sen.split():\n",
    "                count=count+1\n",
    "            idf_dict[i]=(math.log((1+N)/(count+1)))+1\n",
    "    return idf_dict \n"
   ]
  },
  {
   "cell_type": "code",
   "execution_count": 61,
   "metadata": {
    "scrolled": true
   },
   "outputs": [
    {
     "name": "stdout",
     "output_type": "stream",
     "text": [
      "['this', 'is', 'the', 'first', 'document']\n",
      "['this', 'document', 'is', 'the', 'second', 'document']\n",
      "['and', 'this', 'is', 'the', 'third', 'one']\n",
      "['is', 'this', 'the', 'first', 'document']\n"
     ]
    }
   ],
   "source": [
    "for i in corpus:\n",
    "    print(i.split())"
   ]
  },
  {
   "cell_type": "code",
   "execution_count": 54,
   "metadata": {},
   "outputs": [
    {
     "name": "stdout",
     "output_type": "stream",
     "text": [
      "['and', 'document', 'first', 'is', 'one', 'second', 'the', 'third', 'this']\n",
      "{'and': 0, 'document': 1, 'first': 2, 'is': 3, 'one': 4, 'second': 5, 'the': 6, 'third': 7, 'this': 8}\n"
     ]
    }
   ],
   "source": [
    "def fit(whole_data):\n",
    "    unique_words = set()\n",
    "    if isinstance(whole_data, (list,)):\n",
    "          for x in whole_data:\n",
    "            for y in x.split():\n",
    "              if len(y)<2:\n",
    "                continue\n",
    "              unique_words.add(y)\n",
    "          unique_words = sorted(list(unique_words))\n",
    "          print(unique_words)\n",
    "          vocab = {j:i for i,j in enumerate(unique_words)}\n",
    "          print(vocab)\n",
    "          Idf_values_of_all_unique_words=IDF(whole_data,unique_words)\n",
    "    return vocab, Idf_values_of_all_unique_words\n",
    "Vocabulary, idf_of_vocabulary=fit(corpus) "
   ]
  },
  {
   "cell_type": "code",
   "execution_count": 70,
   "metadata": {},
   "outputs": [
    {
     "data": {
      "text/plain": [
       "{'this': 4,\n",
       " 'is': 4,\n",
       " 'the': 4,\n",
       " 'first': 2,\n",
       " 'document': 4,\n",
       " 'second': 1,\n",
       " 'and': 1,\n",
       " 'third': 1,\n",
       " 'one': 1}"
      ]
     },
     "execution_count": 70,
     "metadata": {},
     "output_type": "execute_result"
    }
   ],
   "source": [
    "worddict"
   ]
  },
  {
   "cell_type": "code",
   "execution_count": 55,
   "metadata": {},
   "outputs": [
    {
     "data": {
      "text/plain": [
       "{'and': 1.916290731874155,\n",
       " 'document': 1.2231435513142097,\n",
       " 'first': 1.5108256237659907,\n",
       " 'is': 1.0,\n",
       " 'one': 1.916290731874155,\n",
       " 'second': 1.916290731874155,\n",
       " 'the': 1.0,\n",
       " 'third': 1.916290731874155,\n",
       " 'this': 1.0}"
      ]
     },
     "execution_count": 55,
     "metadata": {},
     "output_type": "execute_result"
    }
   ],
   "source": [
    "idf_of_vocabulary"
   ]
  },
  {
   "cell_type": "code",
   "execution_count": 82,
   "metadata": {},
   "outputs": [],
   "source": [
    "worddict={}\n",
    "words=[]\n",
    "def computeTf(corpus):\n",
    "    for i in corpus:\n",
    "        words.append(i)\n",
    "        word_list=i.split()\n",
    "        for j in word_list:\n",
    "            if j in worddict:\n",
    "                worddict[j]+=1\n",
    "            else:\n",
    "                worddict[j]=1\n",
    "computeTf(corpus)"
   ]
  },
  {
   "cell_type": "code",
   "execution_count": 83,
   "metadata": {},
   "outputs": [
    {
     "data": {
      "text/plain": [
       "{'this': 4,\n",
       " 'is': 4,\n",
       " 'the': 4,\n",
       " 'first': 2,\n",
       " 'document': 4,\n",
       " 'second': 1,\n",
       " 'and': 1,\n",
       " 'third': 1,\n",
       " 'one': 1}"
      ]
     },
     "execution_count": 83,
     "metadata": {},
     "output_type": "execute_result"
    }
   ],
   "source": [
    "worddict"
   ]
  },
  {
   "cell_type": "code",
   "execution_count": 94,
   "metadata": {
    "scrolled": true
   },
   "outputs": [
    {
     "name": "stdout",
     "output_type": "stream",
     "text": [
      "NORM FORM\n",
      "   (0, 1)\t0.4697913855799205\n",
      "  (0, 2)\t0.580285823684436\n",
      "  (0, 3)\t0.3840852409148149\n",
      "  (0, 6)\t0.3840852409148149\n",
      "  (0, 8)\t0.3840852409148149\n",
      "  (1, 1)\t0.6876235979836937\n",
      "  (1, 3)\t0.2810886740337529\n",
      "  (1, 5)\t0.5386476208856762\n",
      "  (1, 6)\t0.2810886740337529\n",
      "  (1, 8)\t0.2810886740337529\n",
      "  (2, 0)\t0.511848512707169\n",
      "  (2, 3)\t0.267103787642168\n",
      "  (2, 4)\t0.511848512707169\n",
      "  (2, 6)\t0.267103787642168\n",
      "  (2, 7)\t0.511848512707169\n",
      "  (2, 8)\t0.267103787642168\n",
      "  (3, 1)\t0.4697913855799205\n",
      "  (3, 2)\t0.580285823684436\n",
      "  (3, 3)\t0.3840852409148149\n",
      "  (3, 6)\t0.3840852409148149\n",
      "  (3, 8)\t0.3840852409148149\n",
      "(4, 9)\n"
     ]
    },
    {
     "name": "stderr",
     "output_type": "stream",
     "text": [
      "C:\\Users\\TanishSharma\\anaconda3\\envs\\wf\\lib\\site-packages\\ipykernel_launcher.py:8: SparseEfficiencyWarning: Changing the sparsity structure of a csr_matrix is expensive. lil_matrix is more efficient.\n",
      "  \n"
     ]
    }
   ],
   "source": [
    "def transform(dataset,vocabulary,idf_values):\n",
    "    sparse_matrix= csr_matrix( (len(dataset), len(vocabulary)), dtype=np.float64)\n",
    "    for row  in range(0,len(dataset)):\n",
    "        number_of_words_in_sentence=Counter(dataset[row].split())\n",
    "        for word in dataset[row].split():\n",
    "            if word in  list(vocabulary.keys()):\n",
    "                tf_idf_value=(number_of_words_in_sentence[word]/len(dataset[row].split()))*(idf_values[word])\n",
    "                sparse_matrix[row,vocabulary[word]]=tf_idf_value\n",
    "    print(\"NORM FORM\\n\",normalize(sparse_matrix, norm='l2', axis=1, copy=True, return_norm=False))\n",
    "    output =normalize(sparse_matrix, norm='l2', axis=1, copy=True, return_norm=False)\n",
    "    return output\n",
    "final_output=transform(corpus,Vocabulary,idf_of_vocabulary)\n",
    "print(final_output.shape) "
   ]
  },
  {
   "cell_type": "code",
   "execution_count": 89,
   "metadata": {},
   "outputs": [
    {
     "name": "stdout",
     "output_type": "stream",
     "text": [
      "[[0.         0.46979139 0.58028582 0.38408524 0.         0.\n",
      "  0.38408524 0.         0.38408524]]\n"
     ]
    }
   ],
   "source": [
    "print(skl_output[0].toarray())"
   ]
  },
  {
   "cell_type": "markdown",
   "metadata": {
    "id": "MMxBmVZExLjK"
   },
   "source": [
    "## Task-2"
   ]
  },
  {
   "cell_type": "markdown",
   "metadata": {
    "id": "51j_OtqAxLjL"
   },
   "source": [
    "<font face='georgia'>\n",
    "    <h4><strong>2. Implement max features functionality:</strong></h4>\n",
    "\n",
    "<ul>\n",
    "    <li> As a part of this task you have to modify your fit and transform functions so that your vocab will contain only 50 terms with top idf scores.</li>\n",
    "    <br>\n",
    "    <li>This task is similar to your previous task, just that here your vocabulary is limited to only top 50 features names based on their idf values. Basically your output will have exactly 50 columns and the number of rows will depend on the number of documents you have in your corpus.</li>\n",
    "    <br>\n",
    "    <li>Here you will be give a pickle file, with file name <strong>cleaned_strings</strong>. You would have to load the corpus from this file and use it as input to your tfidf vectorizer.</li>\n",
    "    <br>\n",
    "    <li>Steps to approach this task:\n",
    "    <ol>\n",
    "        <li> You would have to write both fit and transform methods for your custom implementation of tfidf vectorizer, just like in the previous task. Additionally, here you have to limit the number of features generated to 50 as described above.</li>\n",
    "        <li> Now sort your vocab based in descending order of idf values and print out the words in the sorted voacb after you fit your data. Here you should be getting only 50 terms in your vocab. And make sure to print idf values for each term in your vocab. </li>\n",
    "        <li> Make sure the output of your implementation is a sparse matrix. Before generating the final output, you need to normalize your sparse matrix using L2 normalization. You can refer to this link https://scikit-learn.org/stable/modules/generated/sklearn.preprocessing.normalize.html </li>\n",
    "        <li> Now check the output of a single document in your collection of documents,  you can convert the sparse matrix related only to that document into dense matrix and print it. And this dense matrix should contain 1 row and 50 columns. </li>\n",
    "        </ol>\n",
    "    </li>\n",
    "    <br>\n",
    "   </ul>"
   ]
  },
  {
   "cell_type": "code",
   "execution_count": 95,
   "metadata": {
    "id": "NHxPLlwNxLjL",
    "outputId": "9abd8e08-0e24-4975-9a13-4d3636d60323"
   },
   "outputs": [
    {
     "name": "stdout",
     "output_type": "stream",
     "text": [
      "Number of documents in corpus =  746\n"
     ]
    }
   ],
   "source": [
    "# Below is the code to load the cleaned_strings pickle file provided\n",
    "# Here corpus is of list type\n",
    "\n",
    "import pickle\n",
    "with open('cleaned_strings', 'rb') as f:\n",
    "    corpus = pickle.load(f)\n",
    "    \n",
    "# printing the length of the corpus loaded\n",
    "print(\"Number of documents in corpus = \",len(corpus))"
   ]
  },
  {
   "cell_type": "code",
   "execution_count": 96,
   "metadata": {
    "collapsed": true
   },
   "outputs": [
    {
     "data": {
      "text/plain": [
       "['slow moving aimless movie distressed drifting young man',\n",
       " 'not sure lost flat characters audience nearly half walked',\n",
       " 'attempting artiness black white clever camera angles movie disappointed became even ridiculous acting poor plot lines almost non existent',\n",
       " 'little music anything speak',\n",
       " 'best scene movie gerardo trying find song keeps running head',\n",
       " 'rest movie lacks art charm meaning emptiness works guess empty',\n",
       " 'wasted two hours',\n",
       " 'saw movie today thought good effort good messages kids',\n",
       " 'bit predictable',\n",
       " 'loved casting jimmy buffet science teacher',\n",
       " 'baby owls adorable',\n",
       " 'movie showed lot florida best made look appealing',\n",
       " 'songs best muppets hilarious',\n",
       " 'cool',\n",
       " 'right case movie delivers everything almost right face',\n",
       " 'average acting main person low budget clearly see',\n",
       " 'review long overdue since consider tale two sisters single greatest film ever made',\n",
       " 'put gem movie terms screenplay cinematography acting post production editing directing aspect film making',\n",
       " 'practically perfect true masterpiece sea faux masterpieces',\n",
       " 'structure film easily tightly constructed history cinema think no film something vitally important occurs every minute words content level film enough easily fill dozen films anyone right mind ask anything movie quite simply highest superlative form cinema imaginable yes film require rather significant amount puzzle solving pieces fit together create beautiful picture short film certainly pulls no punches graphics far best part game number one best th game series deserves strong love insane game massive levels massive unlockable characters massive game waste money game kind money wasted properly actually graphics good time today graphics crap say canada fun game aye game rocks buy play enjoy love pure brilliance flick doomed conception idea lame take minor character mediocre film make complete non sequel changing tone pg rated family movie not least bit interested not confirm film would unfunny generic also managed give away entire movie not exaggerating every moment every plot point every joke told trailer not funny even talented carrell not save co stars not fare much better people like morgan freeman jonah hill ed helms wasted story predictable lazy real effects work presence animals integration scenes worst obvious blue green screen work ever seen whatever cost much not translate quality sure film succeeds despite perhaps obviously meagre budget glad film not go obvious choice lesser film certainly would addition one lovely songs ever written french cancan also boasts one cutest leading ladies ever grace screen hard not fall head heels love girl negative insipid enough cause regret another hours life wasted front screen long whiny pointless recommend waiting future efforts let one go excellent cast story line performances totally believable anne heche utterly convincing sam shepard portrayal gung ho marine sobering sat riveted tv screen give one resounding think tom hanks good actor enjoyed reading book children little disappointed movie one character totally annoying voice gives feeling fingernails chalkboard totally unnecessary train roller coaster scene absolutely no warmth charm scenes characters movie totally grates nerves performances not improved improvisation actors twice much worry not whether delivering line well whether line good quite honestly often not good often dialogue not really follow one line another fit surroundings crackles unpredictable youthful energy honestly found hard follow concentrate meanders badly generally great things would not say worth hours time though suspense builders good cross line g pg especially liked non cliche choices parents movies could predict dialog verbatim writing movie made better selections want movie not gross gives chills great choice alexander nevsky great film amazing film artist one important whoever lived glad pretentious piece not planned dodge stratus big shots gonna help movie makers not restrained movie business qu bec',\n",
       " 'first movie given years',\n",
       " 'ever movie needed word mouth promote',\n",
       " 'overall film interesting thought provoking',\n",
       " 'plus well paced suited relatively short run time',\n",
       " 'give one look',\n",
       " 'gave',\n",
       " 'wind lion well written superbly acted',\n",
       " 'true classic',\n",
       " 'actually turned pretty decent far b list horror suspense films go',\n",
       " 'definitely worth checking',\n",
       " 'problem script',\n",
       " 'horrendous',\n",
       " 'nothing believable',\n",
       " 'suspense feeling frustration retarded girls',\n",
       " 'manna heaven terrific film predictable unpredictable time',\n",
       " 'scenes often funny occasionally touching characters evaluate lives going',\n",
       " 'cast veteran actors nostalgia trip',\n",
       " 'ursula burton portrayal nun touching funny time making fun nuns church',\n",
       " 'looking movie terrific cast good music including shirley jones rendition way look tonight uplifting ending give one try',\n",
       " 'not think disappointed',\n",
       " 'frankly cotton club unfaithful kind embarrassing watch lane gere film bad',\n",
       " 'acting bad dialogs extremely shallow insincere',\n",
       " 'predictable even chick flick',\n",
       " 'politically correct',\n",
       " 'disappointing',\n",
       " 'thing really worth watching scenery house beautiful',\n",
       " 'love lane never seen movie lousy',\n",
       " 'hour half wish could bring back',\n",
       " 'terms writing fresh bold',\n",
       " 'acting helps writing along well maybe idiot savant sister could played better real joy watch',\n",
       " 'directing cinematography not quite good',\n",
       " 'movie boring sometimes found occupied peaking paper instead watching never happened columbo movie',\n",
       " 'sometimes embarrassing look away',\n",
       " 'directing seems pretentious',\n",
       " 'scenes oh mature neighbour girl misplace',\n",
       " 'generally lines plot weaker average episode',\n",
       " 'scene debated whether not sack trumpeter falsely accused murder pure horror really stupid',\n",
       " 'applause given prelude however',\n",
       " 'really liked',\n",
       " 'great film great director',\n",
       " 'movie edge seat made somewhat afraid go car end night',\n",
       " 'music film really nice',\n",
       " 'would advise anyone go see',\n",
       " 'brilliant',\n",
       " 'liked movie way much',\n",
       " 'problem thought actor playing villain low rent michael ironside',\n",
       " 'rocked world certainly must see anyone no social physical outlets',\n",
       " 'however not make fact overall tremendously boring movie',\n",
       " 'no chemistry ben affleck sandra bullock film could not understand would consider even leaving wife chick supposedly knocked',\n",
       " 'several moments movie not need excruciatingly slow moving',\n",
       " 'poor remake best friends wedding',\n",
       " 'great disappointment',\n",
       " 'cannot believe actors agreed film',\n",
       " 'could not stand even watch long fear losing q',\n",
       " 'guess nobody network aired dribble watched putting',\n",
       " 'imdb ratings go low awful time get negative numbers cases',\n",
       " 'saw mirrormask last night unsatisfactory experience',\n",
       " 'unfortunately inexperience direction meant scene scene passed little way dramatic tension conflict',\n",
       " 'central themes film handled ineptly stereotypically no depth imagination',\n",
       " 'pretty pictures world cannot make piece work flawed core',\n",
       " 'hour half waste time following bunch pretty high schoolers whine cry life',\n",
       " 'not relate hell barely understand',\n",
       " 'definitely cult classic well worth viewing sharing others',\n",
       " 'movie pure disaster story stupid editing worst seen confuses incredibly',\n",
       " 'fish badly made underwater shots repeated thousand times film',\n",
       " 'truly truly bad film',\n",
       " 'acting terrible writing worse',\n",
       " 'possible way movie could redeemed would fodder',\n",
       " 'paid much',\n",
       " 'also real treat see anthony quinn playing crazy horse',\n",
       " 'boring',\n",
       " 'no plot whatsoever',\n",
       " 'no plot',\n",
       " 'horrible',\n",
       " 'worst hour half life oh gosh',\n",
       " 'walk theatre minutes get relief',\n",
       " 'hate movies like',\n",
       " 'yeah movie pretty much sucked',\n",
       " 'no plot storyline',\n",
       " 'go see movie bring pillow girlfriend boyfriend keep occupied',\n",
       " 'awful',\n",
       " 'not think ever gone movie disliked much',\n",
       " 'good thing tickets cost five dollars would mad would paid see crap',\n",
       " 'nobody identifies characters cardboard cutouts stereotypes predictably reverse stereotypes',\n",
       " 'bad film bad writing good actors ugly cartoon crafted paul haggis people not handle anything bold strokes storytelling picture painted crayons',\n",
       " 'crash depressing little nothing provokes emotion teaches nothing already know racism prejudice bad things',\n",
       " 'still like movie empowerment women not enough movies like one',\n",
       " 'brain attempt shut part primal impulse self preservation',\n",
       " 'left shattered experience watching film took good two hours fully recover',\n",
       " 'movie joins revenge boogeyman zombiez part hellish trinity horror films',\n",
       " 'certainly not mean distinction good way',\n",
       " 'mean terrible way',\n",
       " 'film no redeeming features',\n",
       " 'everything appalling',\n",
       " 'artless camera work endlessly presents us ugliest setting imaginable e',\n",
       " 'story beyond stupid',\n",
       " 'script script',\n",
       " 'kids annoying',\n",
       " 'lead man charisma free',\n",
       " 'utterly without merit level akin torture',\n",
       " 'even say torture',\n",
       " 'maybe would reasonable explanation atrocity',\n",
       " 'not pleasant voyage self discovery',\n",
       " 'highly unrecommended',\n",
       " 'premise sound stupid',\n",
       " 'yes bad',\n",
       " 'nothing recommend',\n",
       " 'excellent performance ms',\n",
       " 'garbo showed right bat talents could carry silent era wanted see silent work netflix not seem stocking',\n",
       " 'also great see renowned silent screenwriter frances marion not missed step going silent sound',\n",
       " 'movie suffered writing needed suspense',\n",
       " 'many close ups',\n",
       " 'movie seemed drag heroes not really work freedom',\n",
       " 'movie definitely average rent',\n",
       " 'love movie bad bad film way long definitely one bad ones movie received great quality film age john wayne incredible job young movie industry screen presence shined thought even though senior actors screen think must see older john wayne film really not see anyone could enjoy movie not think ever seen movie half boring self indulgent piece junk probably would better director not spent movie showcasing art work really not noteworthy another thing not really like character got punched face gallon blood would spew forth soon jamie foxx absolutely ray charles performance simply genius owns film spacek owned coal miner daughter quaid owned great balls fire',\n",
       " 'fact hard remember part ray charles acted not played man ray charles legendary ray charles life provided excellent biographical material film goes well beyond another movie musician hitchcock great director ironically mostly find films total waste time watch secondly hitchcock pretty much perfected thriller chase movie pandering audience sabotages films hence whole story lacks certain energy plot simply rumbles like machine desperately depending addition new scenes usual hitchcock logic flaws mishima extremely uninteresting chilly unremarkable movie author living working chilly abstruse culture flat reenactments not hold attention emotionally adrift stagy rest sits awful soldiers singing songs masculinity pledge hairsplitting purity admiration swords etc bore pieces kill momentum movie quicker anyone else schrader made resume full lousy amateurish films first watched movie loved totally fascinated music dancing everything however recently watched whole thing dvd completely struck extremely stupid storyline contained holes inconsistencies frankly whole lot crap horrid dancing mean realistic world would never gotten ballet repertory whole thing quite pathetic character developments also lacked depth woa talk awful not waste time horrible worst sappiest dialogue could go really made unwatchable direction poor actors not even tell talent not pathetic lines speak director gave no action check director filmography site see film not chance would not even good made tv flick good intentions made film great film might one greatest films ever made film great actors master director significant theme least would significant theme undertone fifties existential world weariness aerial scenes ought thrilled senses imagination characters one might deeply care regrettably film fails movie lacks visual interest drama expression feeling celebration patriotism underlines narrative no actress worse used june allison movie yet enjoy watching unfortunately bad movie plain bad bad script bad direction horrible acting make one plain bad dialogue sucked cinematography called sucked soundtrack sucked acting sucked concert sequences sucked nice funny funny overall movie cheap trash movie not funny considering ridiculousness came feeling angry spoilers whatever else not said surface superbly crafted cinematography simply stunning say least fx nothing not state art conceptually show offers little bit everything everybody parents kids fantasy fx fans not single sour note struck acting wise either surprisingly solid casting things considered job well done thanks good movie like done released one best mexican movies ever one less understood even mexican no matter identified felt ranks highly great noir crime drama incredible performances belmondo lino ventura attention given every character complex psychological portrayals detailing loyalty treachery love hope tremendous excellent drama excellent thriller excellent film best melville everything film simply incredible truly take journey eyes soul child black water thriller manages completely transcend limitations indie flick continually subverting expectations emerge intense experience performances real gripping crocdodile extremely well done indeed black water website believed used real crocs swamp location fabulous thoroughly enjoyed christopher eccleston took control tardis continuation series not sure trying film turn good day feeling night disturbing memories guess succeeded lot beautiful places forced like everything movie lame movie really pi ed not even get started jerky camerawork saw theater thought going sick summary witticisms not witty plot well said would let one go acting bad really bad even billy bob could not rise script worse camerawork bad rating amazing finale possibly best trilogy time kieslowski never ceases amaze one favourite directors one talented directors history cinema use colours french flag three films nothing short incredible every shot every scene like work art three visually appealing movies ever seen subtle connections three films awesome mention huge spoiler loved ending characters three films remaining survivors ferry disaster valentine young judge together old man watching tv solidifying happiness suffering dealt many years could not think better way end film smile face great way wrap amazing film trilogy recommend everyone loves film movies anything work art movie trilogy literally vomited watching film think one people found another one roth pearls performance awarded stunning story told eloquently francis ford coppola years earlier really unfolds gradually leaves room characters develop wonderful location lies story contrast beautiful directed film nicola roeg wih sublime cast translating movies living first movie working experience found offensive intelligence someone strives greatness poetry delivers muddled often ridiculous story bunch disparate scenes pretentious dialogue get worst kind movie reviewer accurately defined pretentious crap',\n",
       " 'find movie intelligent even masterful say intelligence imagination obviously used try make sense pitiful attempt human nature try make sense things',\n",
       " 'one thing tolerate political incorrectness well artistic freedom suspension disbelief slavic female character much',\n",
       " 'fun funny movie',\n",
       " 'highly entertaining angles',\n",
       " 'features outlandish array memorable psychotic lovable nuts',\n",
       " 'enjoyment get see run around play games dangerous',\n",
       " 'even sweet moments',\n",
       " 'telephone repair man really funny reactions nuts bitchy boss truly genuine',\n",
       " 'characters film tremendously well played',\n",
       " 'really find funny',\n",
       " 'actually smart movie',\n",
       " 'brilliant twist ending',\n",
       " 'love ending perfect shed tear thrilled seeing movie like never forget not cult cult classic depth character man underneath malta settings dry barren dialogue movie terrible hockey scenes terrible defensemen playing like years old goalies diving shots feet wide net etc not seen not waste time call movie drama ridiculous started watching not believe characters particular relationship bakery assistant waitress not work superficial movie gave feeling watching play rather film characters istagey storyline lot like stage farce time pyromaniac waylaid assistant bored not care happened next switched glad not pay see not laugh even smile not anything one big yawn really good show watch educational children years old barney definitely super de duper pretty funny babie bop cute kids cool storm trooper not even bad enough make list wonderfully terrible movies',\n",
       " 'lame',\n",
       " 'guy said better dialogue potted plants right',\n",
       " 'everything movie stupid',\n",
       " 'even love bad movies not watch movie',\n",
       " 'shameful',\n",
       " 'would give television series plus could',\n",
       " 'writers smack think best actors actresses bonus show characters real',\n",
       " 'must say taped episodes find watching',\n",
       " 'know gave',\n",
       " 'not know exactly movie latched endearing movie become special part family memories',\n",
       " 'totally absolutely recommend movie anyone likes good wholesome family movies exactly',\n",
       " 'things four kids get absolutely hilarious watch',\n",
       " 'one best movies shows strong sibling bond',\n",
       " 'much interesting action suspense less unneeded controversy',\n",
       " 'everything acting cinematography solid',\n",
       " 'definitely worth checking',\n",
       " 'damian talented versatile many ways writing portraying different characters screen',\n",
       " 'movie cutting edge',\n",
       " 'pleased know modern day genius letting passion art drive taking us audience',\n",
       " 'new characters not memorable found forgetting',\n",
       " 'felt though going ireland absolutely nothing whatsoever',\n",
       " 'not make scared horrified make sympathetic towards characters simply annoying',\n",
       " 'jerky camera movements also annoying',\n",
       " 'plot pretty much every cheap horror',\n",
       " 'pathetic attempts give characters depth not really work rest plot',\n",
       " 'guess supposed clever twist shed light situation stupid',\n",
       " 'see probably leave shelf',\n",
       " 'elias koteas jack palance play good roles angelina hot gets naked billy drago appears cool usual cameo sven ole thorsen helps make enjoyable movie good acting decent budget',\n",
       " 'awesome movie bought ebay',\n",
       " 'really loved story line poler bear kinda cute anyone question fort steele ask away',\n",
       " 'totally unfunny movie top pathetic unrealistic throughout whole minutes utter torture probably looked watch times',\n",
       " 'lucy bell much higher crap sink low quite depressing',\n",
       " 'movie make sick watching slackers make excuses stupid actions minutes',\n",
       " 'god never get minutes back',\n",
       " 'think wonderful parts literally full wonder excerpts works',\n",
       " 'sets especially designed work camera amazing stylized beautiful effective',\n",
       " 'could used exemplars set designer',\n",
       " 'stories powerful explorations nature man art',\n",
       " 'watching film wanted learn works artist',\n",
       " 'highly recommend movie anyone interested art poetry theater politics japanese history',\n",
       " 'wind lion see wonderful rendering america imperial age',\n",
       " 'makes story different terrific production values faultless photography composition editing terrific casting underappreciated brian keith playing bully teddy vivid history',\n",
       " 'though wind lion told largely eyes son every member family identify one characters whether sean connery noble brigand candace bergen feisty heroine john huston wily john hay steve kanaly spiffy radiant ruthless lieutenant roosevelt big stick',\n",
       " 'high adventure best',\n",
       " 'think robert ryans best film portrayed someone like father schizophrenic real life father although never murdered anyone affected second world war made worse',\n",
       " 'humour get get day apt',\n",
       " 'mother brother saw robert ryan portraying type man good imitation type individual impressed',\n",
       " 'almost songs cover girl old fashioned not tuneful',\n",
       " 'annoying thing cover girl way rita hayworth put pedestal',\n",
       " 'unfortunately cover girl example hollywood used exploit women financial gain',\n",
       " 'non linear narration thus many flashbacks every part articulated quite well',\n",
       " 'good cinematography also makes monica bellucci look beautiful',\n",
       " 'good commentary today love undoubtedly film worth seeing',\n",
       " 'people first timers film making think excellent job',\n",
       " 'popular cinema good house good reactions plenty laughs',\n",
       " 'feel good film felt came cinema',\n",
       " 'northern humour positive community represents',\n",
       " 'rather enjoyed',\n",
       " 'liked',\n",
       " 'could not take seriously',\n",
       " 'really created unique feeling though',\n",
       " 'vivian schilling excellent job script',\n",
       " 'world better garbage theatres today',\n",
       " 'role played well',\n",
       " 'not screamy not masculine right',\n",
       " 'camera really likes movie',\n",
       " 'would casted role ready script',\n",
       " 'european movie nice throwback time student experiences living abroad interacting nationalities although circumstances slightly different',\n",
       " 'fan movie sucked really bad',\n",
       " 'even worse ticker',\n",
       " 'movie bad',\n",
       " 'like buildings used couple locations maybe poor hummh',\n",
       " 'blew',\n",
       " 'movie excellent angel beautiful scamp adorable little yelps hes scared funniest parts scamp caught curtain angel scamp singing ive never feeling totally recommend movie coming special edition june cover scamp garbage angel underneath lid',\n",
       " 'cant explain movie romantic charming hilarious adorable junkyard scenes funny junkyard dogs something special funny laughed kids love buy comes new features',\n",
       " 'chosen tortured disgusting piece blatant american propaganda',\n",
       " 'show made americans stupid full hatred clich admitted elsewhere',\n",
       " 'almost everyone involved must return school acting utterly predictable bad script pile garbage round',\n",
       " 'wish could enter negative values admins',\n",
       " 'sets bad would not look place thunderbirds episode',\n",
       " 'use slow motion needlessly repeats throughout movie well backed bad acting bad kind word no continuity scenes thrown no reason whatsoever vehicles looked like made corn flakes box directorial style bordered stupidity',\n",
       " 'oh yeah storyline pathetic',\n",
       " 'hate writing bad reviews films especially really like star film bad not believe one second anyone could proud',\n",
       " 'not filmmaker nor director would hide head sand would spent whatever amount money time movie',\n",
       " 'short monumental waste time energy would not recommend anyone ever see film',\n",
       " 'came free dvd player bought still turned thing halfway embarrassed howell',\n",
       " 'no setting',\n",
       " 'interesting premise billy drago always good dangerous nut bag side note would love see drago stephen mchattie lance hendrikson flick together talk raging cheekbones',\n",
       " 'soundtrack not terrible either',\n",
       " 'acting even professionals drago debbie rochon terrible directing worse perhaps contributory former dialog chimp like camera work barely tolerable',\n",
       " 'still sets got big oy vey scale',\n",
       " 'yes simplifying things sake brevity really core problems film much going without real fulfilling explanation',\n",
       " 'good jobs quite amusing',\n",
       " 'convoluted plot not convince much film watched weird questioning glance',\n",
       " 'let girlfriend talk seeing bad idea hated',\n",
       " 'last minutes movie also not bad well',\n",
       " 'bela lugosi totally extraneous intoning odd lines',\n",
       " 'acting decidely wooden though no worse period universal b movie',\n",
       " 'like armand assante cable company summary sounded interesting watched twice already probably',\n",
       " 'believe screenwriter good job tying loose ends',\n",
       " 'score mostly plot',\n",
       " 'not say not like spoilers not want one believe film worth time',\n",
       " 'wow bad film',\n",
       " 'not frightening least barely comprehensible',\n",
       " 'plot not hang together acting absolutely appalling',\n",
       " 'not even good camp value',\n",
       " 'not expecting oscar material',\n",
       " 'would iq particularly stupid mollusk not see one coming',\n",
       " 'film use word loosely insult movie going public',\n",
       " 'someone involved knew string together narrative',\n",
       " 'gets simply nothing lower',\n",
       " 'one not watched recently fox movie channel disappointed',\n",
       " 'know contract player little control scripts acting bad script',\n",
       " 'victor mclaglen even bad brian donlevy almost unrecognizable',\n",
       " 'considering relations screen taylor stanwyck surprising little chemistry screen two',\n",
       " 'premise film ridiculous president u',\n",
       " 'death row scenes entirely unmoving',\n",
       " 'thing worse taylor acting stanwyck singing',\n",
       " 'whatever producer going missed entirely',\n",
       " 'deeply impressed character played',\n",
       " 'knew saw film great things come gifted actor',\n",
       " 'cheap cheerless heist movie poor characterisation lots underbite style stoic emoting think chow yun fat better tomorrow cheesy clich thrown abandoned factory ready poorly executed flying judo rolls la john woo',\n",
       " 'even squibs look awful',\n",
       " 'no point proceedings look remotely like america',\n",
       " 'plot derivative predictable ending like mercy killing',\n",
       " 'awful dialogue hopeless overacting everyone gets shot top real waste space time',\n",
       " 'uneasy bad movie not scared',\n",
       " 'dialogue composed things make little sense',\n",
       " 'minutes footage wasted show mediocre elderly actors awkwardly babbling overwrought pseudo satanic gibberish corny enough make teen goth blush almost always olde english sometimes latin may may not made words',\n",
       " 'directing sloppy best',\n",
       " 'hackneyed writing certainly made even worse bad directing',\n",
       " 'course acting blah',\n",
       " 'acting whole cast could put scale balanced perfectly overacting underacting',\n",
       " 'finally get ending would great handled competent people not jerry falwell',\n",
       " 'loved movie great portrayal family share ups end knew special love',\n",
       " 'seen many movies starring jaclyn smith god one best though came years ago',\n",
       " 'movie contained star cast loved opened eyes see actors not seen',\n",
       " 'movie kind long length enjoyed every minute',\n",
       " 'overall rate movie scale',\n",
       " 'lifetime not air enough anyone knows store sells let know must',\n",
       " 'particularly remember senses assaulted strident cords music would blare little warning even less meaning',\n",
       " 'sort pap screened afternoon punish unemployed not jobs',\n",
       " 'totally different loads understatement black comedy film get see remember',\n",
       " 'movie creates universe fascinating every way',\n",
       " 'movie really got',\n",
       " 'see',\n",
       " 'really hope team behind movie makes movies continue kinda weird style',\n",
       " 'forgot casting superb trond fausa aurv g perfect role bothersome man not understand',\n",
       " 'movie good humorous comment life',\n",
       " 'found move beautiful enjoyable uplifting',\n",
       " 'initially local sites film filmed buffalo intrigued',\n",
       " 'later found lost power film',\n",
       " 'entire audience applauded conclusion film',\n",
       " 'left theater lilt step joy heart hope human race',\n",
       " 'duris wholesome appearance gives fine performance',\n",
       " 'rest cast also play well',\n",
       " 'cinematography noteworthy including fine views barcelona famed gaudi towers',\n",
       " 'ten minutes film started second thoughts',\n",
       " 'half way film started dislike',\n",
       " 'time film ended not disliked despised',\n",
       " 'film lacks convincing script',\n",
       " 'script looks rough draft written shooting began finished script completed',\n",
       " 'things happen characters personalities change plot twists occur no real reason script calls',\n",
       " 'cast good',\n",
       " 'worth checking',\n",
       " 'probably irritating show ever seen entire life',\n",
       " 'indescribably annoying idiotic show ever seen',\n",
       " 'everything bad',\n",
       " 'could not understand kind idiot would produce mess first place not mention several season',\n",
       " 'script bad bad contains cheesiness unethical joke normally see rated r movie',\n",
       " 'casting also horrible cause see really really bad actors period',\n",
       " 'final word show real torture',\n",
       " 'zillion times away reality',\n",
       " 'watching washing machine twirling around would not hurt eyes much show',\n",
       " 'rating grade z note show bad even mother cast pull daughter show',\n",
       " 'century fox road house not quite silly noir implausible unmitigated bore movie',\n",
       " 'full unconvincing cardboard characters blandly written edward chodorov also produced surprisingly directed jean negulesco one would expect great deal',\n",
       " 'widmark character turns unintentionally comical',\n",
       " 'losing marbles early proceedings totally implausible unconvincing',\n",
       " 'not enough mess movie picture also marred constant use studio sets indoor exteriors',\n",
       " 'whatever prompted documentary beyond',\n",
       " 'serious spoilers movie huge disappointment',\n",
       " 'many problems dont know start',\n",
       " 'cast great',\n",
       " 'steve martin delivers really funny performance middle aged upper class uptight white guy',\n",
       " 'add betty white jean smart great cast everyone played parts really well',\n",
       " 'movie makes lot serious mistakes',\n",
       " 'first enough racial stereotypes racial jokes offend everyone',\n",
       " 'movie littered overt racial slurs towards black cast members return whites depicted morons boobs',\n",
       " 'putting race card aside lets look major flaw film destroy latifa character',\n",
       " 'no real plot',\n",
       " 'wouldnt see movie free',\n",
       " 'steamboat willie amazingly important film cinema history',\n",
       " 'second appearance mickey mouse following silent plane crazy earlier year probably famous film mostly ground breaking',\n",
       " 'not yet hear mickey speak tons sound effects music throughout film something take granted huge crowd pleaser',\n",
       " 'however seeing short years amazed timeless film actually',\n",
       " 'adorable seeing mickey playing turkey straw highly imaginative occasionally cruel way',\n",
       " 'clever real crowd pleaser film still ranks among mickey best films even wonderful years',\n",
       " 'bipolarity ruthless thug one minute ruthless killer next minute luv diaper commercial completely unconvincing',\n",
       " 'terribly disappointed film would receive many awards accolades especially far deserving works film',\n",
       " 'original body soul masterpiece',\n",
       " 'john garfield ann revere lilli plmer william conrad canada lee filmed one greatest cinematographers ever grace screen james wong howe',\n",
       " 'not think redeeming qualities remake',\n",
       " 'may bad film ever made',\n",
       " 'bad well bad',\n",
       " 'movie solid example bad plot bad idea way',\n",
       " 'shame see good actors like thomerson james make living mess like',\n",
       " 'thought bad',\n",
       " 'films terrible credit version watchable',\n",
       " 'let start problems acting especially lead professor bad',\n",
       " 'script big flawed mess',\n",
       " 'best example dumb writing established turn zombie students back humans removing necklace containing piece meteorite',\n",
       " 'director paul matthews also wrote directed weak monster movie grim clearly not know pace films',\n",
       " 'movie terribly boring places',\n",
       " 'lighting awful',\n",
       " 'film looks cheap bland',\n",
       " 'one disappointing aspects lack notable gore',\n",
       " 'convention never worked well past certainly not work',\n",
       " 'visual effects awful',\n",
       " 'cg opening sequence space looked like could created microsoft slideshow god sake',\n",
       " 'explosion gas tanks end awful',\n",
       " 'okay like consider fair critic give credit credit due creature effects actually pretty cool',\n",
       " 'gotta love close ups slimy drooling teeth',\n",
       " 'sum film breeders terrible cheaply made horror movie avoided like ebola virus',\n",
       " 'not recommended',\n",
       " 'almost unbearable watch screen little no charisma terrible comedic timing',\n",
       " 'aside terrible lead film loads debits',\n",
       " 'understand supposed cheap popcorn comedy not mean completely insult intelligence writing incredibly hackneyed borders offensive',\n",
       " 'lewis black considerable talent wasted incendiary unrestrained rating certainly not allow',\n",
       " 'film sole bright spot jonah hill look almost unrecognizable fans recent superbad due amount weight lost interim',\n",
       " 'originality freshness first movie spent remake little else offer',\n",
       " 'budget evidently limited',\n",
       " 'reflected not cast also par script borrowed much earlier classic',\n",
       " 'however no decent acting action location work balance things',\n",
       " 'filmiing less expansive',\n",
       " 'failed convey broad sweep landscapes great part original',\n",
       " 'generally lacked imagination',\n",
       " 'not recommended',\n",
       " 'possible movie get worse',\n",
       " 'no plot keep going first place',\n",
       " 'even women finally show no sign improvement expected things happen time film might far asleep',\n",
       " 'beware not trashy cult movie trash period',\n",
       " 'not believe even sequel',\n",
       " 'precisely giving bad review',\n",
       " 'child truly enjoyed show proudly say enjoyed big time even classical wb cartoons',\n",
       " 'tiny toons kept vibe delivered one popular funny underrated cartoons ever created',\n",
       " 'memories murky say enjoyed every single episode product related show',\n",
       " 'easily none cartoon made laugh tender way getting dark sitcoms oriented teenagers',\n",
       " 'characters funny peculiarity not true lead character',\n",
       " 'every single character hilarious deserved called lead',\n",
       " 'every element story top excessively phony contrived painful sit',\n",
       " 'lines seem written fifteen year old though trying oh hard sound like fifteen year old would really um know well talk',\n",
       " 'perabo nice energy level obviously comfortable front camera',\n",
       " 'simply no excuse something poorly done',\n",
       " 'saw movie thought stupid movie',\n",
       " 'even stupid thought idea volcano los angeles',\n",
       " 'honest unbelievable nonsense foolish',\n",
       " 'conclusion not bother movie volcano los angeles nothing nonsense',\n",
       " 'story line awful',\n",
       " 'painful',\n",
       " 'accents absolutely abysmal',\n",
       " 'also enough hypocrisy film make vomit',\n",
       " 'not waste time watching rubbish non researched film',\n",
       " 'believe pitch black done well',\n",
       " 'characters interesting want find longer movie goes think people surprised not make',\n",
       " 'go watch',\n",
       " 'omit watching',\n",
       " 'funny',\n",
       " 'rating',\n",
       " 'characters interesting really care',\n",
       " 'instant classic great soundtrack catchy song ending credits',\n",
       " 'not miss',\n",
       " 'masterful piece film making many themes simmering occasionally boiling warts study poet bohemian self indulgent wartime years span aerial bombardments london outward tranquillity welsh coastal retreat borderlines friendship lust love dedication art experience versus practical concerns jealousy rivalry cowardice egotism versus heroism self sacrifice',\n",
       " 'mature subtle script suggests occasionally brings dramatic focus underlying tensions well served perfect performances apart odd inappropriate smiling keira knightley prone though perhaps direction time characters often mention',\n",
       " 'exquisite visual composition moment inventive elegant use close camera angle lighting including pointillistic faux home movie footage wonder joy behold',\n",
       " 'continuously beautiful look bertolucci relationships convincing narrative engaging master work',\n",
       " 'basic premise wasted since sidelined inexplicable focus documentary crew',\n",
       " 'regardless film fails levels',\n",
       " 'avoid costs',\n",
       " 'saw film christmas great film',\n",
       " 'thought errol flynn brilliant custer since become favourite actor',\n",
       " 'acting alongside olivia de havilland brilliant ending fantastic',\n",
       " 'always known errol flynn brilliant actor dads favourite actor grew watching films child',\n",
       " 'not watched film realised great actually',\n",
       " 'give film',\n",
       " 'know jim connor energetic nobody could much george well dull',\n",
       " 'really not seem want hosting voice overs monotonous not get involved guests',\n",
       " 'lovely little thriller hitchcock lots nice shenanigans surrounding murdered spy kidnapped child nasty church foreign plot random taxidermists',\n",
       " 'jimmy stewart ever great hero hitchcock story rips along cool climax embassy function lacks brooding menace hitchcock black white low budget original',\n",
       " 'nevertheless yet another wonderful film great master stable',\n",
       " 'say film excellently produced tops ratings typical sci fi film',\n",
       " 'excellently produced one sci fi best producers scot vandiver',\n",
       " 'entertaining nonetheless',\n",
       " 'campy sort film joy watch',\n",
       " 'barely boring moment film plenty humorous parts',\n",
       " 'cast always entertaining usual',\n",
       " 'overall delight',\n",
       " 'movie mind bendingly awful could not even created',\n",
       " 'film lacks real scares tension medical terminology used throughout bit iffy say least say insulin dependant diabetic',\n",
       " 'least said acting better',\n",
       " 'movie excellent job revealing complexity task incredible challenges facing south africa',\n",
       " 'believe every one see movie think people outside south africa understand past attempted truth reconciliation process',\n",
       " 'nothing short magnificent photography cinematography film',\n",
       " 'acting fantastic stories seamlessly woven together dogs splendid must rent view see',\n",
       " 'not afraid subtitles worth little aversion therapy',\n",
       " 'excellent performance',\n",
       " 'still good actors around',\n",
       " 'also great directing photography',\n",
       " 'true shakespear amust shakespear fans',\n",
       " 'macbeth jason connery moved tears final monolog brief candle gave sphere moral decay dark forces human face makes interesting',\n",
       " 'helen baxendale credible lady macbeth cheerfull times sometimes looks like naughty girl deadly taste blood evil',\n",
       " 'love death decay shakespears lyrics one',\n",
       " 'witty delightful adaptation dr seuss book brilliantly animated upa finest thoroughly deserving academy award',\n",
       " 'special mention made superb music score sound effects integral element helping make memorable enjoyable cartoon',\n",
       " 'however paul schrader indeed made film mishima superb complex',\n",
       " 'also notable john bailey fine crisp beautifully colored cinematography great production design costumes eiko ishioka went memorable costumes coppola dracula received well deserved oscar',\n",
       " 'even allowing poor production values time format kind mini series baaaaaad',\n",
       " 'unless visually collect extant films austen work skip one',\n",
       " 'watch however small consolations actresses playing anne sisters wonderful job roles',\n",
       " 'not good',\n",
       " 'speaking music unbearably predictably kitchy',\n",
       " 'film dropped ball',\n",
       " 'stunning movie',\n",
       " 'raw sublimely moving',\n",
       " 'felt like gripping intelligent stage play without overly theatrical feeling one actually gets watching people stage plays everyone terror white lie escalating monstrous consequences',\n",
       " 'main players mesmerising',\n",
       " 'tom wilkinson broke heart end everyone else judging amount fumbling hankies hands going faces among males females alike',\n",
       " 'julian fellowes triumphed',\n",
       " 'national treasure',\n",
       " 'go see',\n",
       " 'excellent film',\n",
       " 'aerial scenes well done',\n",
       " 'also right balance war love',\n",
       " 'film gives meaning phrase never history human conflict much owed many',\n",
       " 'kris kristoffersen good movie really makes difference',\n",
       " 'good film great director',\n",
       " 'definitely one better documentaries seen looking family relationships marriage',\n",
       " 'many continuity errors one user commented different cars garage joe glasses one got fact joe facial hair configuration seemed change scene scene',\n",
       " 'great movie',\n",
       " 'stars',\n",
       " 'not see movie inspiration anyone come overcome fear rejection',\n",
       " 'bad actually worth seeing reason',\n",
       " 'punishment park brilliant piece cinema',\n",
       " 'shot southern california desert using patent faux documentary style watkins creates film like no',\n",
       " 'one peter watkins accessible films',\n",
       " 'advise look',\n",
       " 'wont regret',\n",
       " 'highly recommended',\n",
       " 'well keep thinking bad',\n",
       " 'mediocre miserable hollow laughable predictable piece garbage',\n",
       " 'case iso bad laughable',\n",
       " 'bad performance plays angela bennett computer expert home time',\n",
       " 'film nothing pretext show ridiculous action scenes',\n",
       " 'awful',\n",
       " 'still bad actress repeating robotic face moves pictures',\n",
       " 'results well shame',\n",
       " 'delete film mind',\n",
       " 'one worst shows time',\n",
       " 'show would begin smart ass ed comments would totally wall uncalled',\n",
       " 'fat computer geek unbelievable bible thumper bad ass girl actors',\n",
       " 'never heard except cole totally unbelievable part',\n",
       " 'every time opened mouth expect hear see kids pulling plug mercy killing horrible show',\n",
       " 'stories unbelievable actors',\n",
       " 'lame would best way describe',\n",
       " 'stanwyck morgan perfectly cast many ways modern equivalent dickens christmas carol sensibility',\n",
       " 'success film depends casting sydney greenstreet alexander yardley character',\n",
       " 'attractive set used throughout film eye pleasing gem',\n",
       " 'im big fan rpg games movie disgrace self respecting rpger',\n",
       " 'lines cuts audio everything wrong',\n",
       " 'find better movies youtube',\n",
       " 'top line not waste time money one bad comes',\n",
       " 'lassie movie put sleep forever',\n",
       " 'would describe painfully dreary time waster film',\n",
       " 'mediocre every aspect becomes dull uninteresting mess one forgettable movies seen',\n",
       " 'not even achievement bad good bad memorable movie',\n",
       " 'empty hollow shell movie',\n",
       " 'seriously not worth wasting kid time',\n",
       " 'avoid avoid avoid',\n",
       " 'drive barking mad',\n",
       " 'transfers good',\n",
       " 'nice relaxing late night viewing',\n",
       " 'movie full wonderful dancing hence title',\n",
       " 'great music terrific scenery',\n",
       " 'handles tough issues dignity grace course shocking spoiler',\n",
       " 'happy wonderful feel good ending',\n",
       " 'point journey journey touches every member family',\n",
       " 'one movies need see whenever comes tv never mind fact already memorized',\n",
       " 'nothing new',\n",
       " 'done second movie',\n",
       " 'movie almost no action scenes little comedy',\n",
       " 'plot holes pair fishnet stockings direction editing astonishingly ham fisted',\n",
       " 'earth irons film',\n",
       " 'saw film recommend',\n",
       " 'good plot holds complete attention acting superb tom wilkinson fantastic emily watson also good',\n",
       " 'good film indeed great unconditional love',\n",
       " 'tom wilkinson character man not prepared ordeal begin takes matter hand story progresses great actor gives performance makes feel character anguish suffering',\n",
       " 'emily watson character strong give quick glance understand everything',\n",
       " 'despite pans reviewers liked movie',\n",
       " 'fact liked better interview vampire liked lestat stuart townsend better cruise attempt',\n",
       " 'aailiyah pretty good akasha places compelling first entrance mini dance scene',\n",
       " 'big fan series mostly due anne rice style sensitivities treatments',\n",
       " 'guess liked details dysfunction believable',\n",
       " 'football scenes end perplexing',\n",
       " 'thought acting skilled',\n",
       " 'meredith better right',\n",
       " 'charming film wonderful sentiment heart',\n",
       " 'rare film maker takes time tell worthy moral tale care love not fall trap overly syrupy indulgent',\n",
       " 'nine ten truly lovely film',\n",
       " 'early film future goremeister lucio fulci good addition giallo sub genre',\n",
       " 'one best italian thrillers early',\n",
       " 'standout scene',\n",
       " 'scene strong unpleasant',\n",
       " 'technically film well made impressive camera work solid acting effective music riz ortolani particularly good recurring unaccompanied female vocal sounds like coming distant hill',\n",
       " 'still wild stuff though highly recommended fans giallo cinema',\n",
       " 'movie interesting beginning end',\n",
       " 'liked way dustin hoffman character ready everything stay son',\n",
       " 'movie also revealing',\n",
       " 'personally think shows people learn find compromise self without involving people issue',\n",
       " 'boring',\n",
       " 'tired clich lazy writing come thick fast',\n",
       " 'ps scene movie cool central character finds room blown',\n",
       " 'fresh subtle rather sublime effect',\n",
       " 'italian reviewer called small great film right',\n",
       " 'actors give wonderful performance especially jennifer rubin jamie harris changes nervous starlet beginning strange events part cool star',\n",
       " 'learn lot real inside emotions people movie lot movie business',\n",
       " 'movie movie situations beginning game played acting coach fascinating',\n",
       " 'also music mark snow possibly best score ever heard',\n",
       " 'not forget movie',\n",
       " 'film made',\n",
       " 'film ultra cheap look',\n",
       " 'result film not look right',\n",
       " 'none engaging exciting',\n",
       " 'plot nonsense not interest slightest way uniqueness',\n",
       " 'foreigner not worth one second time',\n",
       " 'saw child tv back stranger loved',\n",
       " 'duet astronaut doctor beginning movie perfect exchange one considers movie made well cold war astronaut biggest fear crashed ussr',\n",
       " 'movie awesome',\n",
       " 'loved really scary',\n",
       " 'love scream movies horror movies one ranks way',\n",
       " 'want real scare rent one',\n",
       " 'extraordinary film',\n",
       " 'courtroom drama compelling indictment american justice system frightening',\n",
       " 'film highlights fundamental flaws legal process not discovering guilt innocence rather presents better court',\n",
       " 'film well paced understated one best courtroom documentaries seen',\n",
       " 'mostly routine fact based tv drama gets boost fine performance cole',\n",
       " 'predictable not bad watch',\n",
       " 'clear range ability pull part',\n",
       " 'carries movie well',\n",
       " 'constantine gives everything right intensity seems good understanding underlying psychological motivations',\n",
       " 'wonderful inspiring watch hope gets released video dvd',\n",
       " 'piece trash ever released beyond acting story characters supposedly special effects etc wrong',\n",
       " 'fact stinker smells like direct video release',\n",
       " 'avoid costs',\n",
       " 'star trek v final frontier worst series',\n",
       " 'acting involved includes like shatner nimoy bad washed making seem old look real life special effects tacky like spock rescue kirk jet pack falls mountain',\n",
       " 'attempts humor pitiful story awful dose not bear thinking basically involves vulcan stealing enterprise find god seriously not care film oh not mention uhura belly dance distract male guards',\n",
       " 'place good film garbage',\n",
       " 'worst one series',\n",
       " 'editing editing film phenomenal opinion',\n",
       " 'song could explain emotions subjects better jay adams unfortunate life subject talk song old man neil young played evokes many emotions',\n",
       " 'cinematography film shot interesting way',\n",
       " 'course footage grainy enhanced film',\n",
       " 'film offers many delights surprises',\n",
       " 'achille philippa beautifully sing duet giovanni perfectly describes situation movie appreciate subtle layers excellent film',\n",
       " 'story unfolds century jutland use period music played period instruments one fine touch',\n",
       " 'share general loewenhielm exquisite joy partaking cailles en sarcophage even though watching movie wish small sample savor',\n",
       " 'understated film leaves lasting impression',\n",
       " 'warmth generates contrast austere backdrop',\n",
       " 'leave theater wanting go dance stars',\n",
       " 'acting would expect cast top notch',\n",
       " 'characters fleshed surprisingly well particularly grimes blake actors deliver sharply scripted lines right amount deadpan tongue cheek make dialogue hilarious realistic',\n",
       " 'angus scrimm also turns good performance somewhat brief memorable role gently menacing violin playing anatomist doctor quinn',\n",
       " 'conclusion loved',\n",
       " 'long time since entertained movie',\n",
       " 'struggle find anything bad say',\n",
       " 'mark words one cult films like evil dead phantasm people still discovering falling love years line',\n",
       " 'pretty surprising wonderful film made hollywood generally collective heads sand concerning black white issues time',\n",
       " 'film deserves strong kudos taking stand exceptional acting mostly lesser known cast super intelligent script not insult audience take easy way comes white racism',\n",
       " 'plus movie rather modest budget fast running time amazing job',\n",
       " 'juano hernandez exceptional actor played supporting roles many films era proud black man accused murdering white man south',\n",
       " 'trumbull love lucy',\n",
       " 'see kids chance open amazing dialog far race relations come last years',\n",
       " 'see films',\n",
       " 'year however reminded us huston still top game evinced faithful adaptation james joyce acclaimed novella dead',\n",
       " 'feelings thoughts gabriel discomfort dance intangibles leap life come within viewer grasp huston portrayal',\n",
       " 'disappointed wondered could oscar shortlist',\n",
       " 'slow',\n",
       " 'lot holes plot nothing became emperor nothing spend years childhood mature age',\n",
       " 'not waste time',\n",
       " 'end days one worst big budget action movies ever seen',\n",
       " 'surely not know make coherent action movie screenwriter air force one obliged write script big sum money',\n",
       " 'one worst films ever seen',\n",
       " 'still trying get bad',\n",
       " 'movie possibly one creative works horror ever',\n",
       " 'everything could want suspense drama comedy confusing subplots native americans brain eating looking end brainsucking movies look no',\n",
       " 'great sound effects impressive special effects not recommend movie enough call nut think one best movies ever great character actors telly savalas peter boyle hour minutes sheer tedium melodrama horrible acting mess script sinking feeling good lord thinking lots holes script like bad two hour tv movie imagine every single one decisions made wrong dialogue atrocious acting beyond abysmal everything stinks trouble writing directing make impossible establish things make movie watchable like character story theme worse incredibly weak sub plot thrown follows little band latter day mansonites go reporter working story anniversary killings dumb pointless complete waste time short not bother movie not spoil ending pretty amazing best scene movie end not spoil ever indication writer director ability meld two highly volatile temperaments seamless union creativity result powerhouse achievement made timely perhaps culture disturbing fascination celebrity distorted interpretations fame film not easily forgotten kevin spacey excellent verbal tsunami buddy ackerman totally believable great actor scripting subtle comedy unmatched movie recent years characters interesting even bit predictable highly recommended ages although younger set probably not appreciate subtle references certainly appreciate one galley scene particular great movie also story acting weak around pm bought around started watch around fast forwarded remaining film see anything left watchable human brain not either way sucks script horrendously stupid story starts fast absolutely no suspense build slightest everything captain howdy says either laughable plain stupid hell kind crap plot holes could drive semi truck holes linda cardellini thing good film poised amazing dee snider plain sucks not act one least scary villains ever seen not write write damn movie sleep bored throughout whole damn thing acting sucks music sucks script sucks pacing sucks special fx suck directing sucks basically movie sucks film tries serious sophisticated thriller horror flick fails miserably probably one least effective utterly unoriginal films ever seen entire life piece cinematic garbage captured celluloid avoid costs rate film stinks not funny fulci stayed giallo supernatural zombie movies avoid film costs not know happened season five mess consistent thread holding series together amazing performances leni parker anita laselva two taelons quiet idealogical conflict movie really dislike one boring horror movies mainly starts slow centers boring atmosphere puppets look really cheesy not good way like puppet master flicks story lame not interesting never really explains sinister origins puppets not death scenes like previous movies f x terrible felt asleep first time watched recommend insomniacs fact film wonderful heartwarming tale two people chasing dreams best part nurse betty unpredictability',\n",
       " 'director neil labute uses brutal violence seperate dreams reality along touching drama hilarious comedy never tell going happen next',\n",
       " 'otherwise not even waste time',\n",
       " 'one fails create real suspense',\n",
       " 'killer not expect anything original even remotely frightening',\n",
       " 'however pretty good acting least type film',\n",
       " 'sorry really not recommend anyone',\n",
       " 'one boring pointless movies ever seen',\n",
       " 'secondary plot line incomprehensible relation primary plot line mystifying',\n",
       " 'hated',\n",
       " 'one worst sandra bullock movie since speed not quite bad',\n",
       " 'not understand garbage got shelves movie store not even real movie',\n",
       " 'highly doubt anyone could ever like trash',\n",
       " 'not movie making',\n",
       " 'acting like watching wooden puppets moving around reading book bad',\n",
       " 'warn not rent movie dumbest thing never seen',\n",
       " 'saw short film hbo day absolutely loved',\n",
       " 'not realize wonderful short really last two scenes',\n",
       " 'excellent short film',\n",
       " 'hopefully director james cox turn short feature length film cast win us whole new film',\n",
       " 'agree jessica movie pretty bad',\n",
       " 'characters one dimensional even good guys especially bad guys',\n",
       " 'story line totally predictable',\n",
       " 'not much dialogue not much music whole film shot elaborately aesthetically like sculpture',\n",
       " 'seen soap operas intelligent movie',\n",
       " 'bad characters bad story bad acting',\n",
       " 'really awful',\n",
       " 'not easy watch',\n",
       " 'funny clever hip like pray previous film hype',\n",
       " 'long time not see charismatic actor screen',\n",
       " 'paolo sorrentino written wonderful story loneliness tony built one unforgettable characters seen movies recent years',\n",
       " 'movie not completely perfect titta di girolamo stay long time vision movie',\n",
       " 'rate movie',\n",
       " 'not know emilio estevez directorial debut pacing interplay development characters well clever camera work surrounding character estevez plays suggest natural eye',\n",
       " 'interplay martin emilio contains wonderful chemistry saw wall street martin charlie',\n",
       " 'kathy bates wonderful characters subtle desperation escapism variation character play fields lord',\n",
       " 'readers already seen one miyazaki films still top form made another worthwhile experience',\n",
       " 'never condescends characters good genuine hearts believable problems',\n",
       " 'two main characters may two believable children ever saw put screen',\n",
       " 'easy love even easy identify',\n",
       " 'movie great especially enjoy visual arts',\n",
       " 'scenery two daughters paint photograph beautiful',\n",
       " 'story also funny poignant times',\n",
       " 'people like european films art movies like movie',\n",
       " 'truly art movie actually lot art',\n",
       " 'go rent',\n",
       " 'however finally watching film realized not closed mind brilliance depicts also found watching',\n",
       " 'one movie never ceases interest simply keeps alert try attempt decipher meanings',\n",
       " 'brilliance indeed',\n",
       " 'liked movies like matrix better yet sequels think appreciate thought provoking mindblowing experience film give',\n",
       " 'think film like dream',\n",
       " 'simply beautiful',\n",
       " 'rickman stowe play roles hilt tale childrens book writer maybe written subversive tract',\n",
       " 'gloriously fun fast paced fairly accurate portrayal night raver',\n",
       " 'presents idyllic yet serious portrayal ups downs characters lives',\n",
       " 'whatever avoid groove antithesis good human traffic',\n",
       " 'bad everyone else involved not share crowe level dedication quality would far better film hands sub par mess',\n",
       " 'movie seemed little slow first',\n",
       " 'picked speed got right point',\n",
       " 'showed exactly government scientist argued humanity reasons gadget',\n",
       " 'enjoyed',\n",
       " 'recommended friends',\n",
       " 'particularly pleased acting ability dwight schultz',\n",
       " 'actors truly understand become particular character delivering convincing sincere performance',\n",
       " 'screen chemistry critical entire film genuine',\n",
       " 'film dialogue natural real life',\n",
       " 'writer gorman bechard undoubtedly homework references industry character age appropriate',\n",
       " 'incredible soundtrack truly captures essence film',\n",
       " 'track commands sentiment actually contributing scenes characters',\n",
       " 'definitely worth seeing sort thought provoking film forces question threshold loneliness',\n",
       " 'hayao miyazaki latest eighth film studio ghibili gake no ue no ponyo ponyo cliff sea wonderfully fun imaginative look childhood',\n",
       " 'time seems film animation dominated disney pixar cgi masterpieces refreshing comforting know miyazaki still relying traditional hand drawn animation tell charming enchanting stories',\n",
       " 'enough not said remarkable animation film',\n",
       " 'art style appearance crayon pencil drawings wonderfully colorful fanciful',\n",
       " 'act film glad gonna drift away earth far possible',\n",
       " 'one wants surf small wave space movies deep impact armageddon one fails everywhere',\n",
       " 'not choked vomit end cheap drama worthless dialogue must bored death waste time',\n",
       " 'still makes super ending depicts great sea vessel taken mighty frost',\n",
       " 'consider excellent story solid acting look film added bonuses',\n",
       " 'instead got bore fest whiny spoiled brat babysitting',\n",
       " 'watched two sundays ago march began really enjoy time taped entire thing',\n",
       " 'well acted done tv movie',\n",
       " 'judith light one favorite actresses think superb job film',\n",
       " 'keep watching',\n",
       " 'sad movie good',\n",
       " 'not seen movie definitely recommend',\n",
       " 'lovely usual cutie',\n",
       " 'still quite interesting entertaining follow',\n",
       " 'recommend confidence',\n",
       " 'movie well balanced comedy drama thoroughly enjoyed',\n",
       " 'riot see hugo weaving play sex obsessed gay real estate salesman uses clients houses trysts flaming darren tom hollander',\n",
       " 'anyway plot flowed smoothly male bonding scenes hoot',\n",
       " 'opening sequence gem classic cat n mouse games follow delight watch',\n",
       " 'fans genre heaven',\n",
       " 'lange become great actress',\n",
       " 'looked like wonderful story',\n",
       " 'never walked movie faster',\n",
       " 'got bored watching jessice lange take clothes',\n",
       " 'unfortunately virtue film production work lost regrettable script',\n",
       " 'word embarrassing',\n",
       " 'exceptionally bad',\n",
       " 'insult one intelligence huge waste money']"
      ]
     },
     "execution_count": 96,
     "metadata": {},
     "output_type": "execute_result"
    }
   ],
   "source": [
    "corpus"
   ]
  },
  {
   "cell_type": "code",
   "execution_count": 97,
   "metadata": {
    "id": "ZULfoOIdxLjQ"
   },
   "outputs": [],
   "source": [
    "# Write your code here.\n",
    "# Try not to hardcode any values.\n",
    "# Make sure its well documented and readble with appropriate comments.\n",
    "\n",
    "def IDF(corpus, unique_words):\n",
    "    idf_dict={}\n",
    "    N=len(corpus)\n",
    "    for i in unique_words:\n",
    "        count=0\n",
    "        for sen in corpus:\n",
    "            if i in sen.split():\n",
    "                count=count+1\n",
    "            idf_dict[i]=(math.log((1+N)/(count+1)))+1\n",
    "    return idf_dict \n"
   ]
  },
  {
   "cell_type": "code",
   "execution_count": 102,
   "metadata": {},
   "outputs": [
    {
     "ename": "NameError",
     "evalue": "name 'idf_dict' is not defined",
     "output_type": "error",
     "traceback": [
      "\u001b[1;31m---------------------------------------------------------------------------\u001b[0m",
      "\u001b[1;31mNameError\u001b[0m                                 Traceback (most recent call last)",
      "\u001b[1;32m~\\AppData\\Local\\Temp\\ipykernel_32096\\2903145168.py\u001b[0m in \u001b[0;36m<module>\u001b[1;34m\u001b[0m\n\u001b[1;32m----> 1\u001b[1;33m \u001b[0midf_dict\u001b[0m\u001b[1;33m\u001b[0m\u001b[1;33m\u001b[0m\u001b[0m\n\u001b[0m",
      "\u001b[1;31mNameError\u001b[0m: name 'idf_dict' is not defined"
     ]
    }
   ],
   "source": [
    "idf_dict"
   ]
  },
  {
   "cell_type": "code",
   "execution_count": 120,
   "metadata": {
    "id": "1_DJnnR3xLjR"
   },
   "outputs": [
    {
     "name": "stdout",
     "output_type": "stream",
     "text": [
      "['aailiyah', 'abandoned', 'ability', 'abroad', 'absolutely', 'abstruse', 'abysmal', 'academy', 'accents', 'accessible', 'acclaimed', 'accolades', 'accurate', 'accurately', 'accused', 'achievement', 'achille', 'ackerman', 'act', 'acted', 'acting', 'action', 'actions', 'actor', 'actors', 'actress', 'actresses', 'actually', 'adams', 'adaptation', 'add', 'added', 'addition', 'admins', 'admiration', 'admitted', 'adorable', 'adrift', 'adventure', 'advise', 'aerial', 'aesthetically', 'affected', 'affleck', 'afraid', 'africa', 'afternoon', 'age', 'aged', 'ages', 'ago', 'agree', 'agreed', 'aimless', 'air', 'aired', 'akasha', 'akin', 'alert', 'alexander', 'alike', 'allison', 'allow', 'allowing', 'almost', 'along', 'alongside', 'already', 'also', 'although', 'always', 'amateurish', 'amaze', 'amazed', 'amazing', 'amazingly', 'america', 'american', 'americans', 'among', 'amount', 'amusing', 'amust', 'anatomist', 'angel', 'angela', 'angeles', 'angelina', 'angle', 'angles', 'angry', 'anguish', 'angus', 'animals', 'animated', 'animation', 'anita', 'ann', 'anne', 'anniversary', 'annoying', 'another', 'anthony', 'antithesis', 'anyone', 'anything', 'anyway', 'apart', 'appalling', 'appealing', 'appearance', 'appears', 'applauded', 'applause', 'appreciate', 'appropriate', 'apt', 'argued', 'armageddon', 'armand', 'around', 'array', 'art', 'articulated', 'artiness', 'artist', 'artistic', 'artless', 'arts', 'aside', 'ask', 'asleep', 'aspect', 'aspects', 'ass', 'assante', 'assaulted', 'assistant', 'astonishingly', 'astronaut', 'atmosphere', 'atrocious', 'atrocity', 'attempt', 'attempted', 'attempting', 'attempts', 'attention', 'attractive', 'audience', 'audio', 'aurv', 'austen', 'austere', 'author', 'average', 'aversion', 'avoid', 'avoided', 'award', 'awarded', 'awards', 'away', 'awesome', 'awful', 'awkwardly', 'aye', 'baaaaaad', 'babbling', 'babie', 'baby', 'babysitting', 'back', 'backdrop', 'backed', 'bad', 'badly', 'bag', 'bailey', 'bakery', 'balance', 'balanced', 'ball', 'ballet', 'balls', 'band', 'barcelona', 'barely', 'barking', 'barney', 'barren', 'based', 'basic', 'basically', 'bat', 'bates', 'baxendale', 'bear', 'beautiful', 'beautifully', 'bec', 'became', 'bechard', 'become', 'becomes', 'began', 'begin', 'beginning', 'behind', 'behold', 'bela', 'believable', 'believe', 'believed', 'bell', 'bellucci', 'belly', 'belmondo', 'ben', 'bendingly', 'bennett', 'bergen', 'bertolucci', 'best', 'better', 'betty', 'beware', 'beyond', 'bible', 'big', 'biggest', 'billy', 'biographical', 'bipolarity', 'bit', 'bitchy', 'black', 'blah', 'blake', 'bland', 'blandly', 'blare', 'blatant', 'blew', 'blood', 'blown', 'blue', 'blush', 'boasts', 'bob', 'body', 'bohemian', 'boiling', 'bold', 'bombardments', 'bond', 'bonding', 'bonus', 'bonuses', 'boobs', 'boogeyman', 'book', 'boost', 'bop', 'bordered', 'borderlines', 'borders', 'bore', 'bored', 'boring', 'borrowed', 'boss', 'bother', 'bothersome', 'bought', 'box', 'boyfriend', 'boyle', 'brain', 'brainsucking', 'brat', 'breaking', 'breeders', 'brevity', 'brian', 'brief', 'brigand', 'bright', 'brilliance', 'brilliant', 'brilliantly', 'bring', 'brings', 'broad', 'broke', 'brooding', 'brother', 'brutal', 'buddy', 'budget', 'buffalo', 'buffet', 'build', 'builders', 'buildings', 'built', 'bullock', 'bully', 'bunch', 'burton', 'business', 'buy', 'cable', 'cailles', 'california', 'call', 'called', 'calls', 'came', 'cameo', 'camera', 'camerawork', 'camp', 'campy', 'canada', 'cancan', 'candace', 'candle', 'cannot', 'cant', 'captain', 'captured', 'captures', 'car', 'card', 'cardboard', 'cardellini', 'care', 'carol', 'carrell', 'carries', 'carry', 'cars', 'cartoon', 'cartoons', 'case', 'cases', 'cast', 'casted', 'casting', 'cat', 'catchy', 'caught', 'cause', 'ceases', 'celebration', 'celebrity', 'celluloid', 'centers', 'central', 'century', 'certain', 'certainly', 'cg', 'cgi', 'chalkboard', 'challenges', 'chance', 'change', 'changes', 'changing', 'channel', 'character', 'characterisation', 'characters', 'charisma', 'charismatic', 'charles', 'charlie', 'charm', 'charming', 'chase', 'chasing', 'cheap', 'cheaply', 'check', 'checking', 'cheek', 'cheekbones', 'cheerfull', 'cheerless', 'cheesiness', 'cheesy', 'chemistry', 'chick', 'child', 'childhood', 'children', 'childrens', 'chills', 'chilly', 'chimp', 'chodorov', 'choice', 'choices', 'choked', 'chosen', 'chow', 'christmas', 'christopher', 'church', 'cinema', 'cinematic', 'cinematographers', 'cinematography', 'circumstances', 'class', 'classic', 'classical', 'clear', 'clearly', 'clever', 'clich', 'cliche', 'clients', 'cliff', 'climax', 'close', 'closed', 'clothes', 'club', 'co', 'coach', 'coal', 'coastal', 'coaster', 'coherent', 'cold', 'cole', 'collect', 'collective', 'colored', 'colorful', 'colours', 'columbo', 'come', 'comedic', 'comedy', 'comes', 'comfortable', 'comforting', 'comical', 'coming', 'commands', 'comment', 'commentary', 'commented', 'comments', 'commercial', 'community', 'company', 'compelling', 'competent', 'complete', 'completed', 'completely', 'complex', 'complexity', 'composed', 'composition', 'comprehensible', 'compromise', 'computer', 'concentrate', 'conception', 'conceptually', 'concerning', 'concerns', 'concert', 'conclusion', 'condescends', 'confidence', 'configuration', 'confirm', 'conflict', 'confuses', 'confusing', 'connections', 'connery', 'connor', 'conrad', 'consequences', 'consider', 'considerable', 'considered', 'considering', 'considers', 'consistent', 'consolations', 'constant', 'constantine', 'constructed', 'contained', 'containing', 'contains', 'content', 'continually', 'continuation', 'continue', 'continuity', 'continuously', 'contract', 'contrast', 'contributing', 'contributory', 'contrived', 'control', 'controversy', 'convention', 'convey', 'convince', 'convincing', 'convoluted', 'cool', 'coppola', 'cords', 'core', 'corn', 'corny', 'correct', 'cost', 'costs', 'costumes', 'cotton', 'could', 'couple', 'course', 'court', 'courtroom', 'cover', 'cowardice', 'cox', 'crackles', 'crafted', 'crap', 'crash', 'crashed', 'crayon', 'crayons', 'crazy', 'create', 'created', 'creates', 'creative', 'creativity', 'creature', 'credible', 'credit', 'credits', 'crew', 'crime', 'crisp', 'critic', 'critical', 'crocdodile', 'crocs', 'cross', 'crowd', 'crowe', 'cruel', 'cruise', 'cry', 'cult', 'culture', 'curtain', 'custer', 'cute', 'cutest', 'cutie', 'cutouts', 'cuts', 'cutting', 'dads', 'damian', 'damn', 'dance', 'dancing', 'dangerous', 'dark', 'darren', 'daughter', 'daughters', 'day', 'days', 'de', 'dead', 'deadly', 'deadpan', 'deal', 'dealt', 'death', 'debated', 'debbie', 'debits', 'debut', 'decay', 'decent', 'decidely', 'decipher', 'decisions', 'dedication', 'dee', 'deep', 'deeply', 'defensemen', 'defined', 'definitely', 'delete', 'delight', 'delightful', 'delights', 'deliver', 'delivered', 'delivering', 'delivers', 'dependant', 'depending', 'depends', 'depicted', 'depicts', 'depressing', 'depth', 'derivative', 'describe', 'describes', 'desert', 'deserved', 'deserves', 'deserving', 'design', 'designed', 'designer', 'desperately', 'desperation', 'despised', 'despite', 'destroy', 'detailing', 'details', 'develop', 'development', 'developments', 'di', 'diabetic', 'dialog', 'dialogs', 'dialogue', 'diaper', 'dickens', 'difference', 'different', 'dignity', 'dimensional', 'direct', 'directed', 'directing', 'direction', 'director', 'directorial', 'directors', 'disappointed', 'disappointing', 'disappointment', 'disaster', 'disbelief', 'discomfort', 'discovering', 'discovery', 'disgrace', 'disgusting', 'dislike', 'disliked', 'disney', 'disparate', 'distant', 'distinction', 'distorted', 'distract', 'distressed', 'disturbing', 'diving', 'doctor', 'documentaries', 'documentary', 'dodge', 'dogs', 'dollars', 'dominated', 'done', 'donlevy', 'dont', 'doomed', 'dose', 'doubt', 'downs', 'dozen', 'dr', 'dracula', 'draft', 'drag', 'drago', 'drama', 'dramatic', 'drawings', 'drawn', 'dream', 'dreams', 'dreary', 'dribble', 'drift', 'drifting', 'drive', 'drooling', 'dropped', 'dry', 'due', 'duet', 'dull', 'dumb', 'dumbest', 'duper', 'duris', 'dustin', 'dvd', 'dwight', 'dysfunction', 'earlier', 'early', 'earth', 'easily', 'easy', 'eating', 'ebay', 'ebola', 'eccleston', 'ed', 'edge', 'editing', 'edition', 'educational', 'edward', 'effect', 'effective', 'effects', 'effort', 'efforts', 'egotism', 'eighth', 'eiko', 'either', 'elaborately', 'elderly', 'elegant', 'element', 'elias', 'eloquently', 'else', 'elsewhere', 'embarrassed', 'embarrassing', 'embassy', 'emerge', 'emilio', 'emily', 'emoting', 'emotion', 'emotionally', 'emotions', 'emperor', 'empowerment', 'emptiness', 'empty', 'en', 'enchanting', 'end', 'endearing', 'ended', 'ending', 'endlessly', 'ends', 'energetic', 'energy', 'engaging', 'english', 'enhanced', 'enjoy', 'enjoyable', 'enjoyed', 'enjoyment', 'enough', 'enter', 'enterprise', 'entertained', 'entertaining', 'entire', 'entirely', 'entrance', 'episode', 'episodes', 'equivalent', 'era', 'errol', 'errors', 'escalating', 'escapism', 'especially', 'essence', 'establish', 'established', 'estate', 'estevez', 'etc', 'european', 'evaluate', 'even', 'events', 'ever', 'every', 'everybody', 'everyone', 'everything', 'everywhere', 'evidently', 'evil', 'evinced', 'evokes', 'exactly', 'exaggerating', 'example', 'excellent', 'excellently', 'except', 'exceptional', 'exceptionally', 'excerpts', 'excessively', 'exchange', 'exciting', 'excruciatingly', 'excuse', 'excuses', 'executed', 'exemplars', 'existent', 'existential', 'expansive', 'expect', 'expectations', 'expected', 'expecting', 'experience', 'experiences', 'expert', 'explain', 'explains', 'explanation', 'exploit', 'explorations', 'explosion', 'expression', 'exquisite', 'extant', 'exteriors', 'extraneous', 'extraordinary', 'extremely', 'eye', 'eyes', 'fabulous', 'face', 'faces', 'facial', 'facing', 'fact', 'factory', 'failed', 'fails', 'fair', 'fairly', 'faithful', 'fall', 'falling', 'falls', 'falsely', 'falwell', 'fame', 'famed', 'family', 'famous', 'fan', 'fanciful', 'fans', 'fantastic', 'fantasy', 'far', 'farce', 'fare', 'fascinated', 'fascinating', 'fascination', 'fashioned', 'fast', 'faster', 'fat', 'father', 'faultless', 'fausa', 'faux', 'favorite', 'favourite', 'fear', 'feature', 'features', 'feel', 'feeling', 'feelings', 'feet', 'feisty', 'fellowes', 'felt', 'female', 'females', 'ferry', 'fest', 'fi', 'fields', 'fifteen', 'fifties', 'fill', 'film', 'filmed', 'filmiing', 'filmmaker', 'filmography', 'films', 'final', 'finale', 'finally', 'financial', 'find', 'finds', 'fine', 'finest', 'fingernails', 'finished', 'fire', 'first', 'fish', 'fishnet', 'fisted', 'fit', 'five', 'flag', 'flakes', 'flaming', 'flashbacks', 'flat', 'flaw', 'flawed', 'flaws', 'fleshed', 'flick', 'flicks', 'florida', 'flowed', 'flying', 'flynn', 'focus', 'fodder', 'follow', 'following', 'follows', 'foolish', 'footage', 'football', 'force', 'forced', 'forces', 'ford', 'foreign', 'foreigner', 'forever', 'forget', 'forgettable', 'forgetting', 'forgot', 'forgotten', 'form', 'format', 'former', 'fort', 'forth', 'forwarded', 'found', 'four', 'fox', 'foxx', 'frances', 'francis', 'frankly', 'free', 'freedom', 'freeman', 'french', 'fresh', 'freshness', 'friends', 'friendship', 'frightening', 'front', 'frontier', 'frost', 'frustration', 'fulci', 'fulfilling', 'full', 'fully', 'fumbling', 'fun', 'function', 'fundamental', 'funniest', 'funny', 'future', 'fx', 'gabriel', 'gadget', 'gain', 'gake', 'galley', 'gallon', 'game', 'games', 'garage', 'garbage', 'garbo', 'garfield', 'gas', 'gaudi', 'gave', 'gay', 'geek', 'gem', 'general', 'generally', 'generates', 'generic', 'genius', 'genre', 'gently', 'genuine', 'george', 'gerardo', 'gere', 'get', 'gets', 'getting', 'ghibili', 'giallo', 'gibberish', 'gifted', 'giovanni', 'girl', 'girlfriend', 'girls', 'girolamo', 'give', 'given', 'gives', 'giving', 'glad', 'glance', 'glasses', 'gloriously', 'go', 'goalies', 'god', 'goes', 'going', 'gone', 'gonna', 'good', 'gore', 'goremeister', 'gorman', 'gosh', 'got', 'goth', 'gotta', 'gotten', 'government', 'grace', 'grade', 'gradually', 'grainy', 'granted', 'graphics', 'grasp', 'grates', 'great', 'greatest', 'greatness', 'green', 'greenstreet', 'grew', 'grim', 'grimes', 'gripping', 'groove', 'gross', 'ground', 'guards', 'guess', 'guests', 'guilt', 'gung', 'guy', 'guys', 'hackneyed', 'haggis', 'hair', 'hairsplitting', 'half', 'halfway', 'ham', 'hand', 'handle', 'handled', 'handles', 'hands', 'hang', 'hankies', 'hanks', 'happen', 'happened', 'happiness', 'happy', 'hard', 'harris', 'hate', 'hated', 'hatred', 'havilland', 'hay', 'hayao', 'hayworth', 'hbo', 'head', 'heads', 'hear', 'heard', 'heart', 'hearts', 'heartwarming', 'heaven', 'heche', 'heels', 'heist', 'helen', 'hell', 'hellish', 'helms', 'help', 'helping', 'helps', 'hence', 'hendrikson', 'hernandez', 'hero', 'heroes', 'heroine', 'heroism', 'hes', 'hide', 'high', 'higher', 'highest', 'highlights', 'highly', 'hilarious', 'hill', 'hilt', 'hip', 'history', 'hitchcock', 'ho', 'hockey', 'hoffman', 'hold', 'holding', 'holds', 'holes', 'hollander', 'hollow', 'hollywood', 'home', 'homework', 'honest', 'honestly', 'hoot', 'hope', 'hopefully', 'hopeless', 'horrendous', 'horrendously', 'horrible', 'horrid', 'horrified', 'horror', 'horse', 'hosting', 'hot', 'hour', 'hours', 'house', 'houses', 'howdy', 'howe', 'howell', 'however', 'huge', 'hugo', 'human', 'humanity', 'humans', 'hummh', 'humor', 'humorous', 'humour', 'hurt', 'huston', 'hype', 'hypocrisy', 'idea', 'idealogical', 'identified', 'identifies', 'identify', 'idiot', 'idiotic', 'idyllic', 'iffy', 'im', 'imaginable', 'imagination', 'imaginative', 'imagine', 'imdb', 'imitation', 'impact', 'imperial', 'implausible', 'important', 'impossible', 'impressed', 'impression', 'impressive', 'improved', 'improvement', 'improvisation', 'impulse', 'inappropriate', 'incendiary', 'includes', 'including', 'incomprehensible', 'inconsistencies', 'incorrectness', 'incredible', 'incredibly', 'indeed', 'indescribably', 'indication', 'indictment', 'indie', 'individual', 'indoor', 'indulgent', 'industry', 'ineptly', 'inexperience', 'inexplicable', 'initially', 'innocence', 'insane', 'inside', 'insincere', 'insipid', 'insomniacs', 'inspiration', 'inspiring', 'instant', 'instead', 'instruments', 'insulin', 'insult', 'intangibles', 'integral', 'integration', 'intelligence', 'intelligent', 'intense', 'intensity', 'intentions', 'interacting', 'interest', 'interested', 'interesting', 'interim', 'interplay', 'interpretations', 'interview', 'intoning', 'intrigued', 'inventive', 'involved', 'involves', 'involving', 'iq', 'ireland', 'ironically', 'irons', 'ironside', 'irritating', 'ishioka', 'iso', 'issue', 'issues', 'istagey', 'italian', 'ive', 'jack', 'jaclyn', 'james', 'jamie', 'japanese', 'jason', 'jay', 'jealousy', 'jean', 'jennifer', 'jerky', 'jerry', 'jessica', 'jessice', 'jet', 'jim', 'jimmy', 'job', 'jobs', 'joe', 'john', 'joins', 'joke', 'jokes', 'jonah', 'jones', 'journey', 'joy', 'joyce', 'juano', 'judge', 'judging', 'judith', 'judo', 'julian', 'june', 'junk', 'junkyard', 'justice', 'jutland', 'kanaly', 'kathy', 'keep', 'keeps', 'keira', 'keith', 'kept', 'kevin', 'kid', 'kidnapped', 'kids', 'kieslowski', 'kill', 'killer', 'killing', 'killings', 'kind', 'kinda', 'kirk', 'kitchy', 'knew', 'knightley', 'knocked', 'know', 'known', 'knows', 'koteas', 'kris', 'kristoffersen', 'kudos', 'la', 'labute', 'lack', 'lacked', 'lacks', 'ladies', 'lady', 'lame', 'lance', 'landscapes', 'lane', 'lange', 'largely', 'laselva', 'lassie', 'last', 'lasting', 'latched', 'late', 'later', 'latest', 'latifa', 'latin', 'latter', 'laugh', 'laughable', 'laughed', 'laughs', 'layers', 'lazy', 'lead', 'leading', 'leap', 'learn', 'least', 'leave', 'leaves', 'leaving', 'lee', 'left', 'legal', 'legendary', 'length', 'leni', 'less', 'lesser', 'lestat', 'let', 'lets', 'letting', 'level', 'levels', 'lewis', 'lid', 'lie', 'lies', 'lieutenant', 'life', 'lifetime', 'light', 'lighting', 'like', 'liked', 'likes', 'lilli', 'lilt', 'limitations', 'limited', 'linda', 'line', 'linear', 'lines', 'lino', 'lion', 'list', 'literally', 'littered', 'little', 'lived', 'lives', 'living', 'loads', 'local', 'location', 'locations', 'loewenhielm', 'logic', 'london', 'loneliness', 'long', 'longer', 'look', 'looked', 'looking', 'looks', 'loose', 'loosely', 'lord', 'los', 'losing', 'lost', 'lot', 'lots', 'lousy', 'lovable', 'love', 'loved', 'lovely', 'loves', 'low', 'lower', 'loyalty', 'lucio', 'lucy', 'lugosi', 'lust', 'luv', 'lyrics', 'macbeth', 'machine', 'mad', 'made', 'magnificent', 'main', 'mainly', 'major', 'make', 'maker', 'makers', 'makes', 'making', 'male', 'males', 'malta', 'man', 'managed', 'manages', 'manna', 'mansonites', 'many', 'marbles', 'march', 'marine', 'marion', 'mark', 'marred', 'marriage', 'martin', 'masculine', 'masculinity', 'massive', 'master', 'masterful', 'masterpiece', 'masterpieces', 'material', 'matrix', 'matter', 'matthews', 'mature', 'may', 'maybe', 'mchattie', 'mclaglen', 'meagre', 'mean', 'meanders', 'meaning', 'meanings', 'meant', 'medical', 'mediocre', 'meld', 'melodrama', 'melville', 'member', 'members', 'memorable', 'memories', 'memorized', 'menace', 'menacing', 'mention', 'mercy', 'meredith', 'merit', 'mesmerising', 'mess', 'messages', 'meteorite', 'mexican', 'michael', 'mickey', 'microsoft', 'middle', 'might', 'mighty', 'mind', 'mindblowing', 'miner', 'mini', 'minor', 'minute', 'minutes', 'mirrormask', 'miserable', 'miserably', 'mishima', 'misplace', 'miss', 'missed', 'mistakes', 'miyazaki', 'modern', 'modest', 'mollusk', 'moment', 'moments', 'momentum', 'money', 'monica', 'monolog', 'monotonous', 'monster', 'monstrous', 'monumental', 'moral', 'morgan', 'morons', 'mostly', 'mother', 'motion', 'motivations', 'mountain', 'mouse', 'mouth', 'move', 'moved', 'movements', 'moves', 'movie', 'movies', 'moving', 'ms', 'much', 'muddled', 'muppets', 'murder', 'murdered', 'murdering', 'murky', 'music', 'musician', 'must', 'mystifying', 'naked', 'narration', 'narrative', 'nasty', 'national', 'nationalities', 'native', 'natural', 'nature', 'naughty', 'nearly', 'necklace', 'need', 'needed', 'needlessly', 'negative', 'negulesco', 'neighbour', 'neil', 'nerves', 'nervous', 'net', 'netflix', 'network', 'never', 'nevertheless', 'nevsky', 'new', 'next', 'nice', 'nicola', 'night', 'nimoy', 'nine', 'no', 'noble', 'nobody', 'noir', 'non', 'none', 'nonetheless', 'nonsense', 'nor', 'normally', 'northern', 'nostalgia', 'not', 'notable', 'notch', 'note', 'noteworthy', 'nothing', 'novella', 'number', 'numbers', 'nun', 'nuns', 'nurse', 'nut', 'nuts', 'obliged', 'obsessed', 'obvious', 'obviously', 'occasionally', 'occupied', 'occur', 'occurs', 'odd', 'offend', 'offensive', 'offer', 'offers', 'often', 'oh', 'okay', 'old', 'olde', 'older', 'ole', 'olivia', 'omit', 'one', 'ones', 'open', 'opened', 'opening', 'operas', 'opinion', 'ordeal', 'oriented', 'original', 'originality', 'origins', 'ortolani', 'oscar', 'others', 'otherwise', 'ought', 'outlandish', 'outlets', 'outside', 'outward', 'overacting', 'overall', 'overcome', 'overdue', 'overly', 'overs', 'overt', 'overwrought', 'owed', 'owls', 'owned', 'owns', 'oy', 'pace', 'paced', 'pacing', 'pack', 'paid', 'painful', 'painfully', 'paint', 'painted', 'pair', 'palance', 'pandering', 'pans', 'paolo', 'pap', 'paper', 'par', 'parents', 'park', 'parker', 'part', 'partaking', 'particular', 'particularly', 'parts', 'passed', 'passion', 'past', 'patent', 'pathetic', 'patriotism', 'paul', 'pay', 'peaking', 'pearls', 'peculiarity', 'pedestal', 'pencil', 'people', 'perabo', 'perfect', 'perfected', 'perfectly', 'performance', 'performances', 'perhaps', 'period', 'perplexing', 'person', 'personalities', 'personally', 'peter', 'pg', 'phantasm', 'phenomenal', 'philippa', 'phony', 'photograph', 'photography', 'phrase', 'physical', 'pi', 'picked', 'picture', 'pictures', 'piece', 'pieces', 'pile', 'pillow', 'pitch', 'pitiful', 'pixar', 'place', 'places', 'plain', 'plane', 'planned', 'plants', 'play', 'played', 'player', 'players', 'playing', 'plays', 'pleasant', 'pleased', 'pleaser', 'pleasing', 'pledge', 'plenty', 'plmer', 'plot', 'plug', 'plus', 'pm', 'poet', 'poetry', 'poignant', 'point', 'pointillistic', 'pointless', 'poised', 'poler', 'political', 'politically', 'politics', 'ponyo', 'poor', 'poorly', 'popcorn', 'popular', 'portrayal', 'portrayals', 'portrayed', 'portraying', 'positive', 'possible', 'possibly', 'post', 'potted', 'power', 'powerful', 'powerhouse', 'practical', 'practically', 'pray', 'precisely', 'predict', 'predictable', 'predictably', 'prejudice', 'prelude', 'premise', 'prepared', 'presence', 'presents', 'preservation', 'president', 'pretentious', 'pretext', 'pretty', 'previous', 'primal', 'primary', 'probably', 'problem', 'problems', 'proceedings', 'process', 'produce', 'produced', 'producer', 'producers', 'product', 'production', 'professionals', 'professor', 'progresses', 'promote', 'prompted', 'prone', 'propaganda', 'properly', 'proud', 'proudly', 'provided', 'provokes', 'provoking', 'ps', 'pseudo', 'psychological', 'psychotic', 'public', 'pull', 'pulling', 'pulls', 'punched', 'punches', 'punish', 'punishment', 'puppet', 'puppets', 'pure', 'purity', 'put', 'putting', 'puzzle', 'pyromaniac', 'qu', 'quaid', 'qualities', 'quality', 'question', 'questioning', 'quick', 'quicker', 'quiet', 'quinn', 'quite', 'race', 'racial', 'racism', 'radiant', 'raging', 'random', 'range', 'ranks', 'rare', 'rate', 'rated', 'rather', 'rating', 'ratings', 'raver', 'raw', 'ray', 'reactions', 'readers', 'reading', 'ready', 'real', 'realised', 'realistic', 'reality', 'realize', 'realized', 'really', 'reason', 'reasonable', 'reasons', 'receive', 'received', 'recent', 'recently', 'recommend', 'recommended', 'reconciliation', 'recover', 'recurring', 'redeemed', 'redeeming', 'reenactments', 'references', 'reflected', 'refreshing', 'regardless', 'regret', 'regrettable', 'regrettably', 'rejection', 'relate', 'related', 'relation', 'relations', 'relationship', 'relationships', 'relatively', 'relaxing', 'release', 'released', 'relief', 'relying', 'remaining', 'remake', 'remarkable', 'remember', 'reminded', 'remotely', 'removing', 'rendering', 'rendition', 'renowned', 'rent', 'repair', 'repeated', 'repeating', 'repeats', 'repertory', 'reporter', 'represents', 'require', 'rescue', 'researched', 'resounding', 'respecting', 'rest', 'restrained', 'result', 'results', 'resume', 'retarded', 'retreat', 'return', 'revealing', 'revenge', 'revere', 'reverse', 'review', 'reviewer', 'reviewers', 'reviews', 'rice', 'rickman', 'ridiculous', 'ridiculousness', 'right', 'riot', 'rips', 'rise', 'rita', 'rivalry', 'riveted', 'riz', 'road', 'robert', 'robotic', 'rochon', 'rocked', 'rocks', 'roeg', 'role', 'roles', 'roller', 'rolls', 'romantic', 'room', 'roosevelt', 'roth', 'rough', 'round', 'routine', 'row', 'rpg', 'rpger', 'rubbish', 'rubin', 'rumbles', 'run', 'running', 'ruthless', 'ryan', 'ryans', 'sabotages', 'sack', 'sacrifice', 'sad', 'said', 'sake', 'salesman', 'sam', 'sample', 'sand', 'sandra', 'sappiest', 'sarcophage', 'sat', 'satanic', 'savalas', 'savant', 'save', 'savor', 'saw', 'say', 'says', 'scale', 'scamp', 'scare', 'scared', 'scares', 'scary', 'scene', 'scenery', 'scenes', 'schilling', 'schizophrenic', 'school', 'schoolers', 'schrader', 'schultz', 'sci', 'science', 'scientist', 'score', 'scot', 'scream', 'screamy', 'screen', 'screened', 'screenplay', 'screenwriter', 'scrimm', 'script', 'scripted', 'scripting', 'scripts', 'sculpture', 'sea', 'seamless', 'seamlessly', 'sean', 'season', 'seat', 'second', 'secondary', 'secondly', 'see', 'seeing', 'seem', 'seemed', 'seems', 'seen', 'selections', 'self', 'sells', 'semi', 'senior', 'sense', 'senses', 'sensibility', 'sensitivities', 'sentiment', 'seperate', 'sequel', 'sequels', 'sequence', 'sequences', 'series', 'serious', 'seriously', 'served', 'set', 'sets', 'setting', 'settings', 'seuss', 'several', 'sex', 'shakespear', 'shakespears', 'shallow', 'shame', 'shameful', 'share', 'sharing', 'sharply', 'shatner', 'shattered', 'shed', 'sheer', 'shelf', 'shell', 'shelves', 'shenanigans', 'shepard', 'shined', 'shirley', 'shocking', 'shooting', 'short', 'shortlist', 'shot', 'shots', 'show', 'showcasing', 'showed', 'shows', 'shut', 'sibling', 'sick', 'side', 'sidelined', 'sign', 'significant', 'silent', 'silly', 'simmering', 'simplifying', 'simply', 'since', 'sincere', 'sing', 'singing', 'single', 'sinister', 'sink', 'sinking', 'sister', 'sisters', 'sit', 'sitcoms', 'site', 'sites', 'sits', 'situation', 'situations', 'skilled', 'skip', 'slackers', 'slavic', 'sleep', 'slideshow', 'slightest', 'slightly', 'slimy', 'sloppy', 'slow', 'slurs', 'smack', 'small', 'smart', 'smells', 'smile', 'smiling', 'smith', 'smoothly', 'snider', 'snow', 'soap', 'sobering', 'social', 'soldiers', 'sole', 'solid', 'solidifying', 'solving', 'someone', 'something', 'sometimes', 'somewhat', 'son', 'song', 'songs', 'soon', 'sophisticated', 'sorrentino', 'sorry', 'sort', 'soul', 'sound', 'sounded', 'sounds', 'soundtrack', 'sour', 'south', 'southern', 'space', 'spacek', 'spacey', 'span', 'speak', 'speaking', 'special', 'speed', 'spend', 'spent', 'spew', 'sphere', 'spiffy', 'splendid', 'spock', 'spoil', 'spoiled', 'spoiler', 'spoilers', 'spot', 'spy', 'squibs', 'stable', 'stage', 'stagy', 'stand', 'standout', 'stanwyck', 'star', 'starlet', 'starring', 'stars', 'start', 'started', 'starts', 'state', 'stay', 'stayed', 'stealing', 'steamboat', 'steele', 'step', 'stephen', 'stereotypes', 'stereotypically', 'steve', 'stewart', 'stick', 'still', 'stinker', 'stinks', 'stocking', 'stockings', 'stoic', 'store', 'stories', 'storm', 'story', 'storyline', 'storytelling', 'stowe', 'strange', 'stranger', 'stratus', 'straw', 'street', 'strident', 'string', 'strives', 'strokes', 'strong', 'struck', 'structure', 'struggle', 'stuart', 'student', 'students', 'studio', 'study', 'stuff', 'stunning', 'stupid', 'stupidity', 'style', 'stylized', 'sub', 'subject', 'subjects', 'sublime', 'sublimely', 'subplots', 'subtitles', 'subtle', 'subversive', 'subverting', 'succeeded', 'succeeds', 'success', 'suck', 'sucked', 'sucks', 'suffered', 'suffering', 'suggest', 'suggests', 'suited', 'sum', 'summary', 'sundays', 'super', 'superb', 'superbad', 'superbly', 'superficial', 'superlative', 'supernatural', 'supporting', 'supposed', 'supposedly', 'sure', 'surely', 'surf', 'surface', 'surprised', 'surprises', 'surprising', 'surprisingly', 'surrounding', 'surroundings', 'survivors', 'suspense', 'suspension', 'sven', 'swamp', 'sweep', 'sweet', 'switched', 'swords', 'sydney', 'sympathetic', 'syrupy', 'system', 'tacky', 'taelons', 'take', 'taken', 'takes', 'taking', 'tale', 'talent', 'talented', 'talents', 'talk', 'tanks', 'taped', 'tardis', 'task', 'taste', 'taxidermists', 'taylor', 'teacher', 'teaches', 'team', 'tear', 'tears', 'technically', 'teddy', 'tedium', 'teen', 'teenagers', 'teeth', 'telephone', 'television', 'tell', 'telly', 'temperaments', 'ten', 'tender', 'tension', 'tensions', 'terminology', 'terms', 'terrible', 'terribly', 'terrific', 'terror', 'th', 'thanks', 'theater', 'theatre', 'theatres', 'theatrical', 'theme', 'themes', 'therapy', 'thick', 'thing', 'things', 'think', 'thinking', 'thomerson', 'thoroughly', 'thorsen', 'though', 'thought', 'thoughts', 'thousand', 'thread', 'three', 'threshold', 'thrilled', 'thriller', 'thrillers', 'throughout', 'throwback', 'thrown', 'thug', 'thumper', 'thunderbirds', 'thus', 'ticker', 'tickets', 'tightly', 'time', 'timeless', 'timely', 'timers', 'times', 'timing', 'tiny', 'tired', 'title', 'titta', 'today', 'together', 'told', 'tolerable', 'tolerate', 'tom', 'tomorrow', 'tone', 'tongue', 'tonight', 'tons', 'tony', 'took', 'toons', 'top', 'tops', 'torture', 'tortured', 'total', 'totally', 'touch', 'touches', 'touching', 'tough', 'towards', 'towers', 'townsend', 'track', 'tract', 'traditional', 'traffic', 'trailer', 'train', 'tranquillity', 'transcend', 'transfers', 'translate', 'translating', 'trap', 'trash', 'trashy', 'treachery', 'treasure', 'treat', 'treatments', 'trek', 'tremendous', 'tremendously', 'tries', 'trilogy', 'trinity', 'trip', 'triumphed', 'trond', 'trooper', 'trouble', 'truck', 'true', 'truly', 'trumbull', 'trumpeter', 'truth', 'try', 'trying', 'trysts', 'tsunami', 'tuneful', 'turkey', 'turn', 'turned', 'turns', 'tv', 'twice', 'twirling', 'twist', 'twists', 'two', 'tying', 'type', 'typical', 'ue', 'ugliest', 'ugly', 'uhura', 'ultra', 'um', 'unaccompanied', 'unbearable', 'unbearably', 'unbelievable', 'uncalled', 'unconditional', 'unconvincing', 'underacting', 'underappreciated', 'underbite', 'underlines', 'underlying', 'underneath', 'underrated', 'understand', 'understanding', 'understated', 'understatement', 'understood', 'undertone', 'underwater', 'undoubtedly', 'uneasy', 'unemployed', 'unethical', 'unfaithful', 'unfolds', 'unforgettable', 'unfortunate', 'unfortunately', 'unfunny', 'unintentionally', 'uninteresting', 'union', 'unique', 'uniqueness', 'universal', 'universe', 'unless', 'unlockable', 'unmatched', 'unmitigated', 'unmoving', 'unnecessary', 'unneeded', 'unoriginal', 'unpleasant', 'unpredictability', 'unpredictable', 'unrealistic', 'unrecognizable', 'unrecommended', 'unremarkable', 'unrestrained', 'unsatisfactory', 'unwatchable', 'upa', 'uplifting', 'upper', 'ups', 'uptight', 'ursula', 'us', 'use', 'used', 'user', 'uses', 'using', 'ussr', 'usual', 'utter', 'utterly', 'valentine', 'value', 'values', 'vampire', 'vandiver', 'variation', 'vehicles', 'ventura', 'verbal', 'verbatim', 'versatile', 'version', 'versus', 'vessel', 'veteran', 'vey', 'vibe', 'victor', 'video', 'view', 'viewer', 'viewing', 'views', 'villain', 'villains', 'violence', 'violin', 'virtue', 'virus', 'vision', 'visual', 'visually', 'vitally', 'vivian', 'vivid', 'vocal', 'voice', 'volatile', 'volcano', 'vomit', 'vomited', 'voyage', 'vulcan', 'waiting', 'waitress', 'walk', 'walked', 'wall', 'want', 'wanted', 'wanting', 'wants', 'war', 'warmth', 'warn', 'warning', 'wartime', 'warts', 'washed', 'washing', 'waste', 'wasted', 'waster', 'wasting', 'watch', 'watchable', 'watched', 'watching', 'water', 'watkins', 'watson', 'wave', 'way', 'waylaid', 'wayne', 'ways', 'wb', 'weak', 'weaker', 'weariness', 'weaving', 'website', 'wedding', 'weight', 'weird', 'well', 'welsh', 'went', 'whatever', 'whatsoever', 'whenever', 'whether', 'whine', 'whiny', 'white', 'whites', 'whoever', 'whole', 'wholesome', 'wide', 'widmark', 'wife', 'wih', 'wild', 'wilkinson', 'william', 'willie', 'wily', 'win', 'wind', 'wise', 'wish', 'within', 'without', 'witticisms', 'witty', 'woa', 'women', 'wonder', 'wondered', 'wonderful', 'wonderfully', 'wong', 'wont', 'woo', 'wooden', 'word', 'words', 'work', 'worked', 'working', 'works', 'world', 'worry', 'worse', 'worst', 'worth', 'worthless', 'worthwhile', 'worthy', 'would', 'wouldnt', 'woven', 'wow', 'wrap', 'write', 'writer', 'writers', 'writing', 'written', 'wrong', 'wrote', 'yardley', 'yawn', 'yeah', 'year', 'years', 'yelps', 'yes', 'yet', 'young', 'younger', 'youthful', 'youtube', 'yun', 'zillion', 'zombie', 'zombiez']\n",
      "{'aailiyah': 0, 'abandoned': 1, 'ability': 2, 'abroad': 3, 'absolutely': 4, 'abstruse': 5, 'abysmal': 6, 'academy': 7, 'accents': 8, 'accessible': 9, 'acclaimed': 10, 'accolades': 11, 'accurate': 12, 'accurately': 13, 'accused': 14, 'achievement': 15, 'achille': 16, 'ackerman': 17, 'act': 18, 'acted': 19, 'acting': 20, 'action': 21, 'actions': 22, 'actor': 23, 'actors': 24, 'actress': 25, 'actresses': 26, 'actually': 27, 'adams': 28, 'adaptation': 29, 'add': 30, 'added': 31, 'addition': 32, 'admins': 33, 'admiration': 34, 'admitted': 35, 'adorable': 36, 'adrift': 37, 'adventure': 38, 'advise': 39, 'aerial': 40, 'aesthetically': 41, 'affected': 42, 'affleck': 43, 'afraid': 44, 'africa': 45, 'afternoon': 46, 'age': 47, 'aged': 48, 'ages': 49, 'ago': 50, 'agree': 51, 'agreed': 52, 'aimless': 53, 'air': 54, 'aired': 55, 'akasha': 56, 'akin': 57, 'alert': 58, 'alexander': 59, 'alike': 60, 'allison': 61, 'allow': 62, 'allowing': 63, 'almost': 64, 'along': 65, 'alongside': 66, 'already': 67, 'also': 68, 'although': 69, 'always': 70, 'amateurish': 71, 'amaze': 72, 'amazed': 73, 'amazing': 74, 'amazingly': 75, 'america': 76, 'american': 77, 'americans': 78, 'among': 79, 'amount': 80, 'amusing': 81, 'amust': 82, 'anatomist': 83, 'angel': 84, 'angela': 85, 'angeles': 86, 'angelina': 87, 'angle': 88, 'angles': 89, 'angry': 90, 'anguish': 91, 'angus': 92, 'animals': 93, 'animated': 94, 'animation': 95, 'anita': 96, 'ann': 97, 'anne': 98, 'anniversary': 99, 'annoying': 100, 'another': 101, 'anthony': 102, 'antithesis': 103, 'anyone': 104, 'anything': 105, 'anyway': 106, 'apart': 107, 'appalling': 108, 'appealing': 109, 'appearance': 110, 'appears': 111, 'applauded': 112, 'applause': 113, 'appreciate': 114, 'appropriate': 115, 'apt': 116, 'argued': 117, 'armageddon': 118, 'armand': 119, 'around': 120, 'array': 121, 'art': 122, 'articulated': 123, 'artiness': 124, 'artist': 125, 'artistic': 126, 'artless': 127, 'arts': 128, 'aside': 129, 'ask': 130, 'asleep': 131, 'aspect': 132, 'aspects': 133, 'ass': 134, 'assante': 135, 'assaulted': 136, 'assistant': 137, 'astonishingly': 138, 'astronaut': 139, 'atmosphere': 140, 'atrocious': 141, 'atrocity': 142, 'attempt': 143, 'attempted': 144, 'attempting': 145, 'attempts': 146, 'attention': 147, 'attractive': 148, 'audience': 149, 'audio': 150, 'aurv': 151, 'austen': 152, 'austere': 153, 'author': 154, 'average': 155, 'aversion': 156, 'avoid': 157, 'avoided': 158, 'award': 159, 'awarded': 160, 'awards': 161, 'away': 162, 'awesome': 163, 'awful': 164, 'awkwardly': 165, 'aye': 166, 'baaaaaad': 167, 'babbling': 168, 'babie': 169, 'baby': 170, 'babysitting': 171, 'back': 172, 'backdrop': 173, 'backed': 174, 'bad': 175, 'badly': 176, 'bag': 177, 'bailey': 178, 'bakery': 179, 'balance': 180, 'balanced': 181, 'ball': 182, 'ballet': 183, 'balls': 184, 'band': 185, 'barcelona': 186, 'barely': 187, 'barking': 188, 'barney': 189, 'barren': 190, 'based': 191, 'basic': 192, 'basically': 193, 'bat': 194, 'bates': 195, 'baxendale': 196, 'bear': 197, 'beautiful': 198, 'beautifully': 199, 'bec': 200, 'became': 201, 'bechard': 202, 'become': 203, 'becomes': 204, 'began': 205, 'begin': 206, 'beginning': 207, 'behind': 208, 'behold': 209, 'bela': 210, 'believable': 211, 'believe': 212, 'believed': 213, 'bell': 214, 'bellucci': 215, 'belly': 216, 'belmondo': 217, 'ben': 218, 'bendingly': 219, 'bennett': 220, 'bergen': 221, 'bertolucci': 222, 'best': 223, 'better': 224, 'betty': 225, 'beware': 226, 'beyond': 227, 'bible': 228, 'big': 229, 'biggest': 230, 'billy': 231, 'biographical': 232, 'bipolarity': 233, 'bit': 234, 'bitchy': 235, 'black': 236, 'blah': 237, 'blake': 238, 'bland': 239, 'blandly': 240, 'blare': 241, 'blatant': 242, 'blew': 243, 'blood': 244, 'blown': 245, 'blue': 246, 'blush': 247, 'boasts': 248, 'bob': 249, 'body': 250, 'bohemian': 251, 'boiling': 252, 'bold': 253, 'bombardments': 254, 'bond': 255, 'bonding': 256, 'bonus': 257, 'bonuses': 258, 'boobs': 259, 'boogeyman': 260, 'book': 261, 'boost': 262, 'bop': 263, 'bordered': 264, 'borderlines': 265, 'borders': 266, 'bore': 267, 'bored': 268, 'boring': 269, 'borrowed': 270, 'boss': 271, 'bother': 272, 'bothersome': 273, 'bought': 274, 'box': 275, 'boyfriend': 276, 'boyle': 277, 'brain': 278, 'brainsucking': 279, 'brat': 280, 'breaking': 281, 'breeders': 282, 'brevity': 283, 'brian': 284, 'brief': 285, 'brigand': 286, 'bright': 287, 'brilliance': 288, 'brilliant': 289, 'brilliantly': 290, 'bring': 291, 'brings': 292, 'broad': 293, 'broke': 294, 'brooding': 295, 'brother': 296, 'brutal': 297, 'buddy': 298, 'budget': 299, 'buffalo': 300, 'buffet': 301, 'build': 302, 'builders': 303, 'buildings': 304, 'built': 305, 'bullock': 306, 'bully': 307, 'bunch': 308, 'burton': 309, 'business': 310, 'buy': 311, 'cable': 312, 'cailles': 313, 'california': 314, 'call': 315, 'called': 316, 'calls': 317, 'came': 318, 'cameo': 319, 'camera': 320, 'camerawork': 321, 'camp': 322, 'campy': 323, 'canada': 324, 'cancan': 325, 'candace': 326, 'candle': 327, 'cannot': 328, 'cant': 329, 'captain': 330, 'captured': 331, 'captures': 332, 'car': 333, 'card': 334, 'cardboard': 335, 'cardellini': 336, 'care': 337, 'carol': 338, 'carrell': 339, 'carries': 340, 'carry': 341, 'cars': 342, 'cartoon': 343, 'cartoons': 344, 'case': 345, 'cases': 346, 'cast': 347, 'casted': 348, 'casting': 349, 'cat': 350, 'catchy': 351, 'caught': 352, 'cause': 353, 'ceases': 354, 'celebration': 355, 'celebrity': 356, 'celluloid': 357, 'centers': 358, 'central': 359, 'century': 360, 'certain': 361, 'certainly': 362, 'cg': 363, 'cgi': 364, 'chalkboard': 365, 'challenges': 366, 'chance': 367, 'change': 368, 'changes': 369, 'changing': 370, 'channel': 371, 'character': 372, 'characterisation': 373, 'characters': 374, 'charisma': 375, 'charismatic': 376, 'charles': 377, 'charlie': 378, 'charm': 379, 'charming': 380, 'chase': 381, 'chasing': 382, 'cheap': 383, 'cheaply': 384, 'check': 385, 'checking': 386, 'cheek': 387, 'cheekbones': 388, 'cheerfull': 389, 'cheerless': 390, 'cheesiness': 391, 'cheesy': 392, 'chemistry': 393, 'chick': 394, 'child': 395, 'childhood': 396, 'children': 397, 'childrens': 398, 'chills': 399, 'chilly': 400, 'chimp': 401, 'chodorov': 402, 'choice': 403, 'choices': 404, 'choked': 405, 'chosen': 406, 'chow': 407, 'christmas': 408, 'christopher': 409, 'church': 410, 'cinema': 411, 'cinematic': 412, 'cinematographers': 413, 'cinematography': 414, 'circumstances': 415, 'class': 416, 'classic': 417, 'classical': 418, 'clear': 419, 'clearly': 420, 'clever': 421, 'clich': 422, 'cliche': 423, 'clients': 424, 'cliff': 425, 'climax': 426, 'close': 427, 'closed': 428, 'clothes': 429, 'club': 430, 'co': 431, 'coach': 432, 'coal': 433, 'coastal': 434, 'coaster': 435, 'coherent': 436, 'cold': 437, 'cole': 438, 'collect': 439, 'collective': 440, 'colored': 441, 'colorful': 442, 'colours': 443, 'columbo': 444, 'come': 445, 'comedic': 446, 'comedy': 447, 'comes': 448, 'comfortable': 449, 'comforting': 450, 'comical': 451, 'coming': 452, 'commands': 453, 'comment': 454, 'commentary': 455, 'commented': 456, 'comments': 457, 'commercial': 458, 'community': 459, 'company': 460, 'compelling': 461, 'competent': 462, 'complete': 463, 'completed': 464, 'completely': 465, 'complex': 466, 'complexity': 467, 'composed': 468, 'composition': 469, 'comprehensible': 470, 'compromise': 471, 'computer': 472, 'concentrate': 473, 'conception': 474, 'conceptually': 475, 'concerning': 476, 'concerns': 477, 'concert': 478, 'conclusion': 479, 'condescends': 480, 'confidence': 481, 'configuration': 482, 'confirm': 483, 'conflict': 484, 'confuses': 485, 'confusing': 486, 'connections': 487, 'connery': 488, 'connor': 489, 'conrad': 490, 'consequences': 491, 'consider': 492, 'considerable': 493, 'considered': 494, 'considering': 495, 'considers': 496, 'consistent': 497, 'consolations': 498, 'constant': 499, 'constantine': 500, 'constructed': 501, 'contained': 502, 'containing': 503, 'contains': 504, 'content': 505, 'continually': 506, 'continuation': 507, 'continue': 508, 'continuity': 509, 'continuously': 510, 'contract': 511, 'contrast': 512, 'contributing': 513, 'contributory': 514, 'contrived': 515, 'control': 516, 'controversy': 517, 'convention': 518, 'convey': 519, 'convince': 520, 'convincing': 521, 'convoluted': 522, 'cool': 523, 'coppola': 524, 'cords': 525, 'core': 526, 'corn': 527, 'corny': 528, 'correct': 529, 'cost': 530, 'costs': 531, 'costumes': 532, 'cotton': 533, 'could': 534, 'couple': 535, 'course': 536, 'court': 537, 'courtroom': 538, 'cover': 539, 'cowardice': 540, 'cox': 541, 'crackles': 542, 'crafted': 543, 'crap': 544, 'crash': 545, 'crashed': 546, 'crayon': 547, 'crayons': 548, 'crazy': 549, 'create': 550, 'created': 551, 'creates': 552, 'creative': 553, 'creativity': 554, 'creature': 555, 'credible': 556, 'credit': 557, 'credits': 558, 'crew': 559, 'crime': 560, 'crisp': 561, 'critic': 562, 'critical': 563, 'crocdodile': 564, 'crocs': 565, 'cross': 566, 'crowd': 567, 'crowe': 568, 'cruel': 569, 'cruise': 570, 'cry': 571, 'cult': 572, 'culture': 573, 'curtain': 574, 'custer': 575, 'cute': 576, 'cutest': 577, 'cutie': 578, 'cutouts': 579, 'cuts': 580, 'cutting': 581, 'dads': 582, 'damian': 583, 'damn': 584, 'dance': 585, 'dancing': 586, 'dangerous': 587, 'dark': 588, 'darren': 589, 'daughter': 590, 'daughters': 591, 'day': 592, 'days': 593, 'de': 594, 'dead': 595, 'deadly': 596, 'deadpan': 597, 'deal': 598, 'dealt': 599, 'death': 600, 'debated': 601, 'debbie': 602, 'debits': 603, 'debut': 604, 'decay': 605, 'decent': 606, 'decidely': 607, 'decipher': 608, 'decisions': 609, 'dedication': 610, 'dee': 611, 'deep': 612, 'deeply': 613, 'defensemen': 614, 'defined': 615, 'definitely': 616, 'delete': 617, 'delight': 618, 'delightful': 619, 'delights': 620, 'deliver': 621, 'delivered': 622, 'delivering': 623, 'delivers': 624, 'dependant': 625, 'depending': 626, 'depends': 627, 'depicted': 628, 'depicts': 629, 'depressing': 630, 'depth': 631, 'derivative': 632, 'describe': 633, 'describes': 634, 'desert': 635, 'deserved': 636, 'deserves': 637, 'deserving': 638, 'design': 639, 'designed': 640, 'designer': 641, 'desperately': 642, 'desperation': 643, 'despised': 644, 'despite': 645, 'destroy': 646, 'detailing': 647, 'details': 648, 'develop': 649, 'development': 650, 'developments': 651, 'di': 652, 'diabetic': 653, 'dialog': 654, 'dialogs': 655, 'dialogue': 656, 'diaper': 657, 'dickens': 658, 'difference': 659, 'different': 660, 'dignity': 661, 'dimensional': 662, 'direct': 663, 'directed': 664, 'directing': 665, 'direction': 666, 'director': 667, 'directorial': 668, 'directors': 669, 'disappointed': 670, 'disappointing': 671, 'disappointment': 672, 'disaster': 673, 'disbelief': 674, 'discomfort': 675, 'discovering': 676, 'discovery': 677, 'disgrace': 678, 'disgusting': 679, 'dislike': 680, 'disliked': 681, 'disney': 682, 'disparate': 683, 'distant': 684, 'distinction': 685, 'distorted': 686, 'distract': 687, 'distressed': 688, 'disturbing': 689, 'diving': 690, 'doctor': 691, 'documentaries': 692, 'documentary': 693, 'dodge': 694, 'dogs': 695, 'dollars': 696, 'dominated': 697, 'done': 698, 'donlevy': 699, 'dont': 700, 'doomed': 701, 'dose': 702, 'doubt': 703, 'downs': 704, 'dozen': 705, 'dr': 706, 'dracula': 707, 'draft': 708, 'drag': 709, 'drago': 710, 'drama': 711, 'dramatic': 712, 'drawings': 713, 'drawn': 714, 'dream': 715, 'dreams': 716, 'dreary': 717, 'dribble': 718, 'drift': 719, 'drifting': 720, 'drive': 721, 'drooling': 722, 'dropped': 723, 'dry': 724, 'due': 725, 'duet': 726, 'dull': 727, 'dumb': 728, 'dumbest': 729, 'duper': 730, 'duris': 731, 'dustin': 732, 'dvd': 733, 'dwight': 734, 'dysfunction': 735, 'earlier': 736, 'early': 737, 'earth': 738, 'easily': 739, 'easy': 740, 'eating': 741, 'ebay': 742, 'ebola': 743, 'eccleston': 744, 'ed': 745, 'edge': 746, 'editing': 747, 'edition': 748, 'educational': 749, 'edward': 750, 'effect': 751, 'effective': 752, 'effects': 753, 'effort': 754, 'efforts': 755, 'egotism': 756, 'eighth': 757, 'eiko': 758, 'either': 759, 'elaborately': 760, 'elderly': 761, 'elegant': 762, 'element': 763, 'elias': 764, 'eloquently': 765, 'else': 766, 'elsewhere': 767, 'embarrassed': 768, 'embarrassing': 769, 'embassy': 770, 'emerge': 771, 'emilio': 772, 'emily': 773, 'emoting': 774, 'emotion': 775, 'emotionally': 776, 'emotions': 777, 'emperor': 778, 'empowerment': 779, 'emptiness': 780, 'empty': 781, 'en': 782, 'enchanting': 783, 'end': 784, 'endearing': 785, 'ended': 786, 'ending': 787, 'endlessly': 788, 'ends': 789, 'energetic': 790, 'energy': 791, 'engaging': 792, 'english': 793, 'enhanced': 794, 'enjoy': 795, 'enjoyable': 796, 'enjoyed': 797, 'enjoyment': 798, 'enough': 799, 'enter': 800, 'enterprise': 801, 'entertained': 802, 'entertaining': 803, 'entire': 804, 'entirely': 805, 'entrance': 806, 'episode': 807, 'episodes': 808, 'equivalent': 809, 'era': 810, 'errol': 811, 'errors': 812, 'escalating': 813, 'escapism': 814, 'especially': 815, 'essence': 816, 'establish': 817, 'established': 818, 'estate': 819, 'estevez': 820, 'etc': 821, 'european': 822, 'evaluate': 823, 'even': 824, 'events': 825, 'ever': 826, 'every': 827, 'everybody': 828, 'everyone': 829, 'everything': 830, 'everywhere': 831, 'evidently': 832, 'evil': 833, 'evinced': 834, 'evokes': 835, 'exactly': 836, 'exaggerating': 837, 'example': 838, 'excellent': 839, 'excellently': 840, 'except': 841, 'exceptional': 842, 'exceptionally': 843, 'excerpts': 844, 'excessively': 845, 'exchange': 846, 'exciting': 847, 'excruciatingly': 848, 'excuse': 849, 'excuses': 850, 'executed': 851, 'exemplars': 852, 'existent': 853, 'existential': 854, 'expansive': 855, 'expect': 856, 'expectations': 857, 'expected': 858, 'expecting': 859, 'experience': 860, 'experiences': 861, 'expert': 862, 'explain': 863, 'explains': 864, 'explanation': 865, 'exploit': 866, 'explorations': 867, 'explosion': 868, 'expression': 869, 'exquisite': 870, 'extant': 871, 'exteriors': 872, 'extraneous': 873, 'extraordinary': 874, 'extremely': 875, 'eye': 876, 'eyes': 877, 'fabulous': 878, 'face': 879, 'faces': 880, 'facial': 881, 'facing': 882, 'fact': 883, 'factory': 884, 'failed': 885, 'fails': 886, 'fair': 887, 'fairly': 888, 'faithful': 889, 'fall': 890, 'falling': 891, 'falls': 892, 'falsely': 893, 'falwell': 894, 'fame': 895, 'famed': 896, 'family': 897, 'famous': 898, 'fan': 899, 'fanciful': 900, 'fans': 901, 'fantastic': 902, 'fantasy': 903, 'far': 904, 'farce': 905, 'fare': 906, 'fascinated': 907, 'fascinating': 908, 'fascination': 909, 'fashioned': 910, 'fast': 911, 'faster': 912, 'fat': 913, 'father': 914, 'faultless': 915, 'fausa': 916, 'faux': 917, 'favorite': 918, 'favourite': 919, 'fear': 920, 'feature': 921, 'features': 922, 'feel': 923, 'feeling': 924, 'feelings': 925, 'feet': 926, 'feisty': 927, 'fellowes': 928, 'felt': 929, 'female': 930, 'females': 931, 'ferry': 932, 'fest': 933, 'fi': 934, 'fields': 935, 'fifteen': 936, 'fifties': 937, 'fill': 938, 'film': 939, 'filmed': 940, 'filmiing': 941, 'filmmaker': 942, 'filmography': 943, 'films': 944, 'final': 945, 'finale': 946, 'finally': 947, 'financial': 948, 'find': 949, 'finds': 950, 'fine': 951, 'finest': 952, 'fingernails': 953, 'finished': 954, 'fire': 955, 'first': 956, 'fish': 957, 'fishnet': 958, 'fisted': 959, 'fit': 960, 'five': 961, 'flag': 962, 'flakes': 963, 'flaming': 964, 'flashbacks': 965, 'flat': 966, 'flaw': 967, 'flawed': 968, 'flaws': 969, 'fleshed': 970, 'flick': 971, 'flicks': 972, 'florida': 973, 'flowed': 974, 'flying': 975, 'flynn': 976, 'focus': 977, 'fodder': 978, 'follow': 979, 'following': 980, 'follows': 981, 'foolish': 982, 'footage': 983, 'football': 984, 'force': 985, 'forced': 986, 'forces': 987, 'ford': 988, 'foreign': 989, 'foreigner': 990, 'forever': 991, 'forget': 992, 'forgettable': 993, 'forgetting': 994, 'forgot': 995, 'forgotten': 996, 'form': 997, 'format': 998, 'former': 999, 'fort': 1000, 'forth': 1001, 'forwarded': 1002, 'found': 1003, 'four': 1004, 'fox': 1005, 'foxx': 1006, 'frances': 1007, 'francis': 1008, 'frankly': 1009, 'free': 1010, 'freedom': 1011, 'freeman': 1012, 'french': 1013, 'fresh': 1014, 'freshness': 1015, 'friends': 1016, 'friendship': 1017, 'frightening': 1018, 'front': 1019, 'frontier': 1020, 'frost': 1021, 'frustration': 1022, 'fulci': 1023, 'fulfilling': 1024, 'full': 1025, 'fully': 1026, 'fumbling': 1027, 'fun': 1028, 'function': 1029, 'fundamental': 1030, 'funniest': 1031, 'funny': 1032, 'future': 1033, 'fx': 1034, 'gabriel': 1035, 'gadget': 1036, 'gain': 1037, 'gake': 1038, 'galley': 1039, 'gallon': 1040, 'game': 1041, 'games': 1042, 'garage': 1043, 'garbage': 1044, 'garbo': 1045, 'garfield': 1046, 'gas': 1047, 'gaudi': 1048, 'gave': 1049, 'gay': 1050, 'geek': 1051, 'gem': 1052, 'general': 1053, 'generally': 1054, 'generates': 1055, 'generic': 1056, 'genius': 1057, 'genre': 1058, 'gently': 1059, 'genuine': 1060, 'george': 1061, 'gerardo': 1062, 'gere': 1063, 'get': 1064, 'gets': 1065, 'getting': 1066, 'ghibili': 1067, 'giallo': 1068, 'gibberish': 1069, 'gifted': 1070, 'giovanni': 1071, 'girl': 1072, 'girlfriend': 1073, 'girls': 1074, 'girolamo': 1075, 'give': 1076, 'given': 1077, 'gives': 1078, 'giving': 1079, 'glad': 1080, 'glance': 1081, 'glasses': 1082, 'gloriously': 1083, 'go': 1084, 'goalies': 1085, 'god': 1086, 'goes': 1087, 'going': 1088, 'gone': 1089, 'gonna': 1090, 'good': 1091, 'gore': 1092, 'goremeister': 1093, 'gorman': 1094, 'gosh': 1095, 'got': 1096, 'goth': 1097, 'gotta': 1098, 'gotten': 1099, 'government': 1100, 'grace': 1101, 'grade': 1102, 'gradually': 1103, 'grainy': 1104, 'granted': 1105, 'graphics': 1106, 'grasp': 1107, 'grates': 1108, 'great': 1109, 'greatest': 1110, 'greatness': 1111, 'green': 1112, 'greenstreet': 1113, 'grew': 1114, 'grim': 1115, 'grimes': 1116, 'gripping': 1117, 'groove': 1118, 'gross': 1119, 'ground': 1120, 'guards': 1121, 'guess': 1122, 'guests': 1123, 'guilt': 1124, 'gung': 1125, 'guy': 1126, 'guys': 1127, 'hackneyed': 1128, 'haggis': 1129, 'hair': 1130, 'hairsplitting': 1131, 'half': 1132, 'halfway': 1133, 'ham': 1134, 'hand': 1135, 'handle': 1136, 'handled': 1137, 'handles': 1138, 'hands': 1139, 'hang': 1140, 'hankies': 1141, 'hanks': 1142, 'happen': 1143, 'happened': 1144, 'happiness': 1145, 'happy': 1146, 'hard': 1147, 'harris': 1148, 'hate': 1149, 'hated': 1150, 'hatred': 1151, 'havilland': 1152, 'hay': 1153, 'hayao': 1154, 'hayworth': 1155, 'hbo': 1156, 'head': 1157, 'heads': 1158, 'hear': 1159, 'heard': 1160, 'heart': 1161, 'hearts': 1162, 'heartwarming': 1163, 'heaven': 1164, 'heche': 1165, 'heels': 1166, 'heist': 1167, 'helen': 1168, 'hell': 1169, 'hellish': 1170, 'helms': 1171, 'help': 1172, 'helping': 1173, 'helps': 1174, 'hence': 1175, 'hendrikson': 1176, 'hernandez': 1177, 'hero': 1178, 'heroes': 1179, 'heroine': 1180, 'heroism': 1181, 'hes': 1182, 'hide': 1183, 'high': 1184, 'higher': 1185, 'highest': 1186, 'highlights': 1187, 'highly': 1188, 'hilarious': 1189, 'hill': 1190, 'hilt': 1191, 'hip': 1192, 'history': 1193, 'hitchcock': 1194, 'ho': 1195, 'hockey': 1196, 'hoffman': 1197, 'hold': 1198, 'holding': 1199, 'holds': 1200, 'holes': 1201, 'hollander': 1202, 'hollow': 1203, 'hollywood': 1204, 'home': 1205, 'homework': 1206, 'honest': 1207, 'honestly': 1208, 'hoot': 1209, 'hope': 1210, 'hopefully': 1211, 'hopeless': 1212, 'horrendous': 1213, 'horrendously': 1214, 'horrible': 1215, 'horrid': 1216, 'horrified': 1217, 'horror': 1218, 'horse': 1219, 'hosting': 1220, 'hot': 1221, 'hour': 1222, 'hours': 1223, 'house': 1224, 'houses': 1225, 'howdy': 1226, 'howe': 1227, 'howell': 1228, 'however': 1229, 'huge': 1230, 'hugo': 1231, 'human': 1232, 'humanity': 1233, 'humans': 1234, 'hummh': 1235, 'humor': 1236, 'humorous': 1237, 'humour': 1238, 'hurt': 1239, 'huston': 1240, 'hype': 1241, 'hypocrisy': 1242, 'idea': 1243, 'idealogical': 1244, 'identified': 1245, 'identifies': 1246, 'identify': 1247, 'idiot': 1248, 'idiotic': 1249, 'idyllic': 1250, 'iffy': 1251, 'im': 1252, 'imaginable': 1253, 'imagination': 1254, 'imaginative': 1255, 'imagine': 1256, 'imdb': 1257, 'imitation': 1258, 'impact': 1259, 'imperial': 1260, 'implausible': 1261, 'important': 1262, 'impossible': 1263, 'impressed': 1264, 'impression': 1265, 'impressive': 1266, 'improved': 1267, 'improvement': 1268, 'improvisation': 1269, 'impulse': 1270, 'inappropriate': 1271, 'incendiary': 1272, 'includes': 1273, 'including': 1274, 'incomprehensible': 1275, 'inconsistencies': 1276, 'incorrectness': 1277, 'incredible': 1278, 'incredibly': 1279, 'indeed': 1280, 'indescribably': 1281, 'indication': 1282, 'indictment': 1283, 'indie': 1284, 'individual': 1285, 'indoor': 1286, 'indulgent': 1287, 'industry': 1288, 'ineptly': 1289, 'inexperience': 1290, 'inexplicable': 1291, 'initially': 1292, 'innocence': 1293, 'insane': 1294, 'inside': 1295, 'insincere': 1296, 'insipid': 1297, 'insomniacs': 1298, 'inspiration': 1299, 'inspiring': 1300, 'instant': 1301, 'instead': 1302, 'instruments': 1303, 'insulin': 1304, 'insult': 1305, 'intangibles': 1306, 'integral': 1307, 'integration': 1308, 'intelligence': 1309, 'intelligent': 1310, 'intense': 1311, 'intensity': 1312, 'intentions': 1313, 'interacting': 1314, 'interest': 1315, 'interested': 1316, 'interesting': 1317, 'interim': 1318, 'interplay': 1319, 'interpretations': 1320, 'interview': 1321, 'intoning': 1322, 'intrigued': 1323, 'inventive': 1324, 'involved': 1325, 'involves': 1326, 'involving': 1327, 'iq': 1328, 'ireland': 1329, 'ironically': 1330, 'irons': 1331, 'ironside': 1332, 'irritating': 1333, 'ishioka': 1334, 'iso': 1335, 'issue': 1336, 'issues': 1337, 'istagey': 1338, 'italian': 1339, 'ive': 1340, 'jack': 1341, 'jaclyn': 1342, 'james': 1343, 'jamie': 1344, 'japanese': 1345, 'jason': 1346, 'jay': 1347, 'jealousy': 1348, 'jean': 1349, 'jennifer': 1350, 'jerky': 1351, 'jerry': 1352, 'jessica': 1353, 'jessice': 1354, 'jet': 1355, 'jim': 1356, 'jimmy': 1357, 'job': 1358, 'jobs': 1359, 'joe': 1360, 'john': 1361, 'joins': 1362, 'joke': 1363, 'jokes': 1364, 'jonah': 1365, 'jones': 1366, 'journey': 1367, 'joy': 1368, 'joyce': 1369, 'juano': 1370, 'judge': 1371, 'judging': 1372, 'judith': 1373, 'judo': 1374, 'julian': 1375, 'june': 1376, 'junk': 1377, 'junkyard': 1378, 'justice': 1379, 'jutland': 1380, 'kanaly': 1381, 'kathy': 1382, 'keep': 1383, 'keeps': 1384, 'keira': 1385, 'keith': 1386, 'kept': 1387, 'kevin': 1388, 'kid': 1389, 'kidnapped': 1390, 'kids': 1391, 'kieslowski': 1392, 'kill': 1393, 'killer': 1394, 'killing': 1395, 'killings': 1396, 'kind': 1397, 'kinda': 1398, 'kirk': 1399, 'kitchy': 1400, 'knew': 1401, 'knightley': 1402, 'knocked': 1403, 'know': 1404, 'known': 1405, 'knows': 1406, 'koteas': 1407, 'kris': 1408, 'kristoffersen': 1409, 'kudos': 1410, 'la': 1411, 'labute': 1412, 'lack': 1413, 'lacked': 1414, 'lacks': 1415, 'ladies': 1416, 'lady': 1417, 'lame': 1418, 'lance': 1419, 'landscapes': 1420, 'lane': 1421, 'lange': 1422, 'largely': 1423, 'laselva': 1424, 'lassie': 1425, 'last': 1426, 'lasting': 1427, 'latched': 1428, 'late': 1429, 'later': 1430, 'latest': 1431, 'latifa': 1432, 'latin': 1433, 'latter': 1434, 'laugh': 1435, 'laughable': 1436, 'laughed': 1437, 'laughs': 1438, 'layers': 1439, 'lazy': 1440, 'lead': 1441, 'leading': 1442, 'leap': 1443, 'learn': 1444, 'least': 1445, 'leave': 1446, 'leaves': 1447, 'leaving': 1448, 'lee': 1449, 'left': 1450, 'legal': 1451, 'legendary': 1452, 'length': 1453, 'leni': 1454, 'less': 1455, 'lesser': 1456, 'lestat': 1457, 'let': 1458, 'lets': 1459, 'letting': 1460, 'level': 1461, 'levels': 1462, 'lewis': 1463, 'lid': 1464, 'lie': 1465, 'lies': 1466, 'lieutenant': 1467, 'life': 1468, 'lifetime': 1469, 'light': 1470, 'lighting': 1471, 'like': 1472, 'liked': 1473, 'likes': 1474, 'lilli': 1475, 'lilt': 1476, 'limitations': 1477, 'limited': 1478, 'linda': 1479, 'line': 1480, 'linear': 1481, 'lines': 1482, 'lino': 1483, 'lion': 1484, 'list': 1485, 'literally': 1486, 'littered': 1487, 'little': 1488, 'lived': 1489, 'lives': 1490, 'living': 1491, 'loads': 1492, 'local': 1493, 'location': 1494, 'locations': 1495, 'loewenhielm': 1496, 'logic': 1497, 'london': 1498, 'loneliness': 1499, 'long': 1500, 'longer': 1501, 'look': 1502, 'looked': 1503, 'looking': 1504, 'looks': 1505, 'loose': 1506, 'loosely': 1507, 'lord': 1508, 'los': 1509, 'losing': 1510, 'lost': 1511, 'lot': 1512, 'lots': 1513, 'lousy': 1514, 'lovable': 1515, 'love': 1516, 'loved': 1517, 'lovely': 1518, 'loves': 1519, 'low': 1520, 'lower': 1521, 'loyalty': 1522, 'lucio': 1523, 'lucy': 1524, 'lugosi': 1525, 'lust': 1526, 'luv': 1527, 'lyrics': 1528, 'macbeth': 1529, 'machine': 1530, 'mad': 1531, 'made': 1532, 'magnificent': 1533, 'main': 1534, 'mainly': 1535, 'major': 1536, 'make': 1537, 'maker': 1538, 'makers': 1539, 'makes': 1540, 'making': 1541, 'male': 1542, 'males': 1543, 'malta': 1544, 'man': 1545, 'managed': 1546, 'manages': 1547, 'manna': 1548, 'mansonites': 1549, 'many': 1550, 'marbles': 1551, 'march': 1552, 'marine': 1553, 'marion': 1554, 'mark': 1555, 'marred': 1556, 'marriage': 1557, 'martin': 1558, 'masculine': 1559, 'masculinity': 1560, 'massive': 1561, 'master': 1562, 'masterful': 1563, 'masterpiece': 1564, 'masterpieces': 1565, 'material': 1566, 'matrix': 1567, 'matter': 1568, 'matthews': 1569, 'mature': 1570, 'may': 1571, 'maybe': 1572, 'mchattie': 1573, 'mclaglen': 1574, 'meagre': 1575, 'mean': 1576, 'meanders': 1577, 'meaning': 1578, 'meanings': 1579, 'meant': 1580, 'medical': 1581, 'mediocre': 1582, 'meld': 1583, 'melodrama': 1584, 'melville': 1585, 'member': 1586, 'members': 1587, 'memorable': 1588, 'memories': 1589, 'memorized': 1590, 'menace': 1591, 'menacing': 1592, 'mention': 1593, 'mercy': 1594, 'meredith': 1595, 'merit': 1596, 'mesmerising': 1597, 'mess': 1598, 'messages': 1599, 'meteorite': 1600, 'mexican': 1601, 'michael': 1602, 'mickey': 1603, 'microsoft': 1604, 'middle': 1605, 'might': 1606, 'mighty': 1607, 'mind': 1608, 'mindblowing': 1609, 'miner': 1610, 'mini': 1611, 'minor': 1612, 'minute': 1613, 'minutes': 1614, 'mirrormask': 1615, 'miserable': 1616, 'miserably': 1617, 'mishima': 1618, 'misplace': 1619, 'miss': 1620, 'missed': 1621, 'mistakes': 1622, 'miyazaki': 1623, 'modern': 1624, 'modest': 1625, 'mollusk': 1626, 'moment': 1627, 'moments': 1628, 'momentum': 1629, 'money': 1630, 'monica': 1631, 'monolog': 1632, 'monotonous': 1633, 'monster': 1634, 'monstrous': 1635, 'monumental': 1636, 'moral': 1637, 'morgan': 1638, 'morons': 1639, 'mostly': 1640, 'mother': 1641, 'motion': 1642, 'motivations': 1643, 'mountain': 1644, 'mouse': 1645, 'mouth': 1646, 'move': 1647, 'moved': 1648, 'movements': 1649, 'moves': 1650, 'movie': 1651, 'movies': 1652, 'moving': 1653, 'ms': 1654, 'much': 1655, 'muddled': 1656, 'muppets': 1657, 'murder': 1658, 'murdered': 1659, 'murdering': 1660, 'murky': 1661, 'music': 1662, 'musician': 1663, 'must': 1664, 'mystifying': 1665, 'naked': 1666, 'narration': 1667, 'narrative': 1668, 'nasty': 1669, 'national': 1670, 'nationalities': 1671, 'native': 1672, 'natural': 1673, 'nature': 1674, 'naughty': 1675, 'nearly': 1676, 'necklace': 1677, 'need': 1678, 'needed': 1679, 'needlessly': 1680, 'negative': 1681, 'negulesco': 1682, 'neighbour': 1683, 'neil': 1684, 'nerves': 1685, 'nervous': 1686, 'net': 1687, 'netflix': 1688, 'network': 1689, 'never': 1690, 'nevertheless': 1691, 'nevsky': 1692, 'new': 1693, 'next': 1694, 'nice': 1695, 'nicola': 1696, 'night': 1697, 'nimoy': 1698, 'nine': 1699, 'no': 1700, 'noble': 1701, 'nobody': 1702, 'noir': 1703, 'non': 1704, 'none': 1705, 'nonetheless': 1706, 'nonsense': 1707, 'nor': 1708, 'normally': 1709, 'northern': 1710, 'nostalgia': 1711, 'not': 1712, 'notable': 1713, 'notch': 1714, 'note': 1715, 'noteworthy': 1716, 'nothing': 1717, 'novella': 1718, 'number': 1719, 'numbers': 1720, 'nun': 1721, 'nuns': 1722, 'nurse': 1723, 'nut': 1724, 'nuts': 1725, 'obliged': 1726, 'obsessed': 1727, 'obvious': 1728, 'obviously': 1729, 'occasionally': 1730, 'occupied': 1731, 'occur': 1732, 'occurs': 1733, 'odd': 1734, 'offend': 1735, 'offensive': 1736, 'offer': 1737, 'offers': 1738, 'often': 1739, 'oh': 1740, 'okay': 1741, 'old': 1742, 'olde': 1743, 'older': 1744, 'ole': 1745, 'olivia': 1746, 'omit': 1747, 'one': 1748, 'ones': 1749, 'open': 1750, 'opened': 1751, 'opening': 1752, 'operas': 1753, 'opinion': 1754, 'ordeal': 1755, 'oriented': 1756, 'original': 1757, 'originality': 1758, 'origins': 1759, 'ortolani': 1760, 'oscar': 1761, 'others': 1762, 'otherwise': 1763, 'ought': 1764, 'outlandish': 1765, 'outlets': 1766, 'outside': 1767, 'outward': 1768, 'overacting': 1769, 'overall': 1770, 'overcome': 1771, 'overdue': 1772, 'overly': 1773, 'overs': 1774, 'overt': 1775, 'overwrought': 1776, 'owed': 1777, 'owls': 1778, 'owned': 1779, 'owns': 1780, 'oy': 1781, 'pace': 1782, 'paced': 1783, 'pacing': 1784, 'pack': 1785, 'paid': 1786, 'painful': 1787, 'painfully': 1788, 'paint': 1789, 'painted': 1790, 'pair': 1791, 'palance': 1792, 'pandering': 1793, 'pans': 1794, 'paolo': 1795, 'pap': 1796, 'paper': 1797, 'par': 1798, 'parents': 1799, 'park': 1800, 'parker': 1801, 'part': 1802, 'partaking': 1803, 'particular': 1804, 'particularly': 1805, 'parts': 1806, 'passed': 1807, 'passion': 1808, 'past': 1809, 'patent': 1810, 'pathetic': 1811, 'patriotism': 1812, 'paul': 1813, 'pay': 1814, 'peaking': 1815, 'pearls': 1816, 'peculiarity': 1817, 'pedestal': 1818, 'pencil': 1819, 'people': 1820, 'perabo': 1821, 'perfect': 1822, 'perfected': 1823, 'perfectly': 1824, 'performance': 1825, 'performances': 1826, 'perhaps': 1827, 'period': 1828, 'perplexing': 1829, 'person': 1830, 'personalities': 1831, 'personally': 1832, 'peter': 1833, 'pg': 1834, 'phantasm': 1835, 'phenomenal': 1836, 'philippa': 1837, 'phony': 1838, 'photograph': 1839, 'photography': 1840, 'phrase': 1841, 'physical': 1842, 'pi': 1843, 'picked': 1844, 'picture': 1845, 'pictures': 1846, 'piece': 1847, 'pieces': 1848, 'pile': 1849, 'pillow': 1850, 'pitch': 1851, 'pitiful': 1852, 'pixar': 1853, 'place': 1854, 'places': 1855, 'plain': 1856, 'plane': 1857, 'planned': 1858, 'plants': 1859, 'play': 1860, 'played': 1861, 'player': 1862, 'players': 1863, 'playing': 1864, 'plays': 1865, 'pleasant': 1866, 'pleased': 1867, 'pleaser': 1868, 'pleasing': 1869, 'pledge': 1870, 'plenty': 1871, 'plmer': 1872, 'plot': 1873, 'plug': 1874, 'plus': 1875, 'pm': 1876, 'poet': 1877, 'poetry': 1878, 'poignant': 1879, 'point': 1880, 'pointillistic': 1881, 'pointless': 1882, 'poised': 1883, 'poler': 1884, 'political': 1885, 'politically': 1886, 'politics': 1887, 'ponyo': 1888, 'poor': 1889, 'poorly': 1890, 'popcorn': 1891, 'popular': 1892, 'portrayal': 1893, 'portrayals': 1894, 'portrayed': 1895, 'portraying': 1896, 'positive': 1897, 'possible': 1898, 'possibly': 1899, 'post': 1900, 'potted': 1901, 'power': 1902, 'powerful': 1903, 'powerhouse': 1904, 'practical': 1905, 'practically': 1906, 'pray': 1907, 'precisely': 1908, 'predict': 1909, 'predictable': 1910, 'predictably': 1911, 'prejudice': 1912, 'prelude': 1913, 'premise': 1914, 'prepared': 1915, 'presence': 1916, 'presents': 1917, 'preservation': 1918, 'president': 1919, 'pretentious': 1920, 'pretext': 1921, 'pretty': 1922, 'previous': 1923, 'primal': 1924, 'primary': 1925, 'probably': 1926, 'problem': 1927, 'problems': 1928, 'proceedings': 1929, 'process': 1930, 'produce': 1931, 'produced': 1932, 'producer': 1933, 'producers': 1934, 'product': 1935, 'production': 1936, 'professionals': 1937, 'professor': 1938, 'progresses': 1939, 'promote': 1940, 'prompted': 1941, 'prone': 1942, 'propaganda': 1943, 'properly': 1944, 'proud': 1945, 'proudly': 1946, 'provided': 1947, 'provokes': 1948, 'provoking': 1949, 'ps': 1950, 'pseudo': 1951, 'psychological': 1952, 'psychotic': 1953, 'public': 1954, 'pull': 1955, 'pulling': 1956, 'pulls': 1957, 'punched': 1958, 'punches': 1959, 'punish': 1960, 'punishment': 1961, 'puppet': 1962, 'puppets': 1963, 'pure': 1964, 'purity': 1965, 'put': 1966, 'putting': 1967, 'puzzle': 1968, 'pyromaniac': 1969, 'qu': 1970, 'quaid': 1971, 'qualities': 1972, 'quality': 1973, 'question': 1974, 'questioning': 1975, 'quick': 1976, 'quicker': 1977, 'quiet': 1978, 'quinn': 1979, 'quite': 1980, 'race': 1981, 'racial': 1982, 'racism': 1983, 'radiant': 1984, 'raging': 1985, 'random': 1986, 'range': 1987, 'ranks': 1988, 'rare': 1989, 'rate': 1990, 'rated': 1991, 'rather': 1992, 'rating': 1993, 'ratings': 1994, 'raver': 1995, 'raw': 1996, 'ray': 1997, 'reactions': 1998, 'readers': 1999, 'reading': 2000, 'ready': 2001, 'real': 2002, 'realised': 2003, 'realistic': 2004, 'reality': 2005, 'realize': 2006, 'realized': 2007, 'really': 2008, 'reason': 2009, 'reasonable': 2010, 'reasons': 2011, 'receive': 2012, 'received': 2013, 'recent': 2014, 'recently': 2015, 'recommend': 2016, 'recommended': 2017, 'reconciliation': 2018, 'recover': 2019, 'recurring': 2020, 'redeemed': 2021, 'redeeming': 2022, 'reenactments': 2023, 'references': 2024, 'reflected': 2025, 'refreshing': 2026, 'regardless': 2027, 'regret': 2028, 'regrettable': 2029, 'regrettably': 2030, 'rejection': 2031, 'relate': 2032, 'related': 2033, 'relation': 2034, 'relations': 2035, 'relationship': 2036, 'relationships': 2037, 'relatively': 2038, 'relaxing': 2039, 'release': 2040, 'released': 2041, 'relief': 2042, 'relying': 2043, 'remaining': 2044, 'remake': 2045, 'remarkable': 2046, 'remember': 2047, 'reminded': 2048, 'remotely': 2049, 'removing': 2050, 'rendering': 2051, 'rendition': 2052, 'renowned': 2053, 'rent': 2054, 'repair': 2055, 'repeated': 2056, 'repeating': 2057, 'repeats': 2058, 'repertory': 2059, 'reporter': 2060, 'represents': 2061, 'require': 2062, 'rescue': 2063, 'researched': 2064, 'resounding': 2065, 'respecting': 2066, 'rest': 2067, 'restrained': 2068, 'result': 2069, 'results': 2070, 'resume': 2071, 'retarded': 2072, 'retreat': 2073, 'return': 2074, 'revealing': 2075, 'revenge': 2076, 'revere': 2077, 'reverse': 2078, 'review': 2079, 'reviewer': 2080, 'reviewers': 2081, 'reviews': 2082, 'rice': 2083, 'rickman': 2084, 'ridiculous': 2085, 'ridiculousness': 2086, 'right': 2087, 'riot': 2088, 'rips': 2089, 'rise': 2090, 'rita': 2091, 'rivalry': 2092, 'riveted': 2093, 'riz': 2094, 'road': 2095, 'robert': 2096, 'robotic': 2097, 'rochon': 2098, 'rocked': 2099, 'rocks': 2100, 'roeg': 2101, 'role': 2102, 'roles': 2103, 'roller': 2104, 'rolls': 2105, 'romantic': 2106, 'room': 2107, 'roosevelt': 2108, 'roth': 2109, 'rough': 2110, 'round': 2111, 'routine': 2112, 'row': 2113, 'rpg': 2114, 'rpger': 2115, 'rubbish': 2116, 'rubin': 2117, 'rumbles': 2118, 'run': 2119, 'running': 2120, 'ruthless': 2121, 'ryan': 2122, 'ryans': 2123, 'sabotages': 2124, 'sack': 2125, 'sacrifice': 2126, 'sad': 2127, 'said': 2128, 'sake': 2129, 'salesman': 2130, 'sam': 2131, 'sample': 2132, 'sand': 2133, 'sandra': 2134, 'sappiest': 2135, 'sarcophage': 2136, 'sat': 2137, 'satanic': 2138, 'savalas': 2139, 'savant': 2140, 'save': 2141, 'savor': 2142, 'saw': 2143, 'say': 2144, 'says': 2145, 'scale': 2146, 'scamp': 2147, 'scare': 2148, 'scared': 2149, 'scares': 2150, 'scary': 2151, 'scene': 2152, 'scenery': 2153, 'scenes': 2154, 'schilling': 2155, 'schizophrenic': 2156, 'school': 2157, 'schoolers': 2158, 'schrader': 2159, 'schultz': 2160, 'sci': 2161, 'science': 2162, 'scientist': 2163, 'score': 2164, 'scot': 2165, 'scream': 2166, 'screamy': 2167, 'screen': 2168, 'screened': 2169, 'screenplay': 2170, 'screenwriter': 2171, 'scrimm': 2172, 'script': 2173, 'scripted': 2174, 'scripting': 2175, 'scripts': 2176, 'sculpture': 2177, 'sea': 2178, 'seamless': 2179, 'seamlessly': 2180, 'sean': 2181, 'season': 2182, 'seat': 2183, 'second': 2184, 'secondary': 2185, 'secondly': 2186, 'see': 2187, 'seeing': 2188, 'seem': 2189, 'seemed': 2190, 'seems': 2191, 'seen': 2192, 'selections': 2193, 'self': 2194, 'sells': 2195, 'semi': 2196, 'senior': 2197, 'sense': 2198, 'senses': 2199, 'sensibility': 2200, 'sensitivities': 2201, 'sentiment': 2202, 'seperate': 2203, 'sequel': 2204, 'sequels': 2205, 'sequence': 2206, 'sequences': 2207, 'series': 2208, 'serious': 2209, 'seriously': 2210, 'served': 2211, 'set': 2212, 'sets': 2213, 'setting': 2214, 'settings': 2215, 'seuss': 2216, 'several': 2217, 'sex': 2218, 'shakespear': 2219, 'shakespears': 2220, 'shallow': 2221, 'shame': 2222, 'shameful': 2223, 'share': 2224, 'sharing': 2225, 'sharply': 2226, 'shatner': 2227, 'shattered': 2228, 'shed': 2229, 'sheer': 2230, 'shelf': 2231, 'shell': 2232, 'shelves': 2233, 'shenanigans': 2234, 'shepard': 2235, 'shined': 2236, 'shirley': 2237, 'shocking': 2238, 'shooting': 2239, 'short': 2240, 'shortlist': 2241, 'shot': 2242, 'shots': 2243, 'show': 2244, 'showcasing': 2245, 'showed': 2246, 'shows': 2247, 'shut': 2248, 'sibling': 2249, 'sick': 2250, 'side': 2251, 'sidelined': 2252, 'sign': 2253, 'significant': 2254, 'silent': 2255, 'silly': 2256, 'simmering': 2257, 'simplifying': 2258, 'simply': 2259, 'since': 2260, 'sincere': 2261, 'sing': 2262, 'singing': 2263, 'single': 2264, 'sinister': 2265, 'sink': 2266, 'sinking': 2267, 'sister': 2268, 'sisters': 2269, 'sit': 2270, 'sitcoms': 2271, 'site': 2272, 'sites': 2273, 'sits': 2274, 'situation': 2275, 'situations': 2276, 'skilled': 2277, 'skip': 2278, 'slackers': 2279, 'slavic': 2280, 'sleep': 2281, 'slideshow': 2282, 'slightest': 2283, 'slightly': 2284, 'slimy': 2285, 'sloppy': 2286, 'slow': 2287, 'slurs': 2288, 'smack': 2289, 'small': 2290, 'smart': 2291, 'smells': 2292, 'smile': 2293, 'smiling': 2294, 'smith': 2295, 'smoothly': 2296, 'snider': 2297, 'snow': 2298, 'soap': 2299, 'sobering': 2300, 'social': 2301, 'soldiers': 2302, 'sole': 2303, 'solid': 2304, 'solidifying': 2305, 'solving': 2306, 'someone': 2307, 'something': 2308, 'sometimes': 2309, 'somewhat': 2310, 'son': 2311, 'song': 2312, 'songs': 2313, 'soon': 2314, 'sophisticated': 2315, 'sorrentino': 2316, 'sorry': 2317, 'sort': 2318, 'soul': 2319, 'sound': 2320, 'sounded': 2321, 'sounds': 2322, 'soundtrack': 2323, 'sour': 2324, 'south': 2325, 'southern': 2326, 'space': 2327, 'spacek': 2328, 'spacey': 2329, 'span': 2330, 'speak': 2331, 'speaking': 2332, 'special': 2333, 'speed': 2334, 'spend': 2335, 'spent': 2336, 'spew': 2337, 'sphere': 2338, 'spiffy': 2339, 'splendid': 2340, 'spock': 2341, 'spoil': 2342, 'spoiled': 2343, 'spoiler': 2344, 'spoilers': 2345, 'spot': 2346, 'spy': 2347, 'squibs': 2348, 'stable': 2349, 'stage': 2350, 'stagy': 2351, 'stand': 2352, 'standout': 2353, 'stanwyck': 2354, 'star': 2355, 'starlet': 2356, 'starring': 2357, 'stars': 2358, 'start': 2359, 'started': 2360, 'starts': 2361, 'state': 2362, 'stay': 2363, 'stayed': 2364, 'stealing': 2365, 'steamboat': 2366, 'steele': 2367, 'step': 2368, 'stephen': 2369, 'stereotypes': 2370, 'stereotypically': 2371, 'steve': 2372, 'stewart': 2373, 'stick': 2374, 'still': 2375, 'stinker': 2376, 'stinks': 2377, 'stocking': 2378, 'stockings': 2379, 'stoic': 2380, 'store': 2381, 'stories': 2382, 'storm': 2383, 'story': 2384, 'storyline': 2385, 'storytelling': 2386, 'stowe': 2387, 'strange': 2388, 'stranger': 2389, 'stratus': 2390, 'straw': 2391, 'street': 2392, 'strident': 2393, 'string': 2394, 'strives': 2395, 'strokes': 2396, 'strong': 2397, 'struck': 2398, 'structure': 2399, 'struggle': 2400, 'stuart': 2401, 'student': 2402, 'students': 2403, 'studio': 2404, 'study': 2405, 'stuff': 2406, 'stunning': 2407, 'stupid': 2408, 'stupidity': 2409, 'style': 2410, 'stylized': 2411, 'sub': 2412, 'subject': 2413, 'subjects': 2414, 'sublime': 2415, 'sublimely': 2416, 'subplots': 2417, 'subtitles': 2418, 'subtle': 2419, 'subversive': 2420, 'subverting': 2421, 'succeeded': 2422, 'succeeds': 2423, 'success': 2424, 'suck': 2425, 'sucked': 2426, 'sucks': 2427, 'suffered': 2428, 'suffering': 2429, 'suggest': 2430, 'suggests': 2431, 'suited': 2432, 'sum': 2433, 'summary': 2434, 'sundays': 2435, 'super': 2436, 'superb': 2437, 'superbad': 2438, 'superbly': 2439, 'superficial': 2440, 'superlative': 2441, 'supernatural': 2442, 'supporting': 2443, 'supposed': 2444, 'supposedly': 2445, 'sure': 2446, 'surely': 2447, 'surf': 2448, 'surface': 2449, 'surprised': 2450, 'surprises': 2451, 'surprising': 2452, 'surprisingly': 2453, 'surrounding': 2454, 'surroundings': 2455, 'survivors': 2456, 'suspense': 2457, 'suspension': 2458, 'sven': 2459, 'swamp': 2460, 'sweep': 2461, 'sweet': 2462, 'switched': 2463, 'swords': 2464, 'sydney': 2465, 'sympathetic': 2466, 'syrupy': 2467, 'system': 2468, 'tacky': 2469, 'taelons': 2470, 'take': 2471, 'taken': 2472, 'takes': 2473, 'taking': 2474, 'tale': 2475, 'talent': 2476, 'talented': 2477, 'talents': 2478, 'talk': 2479, 'tanks': 2480, 'taped': 2481, 'tardis': 2482, 'task': 2483, 'taste': 2484, 'taxidermists': 2485, 'taylor': 2486, 'teacher': 2487, 'teaches': 2488, 'team': 2489, 'tear': 2490, 'tears': 2491, 'technically': 2492, 'teddy': 2493, 'tedium': 2494, 'teen': 2495, 'teenagers': 2496, 'teeth': 2497, 'telephone': 2498, 'television': 2499, 'tell': 2500, 'telly': 2501, 'temperaments': 2502, 'ten': 2503, 'tender': 2504, 'tension': 2505, 'tensions': 2506, 'terminology': 2507, 'terms': 2508, 'terrible': 2509, 'terribly': 2510, 'terrific': 2511, 'terror': 2512, 'th': 2513, 'thanks': 2514, 'theater': 2515, 'theatre': 2516, 'theatres': 2517, 'theatrical': 2518, 'theme': 2519, 'themes': 2520, 'therapy': 2521, 'thick': 2522, 'thing': 2523, 'things': 2524, 'think': 2525, 'thinking': 2526, 'thomerson': 2527, 'thoroughly': 2528, 'thorsen': 2529, 'though': 2530, 'thought': 2531, 'thoughts': 2532, 'thousand': 2533, 'thread': 2534, 'three': 2535, 'threshold': 2536, 'thrilled': 2537, 'thriller': 2538, 'thrillers': 2539, 'throughout': 2540, 'throwback': 2541, 'thrown': 2542, 'thug': 2543, 'thumper': 2544, 'thunderbirds': 2545, 'thus': 2546, 'ticker': 2547, 'tickets': 2548, 'tightly': 2549, 'time': 2550, 'timeless': 2551, 'timely': 2552, 'timers': 2553, 'times': 2554, 'timing': 2555, 'tiny': 2556, 'tired': 2557, 'title': 2558, 'titta': 2559, 'today': 2560, 'together': 2561, 'told': 2562, 'tolerable': 2563, 'tolerate': 2564, 'tom': 2565, 'tomorrow': 2566, 'tone': 2567, 'tongue': 2568, 'tonight': 2569, 'tons': 2570, 'tony': 2571, 'took': 2572, 'toons': 2573, 'top': 2574, 'tops': 2575, 'torture': 2576, 'tortured': 2577, 'total': 2578, 'totally': 2579, 'touch': 2580, 'touches': 2581, 'touching': 2582, 'tough': 2583, 'towards': 2584, 'towers': 2585, 'townsend': 2586, 'track': 2587, 'tract': 2588, 'traditional': 2589, 'traffic': 2590, 'trailer': 2591, 'train': 2592, 'tranquillity': 2593, 'transcend': 2594, 'transfers': 2595, 'translate': 2596, 'translating': 2597, 'trap': 2598, 'trash': 2599, 'trashy': 2600, 'treachery': 2601, 'treasure': 2602, 'treat': 2603, 'treatments': 2604, 'trek': 2605, 'tremendous': 2606, 'tremendously': 2607, 'tries': 2608, 'trilogy': 2609, 'trinity': 2610, 'trip': 2611, 'triumphed': 2612, 'trond': 2613, 'trooper': 2614, 'trouble': 2615, 'truck': 2616, 'true': 2617, 'truly': 2618, 'trumbull': 2619, 'trumpeter': 2620, 'truth': 2621, 'try': 2622, 'trying': 2623, 'trysts': 2624, 'tsunami': 2625, 'tuneful': 2626, 'turkey': 2627, 'turn': 2628, 'turned': 2629, 'turns': 2630, 'tv': 2631, 'twice': 2632, 'twirling': 2633, 'twist': 2634, 'twists': 2635, 'two': 2636, 'tying': 2637, 'type': 2638, 'typical': 2639, 'ue': 2640, 'ugliest': 2641, 'ugly': 2642, 'uhura': 2643, 'ultra': 2644, 'um': 2645, 'unaccompanied': 2646, 'unbearable': 2647, 'unbearably': 2648, 'unbelievable': 2649, 'uncalled': 2650, 'unconditional': 2651, 'unconvincing': 2652, 'underacting': 2653, 'underappreciated': 2654, 'underbite': 2655, 'underlines': 2656, 'underlying': 2657, 'underneath': 2658, 'underrated': 2659, 'understand': 2660, 'understanding': 2661, 'understated': 2662, 'understatement': 2663, 'understood': 2664, 'undertone': 2665, 'underwater': 2666, 'undoubtedly': 2667, 'uneasy': 2668, 'unemployed': 2669, 'unethical': 2670, 'unfaithful': 2671, 'unfolds': 2672, 'unforgettable': 2673, 'unfortunate': 2674, 'unfortunately': 2675, 'unfunny': 2676, 'unintentionally': 2677, 'uninteresting': 2678, 'union': 2679, 'unique': 2680, 'uniqueness': 2681, 'universal': 2682, 'universe': 2683, 'unless': 2684, 'unlockable': 2685, 'unmatched': 2686, 'unmitigated': 2687, 'unmoving': 2688, 'unnecessary': 2689, 'unneeded': 2690, 'unoriginal': 2691, 'unpleasant': 2692, 'unpredictability': 2693, 'unpredictable': 2694, 'unrealistic': 2695, 'unrecognizable': 2696, 'unrecommended': 2697, 'unremarkable': 2698, 'unrestrained': 2699, 'unsatisfactory': 2700, 'unwatchable': 2701, 'upa': 2702, 'uplifting': 2703, 'upper': 2704, 'ups': 2705, 'uptight': 2706, 'ursula': 2707, 'us': 2708, 'use': 2709, 'used': 2710, 'user': 2711, 'uses': 2712, 'using': 2713, 'ussr': 2714, 'usual': 2715, 'utter': 2716, 'utterly': 2717, 'valentine': 2718, 'value': 2719, 'values': 2720, 'vampire': 2721, 'vandiver': 2722, 'variation': 2723, 'vehicles': 2724, 'ventura': 2725, 'verbal': 2726, 'verbatim': 2727, 'versatile': 2728, 'version': 2729, 'versus': 2730, 'vessel': 2731, 'veteran': 2732, 'vey': 2733, 'vibe': 2734, 'victor': 2735, 'video': 2736, 'view': 2737, 'viewer': 2738, 'viewing': 2739, 'views': 2740, 'villain': 2741, 'villains': 2742, 'violence': 2743, 'violin': 2744, 'virtue': 2745, 'virus': 2746, 'vision': 2747, 'visual': 2748, 'visually': 2749, 'vitally': 2750, 'vivian': 2751, 'vivid': 2752, 'vocal': 2753, 'voice': 2754, 'volatile': 2755, 'volcano': 2756, 'vomit': 2757, 'vomited': 2758, 'voyage': 2759, 'vulcan': 2760, 'waiting': 2761, 'waitress': 2762, 'walk': 2763, 'walked': 2764, 'wall': 2765, 'want': 2766, 'wanted': 2767, 'wanting': 2768, 'wants': 2769, 'war': 2770, 'warmth': 2771, 'warn': 2772, 'warning': 2773, 'wartime': 2774, 'warts': 2775, 'washed': 2776, 'washing': 2777, 'waste': 2778, 'wasted': 2779, 'waster': 2780, 'wasting': 2781, 'watch': 2782, 'watchable': 2783, 'watched': 2784, 'watching': 2785, 'water': 2786, 'watkins': 2787, 'watson': 2788, 'wave': 2789, 'way': 2790, 'waylaid': 2791, 'wayne': 2792, 'ways': 2793, 'wb': 2794, 'weak': 2795, 'weaker': 2796, 'weariness': 2797, 'weaving': 2798, 'website': 2799, 'wedding': 2800, 'weight': 2801, 'weird': 2802, 'well': 2803, 'welsh': 2804, 'went': 2805, 'whatever': 2806, 'whatsoever': 2807, 'whenever': 2808, 'whether': 2809, 'whine': 2810, 'whiny': 2811, 'white': 2812, 'whites': 2813, 'whoever': 2814, 'whole': 2815, 'wholesome': 2816, 'wide': 2817, 'widmark': 2818, 'wife': 2819, 'wih': 2820, 'wild': 2821, 'wilkinson': 2822, 'william': 2823, 'willie': 2824, 'wily': 2825, 'win': 2826, 'wind': 2827, 'wise': 2828, 'wish': 2829, 'within': 2830, 'without': 2831, 'witticisms': 2832, 'witty': 2833, 'woa': 2834, 'women': 2835, 'wonder': 2836, 'wondered': 2837, 'wonderful': 2838, 'wonderfully': 2839, 'wong': 2840, 'wont': 2841, 'woo': 2842, 'wooden': 2843, 'word': 2844, 'words': 2845, 'work': 2846, 'worked': 2847, 'working': 2848, 'works': 2849, 'world': 2850, 'worry': 2851, 'worse': 2852, 'worst': 2853, 'worth': 2854, 'worthless': 2855, 'worthwhile': 2856, 'worthy': 2857, 'would': 2858, 'wouldnt': 2859, 'woven': 2860, 'wow': 2861, 'wrap': 2862, 'write': 2863, 'writer': 2864, 'writers': 2865, 'writing': 2866, 'written': 2867, 'wrong': 2868, 'wrote': 2869, 'yardley': 2870, 'yawn': 2871, 'yeah': 2872, 'year': 2873, 'years': 2874, 'yelps': 2875, 'yes': 2876, 'yet': 2877, 'young': 2878, 'younger': 2879, 'youthful': 2880, 'youtube': 2881, 'yun': 2882, 'zillion': 2883, 'zombie': 2884, 'zombiez': 2885}\n"
     ]
    }
   ],
   "source": [
    "idfsorted={}\n",
    "idf50={}\n",
    "vocab50={}\n",
    "def fit(whole_data):\n",
    "    unique_words = set()\n",
    "    i=0\n",
    "    if isinstance(whole_data, (list,)):\n",
    "          for x in whole_data:\n",
    "            for y in x.split():\n",
    "              if len(y)<2:\n",
    "                continue\n",
    "              unique_words.add(y)\n",
    "          unique_words = sorted(list(unique_words))\n",
    "          print(unique_words)\n",
    "          vocab = {j:i for i,j in enumerate(unique_words)}\n",
    "          print(vocab)\n",
    "          Idf_values_of_all_unique_words=IDF(whole_data,unique_words)\n",
    "    for k in sorted(Idf_values_of_all_unique_words, key=Idf_values_of_all_unique_words.get, reverse=True):\n",
    "        idfsorted[k]=Idf_values_of_all_unique_words[k]\n",
    "    z=Counter(idfsorted)\n",
    "    top=z.most_common(50)\n",
    "    for a, b in top:\n",
    "        vocab50[a]=i\n",
    "        idf50[a]=b\n",
    "        i=i+1\n",
    "    return vocab50, idf50\n",
    "Vocabulary, idf_of_vocabulary=fit(corpus) "
   ]
  },
  {
   "cell_type": "code",
   "execution_count": 121,
   "metadata": {
    "scrolled": true
   },
   "outputs": [
    {
     "name": "stdout",
     "output_type": "stream",
     "text": [
      "---------------IDf values of top 50 words----------- \n",
      "\n",
      "{'aailiyah': 6.922918004572872, 'abandoned': 6.922918004572872, 'abroad': 6.922918004572872, 'abstruse': 6.922918004572872, 'academy': 6.922918004572872, 'accents': 6.922918004572872, 'accessible': 6.922918004572872, 'acclaimed': 6.922918004572872, 'accolades': 6.922918004572872, 'accurate': 6.922918004572872, 'accurately': 6.922918004572872, 'achille': 6.922918004572872, 'ackerman': 6.922918004572872, 'actions': 6.922918004572872, 'adams': 6.922918004572872, 'add': 6.922918004572872, 'added': 6.922918004572872, 'admins': 6.922918004572872, 'admiration': 6.922918004572872, 'admitted': 6.922918004572872, 'adrift': 6.922918004572872, 'adventure': 6.922918004572872, 'aesthetically': 6.922918004572872, 'affected': 6.922918004572872, 'affleck': 6.922918004572872, 'afternoon': 6.922918004572872, 'aged': 6.922918004572872, 'ages': 6.922918004572872, 'agree': 6.922918004572872, 'agreed': 6.922918004572872, 'aimless': 6.922918004572872, 'aired': 6.922918004572872, 'akasha': 6.922918004572872, 'akin': 6.922918004572872, 'alert': 6.922918004572872, 'alike': 6.922918004572872, 'allison': 6.922918004572872, 'allow': 6.922918004572872, 'allowing': 6.922918004572872, 'alongside': 6.922918004572872, 'amateurish': 6.922918004572872, 'amaze': 6.922918004572872, 'amazed': 6.922918004572872, 'amazingly': 6.922918004572872, 'amusing': 6.922918004572872, 'amust': 6.922918004572872, 'anatomist': 6.922918004572872, 'angel': 6.922918004572872, 'angela': 6.922918004572872, 'angelina': 6.922918004572872}\n"
     ]
    }
   ],
   "source": [
    "print('---------------IDf values of top 50 words-----------',\"\\n\")\n",
    "print(idf50)"
   ]
  },
  {
   "cell_type": "code",
   "execution_count": 122,
   "metadata": {},
   "outputs": [
    {
     "name": "stdout",
     "output_type": "stream",
     "text": [
      "---------------Top sorted 50 words----------- \n",
      "\n",
      "{'aailiyah': 0, 'abandoned': 1, 'abroad': 2, 'abstruse': 3, 'academy': 4, 'accents': 5, 'accessible': 6, 'acclaimed': 7, 'accolades': 8, 'accurate': 9, 'accurately': 10, 'achille': 11, 'ackerman': 12, 'actions': 13, 'adams': 14, 'add': 15, 'added': 16, 'admins': 17, 'admiration': 18, 'admitted': 19, 'adrift': 20, 'adventure': 21, 'aesthetically': 22, 'affected': 23, 'affleck': 24, 'afternoon': 25, 'aged': 26, 'ages': 27, 'agree': 28, 'agreed': 29, 'aimless': 30, 'aired': 31, 'akasha': 32, 'akin': 33, 'alert': 34, 'alike': 35, 'allison': 36, 'allow': 37, 'allowing': 38, 'alongside': 39, 'amateurish': 40, 'amaze': 41, 'amazed': 42, 'amazingly': 43, 'amusing': 44, 'amust': 45, 'anatomist': 46, 'angel': 47, 'angela': 48, 'angelina': 49}\n"
     ]
    }
   ],
   "source": [
    "print('---------------Top sorted 50 words-----------',\"\\n\")\n",
    "print(vocab50)"
   ]
  },
  {
   "cell_type": "code",
   "execution_count": 124,
   "metadata": {},
   "outputs": [
    {
     "name": "stdout",
     "output_type": "stream",
     "text": [
      "NORM FORM\n",
      "   (0, 30)\t1.0\n",
      "  (68, 24)\t1.0\n",
      "  (72, 29)\t1.0\n",
      "  (74, 31)\t1.0\n",
      "  (119, 33)\t1.0\n",
      "  (135, 3)\t0.37796447300922725\n",
      "  (135, 10)\t0.37796447300922725\n",
      "  (135, 18)\t0.37796447300922725\n",
      "  (135, 20)\t0.37796447300922725\n",
      "  (135, 36)\t0.37796447300922725\n",
      "  (135, 40)\t0.37796447300922725\n",
      "  (135, 41)\t0.37796447300922725\n",
      "  (176, 49)\t1.0\n",
      "  (181, 13)\t1.0\n",
      "  (192, 21)\t1.0\n",
      "  (193, 23)\t1.0\n",
      "  (216, 2)\t1.0\n",
      "  (222, 47)\t1.0\n",
      "  (225, 19)\t1.0\n",
      "  (227, 17)\t1.0\n",
      "  (241, 44)\t1.0\n",
      "  (270, 1)\t1.0\n",
      "  (290, 25)\t1.0\n",
      "  (333, 26)\t1.0\n",
      "  (334, 15)\t1.0\n",
      "  (341, 43)\t1.0\n",
      "  (344, 42)\t1.0\n",
      "  (348, 8)\t1.0\n",
      "  (377, 37)\t1.0\n",
      "  (409, 5)\t1.0\n",
      "  (430, 39)\t1.0\n",
      "  (457, 45)\t1.0\n",
      "  (461, 4)\t1.0\n",
      "  (465, 38)\t1.0\n",
      "  (475, 35)\t1.0\n",
      "  (493, 6)\t1.0\n",
      "  (500, 48)\t1.0\n",
      "  (548, 0)\t0.7071067811865475\n",
      "  (548, 32)\t0.7071067811865475\n",
      "  (608, 14)\t1.0\n",
      "  (612, 11)\t1.0\n",
      "  (620, 46)\t1.0\n",
      "  (632, 7)\t1.0\n",
      "  (644, 12)\t0.7071067811865475\n",
      "  (644, 27)\t0.7071067811865475\n",
      "  (664, 28)\t1.0\n",
      "  (667, 22)\t1.0\n",
      "  (691, 34)\t1.0\n",
      "  (697, 9)\t1.0\n",
      "  (722, 16)\t1.0\n",
      "(746, 50)\n"
     ]
    },
    {
     "name": "stderr",
     "output_type": "stream",
     "text": [
      "C:\\Users\\TanishSharma\\anaconda3\\envs\\wf\\lib\\site-packages\\ipykernel_launcher.py:8: SparseEfficiencyWarning: Changing the sparsity structure of a csr_matrix is expensive. lil_matrix is more efficient.\n",
      "  \n"
     ]
    }
   ],
   "source": [
    "def transform(dataset,vocabulary,idf_values):\n",
    "    sparse_matrix= csr_matrix( (len(dataset), len(vocabulary)), dtype=np.float64)\n",
    "    for row  in range(0,len(dataset)):\n",
    "        number_of_words_in_sentence=Counter(dataset[row].split())\n",
    "        for word in dataset[row].split():\n",
    "            if word in  list(vocabulary.keys()):\n",
    "                tf_idf_value=(number_of_words_in_sentence[word]/len(dataset[row].split()))*(idf_values[word])\n",
    "                sparse_matrix[row,vocabulary[word]]=tf_idf_value\n",
    "    print(\"NORM FORM\\n\",normalize(sparse_matrix, norm='l2', axis=1, copy=True, return_norm=False))\n",
    "    output =normalize(sparse_matrix, norm='l2', axis=1, copy=True, return_norm=False)\n",
    "    return output\n",
    "final_output=transform(corpus,Vocabulary,idf_of_vocabulary)\n",
    "print(final_output.shape) "
   ]
  },
  {
   "cell_type": "code",
   "execution_count": 125,
   "metadata": {},
   "outputs": [
    {
     "name": "stdout",
     "output_type": "stream",
     "text": [
      "['aailiyah', 'abandoned', 'ability', 'abroad', 'absolutely', 'abstruse', 'abysmal', 'academy', 'accents', 'accessible', 'acclaimed', 'accolades', 'accurate', 'accurately', 'accused', 'achievement', 'achille', 'ackerman', 'act', 'acted', 'acting', 'action', 'actions', 'actor', 'actors', 'actress', 'actresses', 'actually', 'adams', 'adaptation', 'add', 'added', 'addition', 'admins', 'admiration', 'admitted', 'adorable', 'adrift', 'adventure', 'advise', 'aerial', 'aesthetically', 'affected', 'affleck', 'afraid', 'africa', 'afternoon', 'age', 'aged', 'ages', 'ago', 'agree', 'agreed', 'aimless', 'air', 'aired', 'akasha', 'akin', 'alert', 'alexander', 'alike', 'allison', 'allow', 'allowing', 'almost', 'along', 'alongside', 'already', 'also', 'although', 'always', 'amateurish', 'amaze', 'amazed', 'amazing', 'amazingly', 'america', 'american', 'americans', 'among', 'amount', 'amusing', 'amust', 'anatomist', 'angel', 'angela', 'angeles', 'angelina', 'angle', 'angles', 'angry', 'anguish', 'angus', 'animals', 'animated', 'animation', 'anita', 'ann', 'anne', 'anniversary', 'annoying', 'another', 'anthony', 'antithesis', 'anyone', 'anything', 'anyway', 'apart', 'appalling', 'appealing', 'appearance', 'appears', 'applauded', 'applause', 'appreciate', 'appropriate', 'apt', 'argued', 'armageddon', 'armand', 'around', 'array', 'art', 'articulated', 'artiness', 'artist', 'artistic', 'artless', 'arts', 'aside', 'ask', 'asleep', 'aspect', 'aspects', 'ass', 'assante', 'assaulted', 'assistant', 'astonishingly', 'astronaut', 'atmosphere', 'atrocious', 'atrocity', 'attempt', 'attempted', 'attempting', 'attempts', 'attention', 'attractive', 'audience', 'audio', 'aurv', 'austen', 'austere', 'author', 'average', 'aversion', 'avoid', 'avoided', 'award', 'awarded', 'awards', 'away', 'awesome', 'awful', 'awkwardly', 'aye', 'baaaaaad', 'babbling', 'babie', 'baby', 'babysitting', 'back', 'backdrop', 'backed', 'bad', 'badly', 'bag', 'bailey', 'bakery', 'balance', 'balanced', 'ball', 'ballet', 'balls', 'band', 'barcelona', 'barely', 'barking', 'barney', 'barren', 'based', 'basic', 'basically', 'bat', 'bates', 'baxendale', 'bear', 'beautiful', 'beautifully', 'bec', 'became', 'bechard', 'become', 'becomes', 'began', 'begin', 'beginning', 'behind', 'behold', 'bela', 'believable', 'believe', 'believed', 'bell', 'bellucci', 'belly', 'belmondo', 'ben', 'bendingly', 'bennett', 'bergen', 'bertolucci', 'best', 'better', 'betty', 'beware', 'beyond', 'bible', 'big', 'biggest', 'billy', 'biographical', 'bipolarity', 'bit', 'bitchy', 'black', 'blah', 'blake', 'bland', 'blandly', 'blare', 'blatant', 'blew', 'blood', 'blown', 'blue', 'blush', 'boasts', 'bob', 'body', 'bohemian', 'boiling', 'bold', 'bombardments', 'bond', 'bonding', 'bonus', 'bonuses', 'boobs', 'boogeyman', 'book', 'boost', 'bop', 'bordered', 'borderlines', 'borders', 'bore', 'bored', 'boring', 'borrowed', 'boss', 'bother', 'bothersome', 'bought', 'box', 'boyfriend', 'boyle', 'brain', 'brainsucking', 'brat', 'breaking', 'breeders', 'brevity', 'brian', 'brief', 'brigand', 'bright', 'brilliance', 'brilliant', 'brilliantly', 'bring', 'brings', 'broad', 'broke', 'brooding', 'brother', 'brutal', 'buddy', 'budget', 'buffalo', 'buffet', 'build', 'builders', 'buildings', 'built', 'bullock', 'bully', 'bunch', 'burton', 'business', 'buy', 'cable', 'cailles', 'california', 'call', 'called', 'calls', 'came', 'cameo', 'camera', 'camerawork', 'camp', 'campy', 'canada', 'cancan', 'candace', 'candle', 'cannot', 'cant', 'captain', 'captured', 'captures', 'car', 'card', 'cardboard', 'cardellini', 'care', 'carol', 'carrell', 'carries', 'carry', 'cars', 'cartoon', 'cartoons', 'case', 'cases', 'cast', 'casted', 'casting', 'cat', 'catchy', 'caught', 'cause', 'ceases', 'celebration', 'celebrity', 'celluloid', 'centers', 'central', 'century', 'certain', 'certainly', 'cg', 'cgi', 'chalkboard', 'challenges', 'chance', 'change', 'changes', 'changing', 'channel', 'character', 'characterisation', 'characters', 'charisma', 'charismatic', 'charles', 'charlie', 'charm', 'charming', 'chase', 'chasing', 'cheap', 'cheaply', 'check', 'checking', 'cheek', 'cheekbones', 'cheerfull', 'cheerless', 'cheesiness', 'cheesy', 'chemistry', 'chick', 'child', 'childhood', 'children', 'childrens', 'chills', 'chilly', 'chimp', 'chodorov', 'choice', 'choices', 'choked', 'chosen', 'chow', 'christmas', 'christopher', 'church', 'cinema', 'cinematic', 'cinematographers', 'cinematography', 'circumstances', 'class', 'classic', 'classical', 'clear', 'clearly', 'clever', 'clich', 'cliche', 'clients', 'cliff', 'climax', 'close', 'closed', 'clothes', 'club', 'co', 'coach', 'coal', 'coastal', 'coaster', 'coherent', 'cold', 'cole', 'collect', 'collective', 'colored', 'colorful', 'colours', 'columbo', 'come', 'comedic', 'comedy', 'comes', 'comfortable', 'comforting', 'comical', 'coming', 'commands', 'comment', 'commentary', 'commented', 'comments', 'commercial', 'community', 'company', 'compelling', 'competent', 'complete', 'completed', 'completely', 'complex', 'complexity', 'composed', 'composition', 'comprehensible', 'compromise', 'computer', 'concentrate', 'conception', 'conceptually', 'concerning', 'concerns', 'concert', 'conclusion', 'condescends', 'confidence', 'configuration', 'confirm', 'conflict', 'confuses', 'confusing', 'connections', 'connery', 'connor', 'conrad', 'consequences', 'consider', 'considerable', 'considered', 'considering', 'considers', 'consistent', 'consolations', 'constant', 'constantine', 'constructed', 'contained', 'containing', 'contains', 'content', 'continually', 'continuation', 'continue', 'continuity', 'continuously', 'contract', 'contrast', 'contributing', 'contributory', 'contrived', 'control', 'controversy', 'convention', 'convey', 'convince', 'convincing', 'convoluted', 'cool', 'coppola', 'cords', 'core', 'corn', 'corny', 'correct', 'cost', 'costs', 'costumes', 'cotton', 'could', 'couple', 'course', 'court', 'courtroom', 'cover', 'cowardice', 'cox', 'crackles', 'crafted', 'crap', 'crash', 'crashed', 'crayon', 'crayons', 'crazy', 'create', 'created', 'creates', 'creative', 'creativity', 'creature', 'credible', 'credit', 'credits', 'crew', 'crime', 'crisp', 'critic', 'critical', 'crocdodile', 'crocs', 'cross', 'crowd', 'crowe', 'cruel', 'cruise', 'cry', 'cult', 'culture', 'curtain', 'custer', 'cute', 'cutest', 'cutie', 'cutouts', 'cuts', 'cutting', 'dads', 'damian', 'damn', 'dance', 'dancing', 'dangerous', 'dark', 'darren', 'daughter', 'daughters', 'day', 'days', 'de', 'dead', 'deadly', 'deadpan', 'deal', 'dealt', 'death', 'debated', 'debbie', 'debits', 'debut', 'decay', 'decent', 'decidely', 'decipher', 'decisions', 'dedication', 'dee', 'deep', 'deeply', 'defensemen', 'defined', 'definitely', 'delete', 'delight', 'delightful', 'delights', 'deliver', 'delivered', 'delivering', 'delivers', 'dependant', 'depending', 'depends', 'depicted', 'depicts', 'depressing', 'depth', 'derivative', 'describe', 'describes', 'desert', 'deserved', 'deserves', 'deserving', 'design', 'designed', 'designer', 'desperately', 'desperation', 'despised', 'despite', 'destroy', 'detailing', 'details', 'develop', 'development', 'developments', 'di', 'diabetic', 'dialog', 'dialogs', 'dialogue', 'diaper', 'dickens', 'difference', 'different', 'dignity', 'dimensional', 'direct', 'directed', 'directing', 'direction', 'director', 'directorial', 'directors', 'disappointed', 'disappointing', 'disappointment', 'disaster', 'disbelief', 'discomfort', 'discovering', 'discovery', 'disgrace', 'disgusting', 'dislike', 'disliked', 'disney', 'disparate', 'distant', 'distinction', 'distorted', 'distract', 'distressed', 'disturbing', 'diving', 'doctor', 'documentaries', 'documentary', 'dodge', 'dogs', 'dollars', 'dominated', 'done', 'donlevy', 'dont', 'doomed', 'dose', 'doubt', 'downs', 'dozen', 'dr', 'dracula', 'draft', 'drag', 'drago', 'drama', 'dramatic', 'drawings', 'drawn', 'dream', 'dreams', 'dreary', 'dribble', 'drift', 'drifting', 'drive', 'drooling', 'dropped', 'dry', 'due', 'duet', 'dull', 'dumb', 'dumbest', 'duper', 'duris', 'dustin', 'dvd', 'dwight', 'dysfunction', 'earlier', 'early', 'earth', 'easily', 'easy', 'eating', 'ebay', 'ebola', 'eccleston', 'ed', 'edge', 'editing', 'edition', 'educational', 'edward', 'effect', 'effective', 'effects', 'effort', 'efforts', 'egotism', 'eighth', 'eiko', 'either', 'elaborately', 'elderly', 'elegant', 'element', 'elias', 'eloquently', 'else', 'elsewhere', 'embarrassed', 'embarrassing', 'embassy', 'emerge', 'emilio', 'emily', 'emoting', 'emotion', 'emotionally', 'emotions', 'emperor', 'empowerment', 'emptiness', 'empty', 'en', 'enchanting', 'end', 'endearing', 'ended', 'ending', 'endlessly', 'ends', 'energetic', 'energy', 'engaging', 'english', 'enhanced', 'enjoy', 'enjoyable', 'enjoyed', 'enjoyment', 'enough', 'enter', 'enterprise', 'entertained', 'entertaining', 'entire', 'entirely', 'entrance', 'episode', 'episodes', 'equivalent', 'era', 'errol', 'errors', 'escalating', 'escapism', 'especially', 'essence', 'establish', 'established', 'estate', 'estevez', 'etc', 'european', 'evaluate', 'even', 'events', 'ever', 'every', 'everybody', 'everyone', 'everything', 'everywhere', 'evidently', 'evil', 'evinced', 'evokes', 'exactly', 'exaggerating', 'example', 'excellent', 'excellently', 'except', 'exceptional', 'exceptionally', 'excerpts', 'excessively', 'exchange', 'exciting', 'excruciatingly', 'excuse', 'excuses', 'executed', 'exemplars', 'existent', 'existential', 'expansive', 'expect', 'expectations', 'expected', 'expecting', 'experience', 'experiences', 'expert', 'explain', 'explains', 'explanation', 'exploit', 'explorations', 'explosion', 'expression', 'exquisite', 'extant', 'exteriors', 'extraneous', 'extraordinary', 'extremely', 'eye', 'eyes', 'fabulous', 'face', 'faces', 'facial', 'facing', 'fact', 'factory', 'failed', 'fails', 'fair', 'fairly', 'faithful', 'fall', 'falling', 'falls', 'falsely', 'falwell', 'fame', 'famed', 'family', 'famous', 'fan', 'fanciful', 'fans', 'fantastic', 'fantasy', 'far', 'farce', 'fare', 'fascinated', 'fascinating', 'fascination', 'fashioned', 'fast', 'faster', 'fat', 'father', 'faultless', 'fausa', 'faux', 'favorite', 'favourite', 'fear', 'feature', 'features', 'feel', 'feeling', 'feelings', 'feet', 'feisty', 'fellowes', 'felt', 'female', 'females', 'ferry', 'fest', 'fi', 'fields', 'fifteen', 'fifties', 'fill', 'film', 'filmed', 'filmiing', 'filmmaker', 'filmography', 'films', 'final', 'finale', 'finally', 'financial', 'find', 'finds', 'fine', 'finest', 'fingernails', 'finished', 'fire', 'first', 'fish', 'fishnet', 'fisted', 'fit', 'five', 'flag', 'flakes', 'flaming', 'flashbacks', 'flat', 'flaw', 'flawed', 'flaws', 'fleshed', 'flick', 'flicks', 'florida', 'flowed', 'flying', 'flynn', 'focus', 'fodder', 'follow', 'following', 'follows', 'foolish', 'footage', 'football', 'force', 'forced', 'forces', 'ford', 'foreign', 'foreigner', 'forever', 'forget', 'forgettable', 'forgetting', 'forgot', 'forgotten', 'form', 'format', 'former', 'fort', 'forth', 'forwarded', 'found', 'four', 'fox', 'foxx', 'frances', 'francis', 'frankly', 'free', 'freedom', 'freeman', 'french', 'fresh', 'freshness', 'friends', 'friendship', 'frightening', 'front', 'frontier', 'frost', 'frustration', 'fulci', 'fulfilling', 'full', 'fully', 'fumbling', 'fun', 'function', 'fundamental', 'funniest', 'funny', 'future', 'fx', 'gabriel', 'gadget', 'gain', 'gake', 'galley', 'gallon', 'game', 'games', 'garage', 'garbage', 'garbo', 'garfield', 'gas', 'gaudi', 'gave', 'gay', 'geek', 'gem', 'general', 'generally', 'generates', 'generic', 'genius', 'genre', 'gently', 'genuine', 'george', 'gerardo', 'gere', 'get', 'gets', 'getting', 'ghibili', 'giallo', 'gibberish', 'gifted', 'giovanni', 'girl', 'girlfriend', 'girls', 'girolamo', 'give', 'given', 'gives', 'giving', 'glad', 'glance', 'glasses', 'gloriously', 'go', 'goalies', 'god', 'goes', 'going', 'gone', 'gonna', 'good', 'gore', 'goremeister', 'gorman', 'gosh', 'got', 'goth', 'gotta', 'gotten', 'government', 'grace', 'grade', 'gradually', 'grainy', 'granted', 'graphics', 'grasp', 'grates', 'great', 'greatest', 'greatness', 'green', 'greenstreet', 'grew', 'grim', 'grimes', 'gripping', 'groove', 'gross', 'ground', 'guards', 'guess', 'guests', 'guilt', 'gung', 'guy', 'guys', 'hackneyed', 'haggis', 'hair', 'hairsplitting', 'half', 'halfway', 'ham', 'hand', 'handle', 'handled', 'handles', 'hands', 'hang', 'hankies', 'hanks', 'happen', 'happened', 'happiness', 'happy', 'hard', 'harris', 'hate', 'hated', 'hatred', 'havilland', 'hay', 'hayao', 'hayworth', 'hbo', 'head', 'heads', 'hear', 'heard', 'heart', 'hearts', 'heartwarming', 'heaven', 'heche', 'heels', 'heist', 'helen', 'hell', 'hellish', 'helms', 'help', 'helping', 'helps', 'hence', 'hendrikson', 'hernandez', 'hero', 'heroes', 'heroine', 'heroism', 'hes', 'hide', 'high', 'higher', 'highest', 'highlights', 'highly', 'hilarious', 'hill', 'hilt', 'hip', 'history', 'hitchcock', 'ho', 'hockey', 'hoffman', 'hold', 'holding', 'holds', 'holes', 'hollander', 'hollow', 'hollywood', 'home', 'homework', 'honest', 'honestly', 'hoot', 'hope', 'hopefully', 'hopeless', 'horrendous', 'horrendously', 'horrible', 'horrid', 'horrified', 'horror', 'horse', 'hosting', 'hot', 'hour', 'hours', 'house', 'houses', 'howdy', 'howe', 'howell', 'however', 'huge', 'hugo', 'human', 'humanity', 'humans', 'hummh', 'humor', 'humorous', 'humour', 'hurt', 'huston', 'hype', 'hypocrisy', 'idea', 'idealogical', 'identified', 'identifies', 'identify', 'idiot', 'idiotic', 'idyllic', 'iffy', 'im', 'imaginable', 'imagination', 'imaginative', 'imagine', 'imdb', 'imitation', 'impact', 'imperial', 'implausible', 'important', 'impossible', 'impressed', 'impression', 'impressive', 'improved', 'improvement', 'improvisation', 'impulse', 'inappropriate', 'incendiary', 'includes', 'including', 'incomprehensible', 'inconsistencies', 'incorrectness', 'incredible', 'incredibly', 'indeed', 'indescribably', 'indication', 'indictment', 'indie', 'individual', 'indoor', 'indulgent', 'industry', 'ineptly', 'inexperience', 'inexplicable', 'initially', 'innocence', 'insane', 'inside', 'insincere', 'insipid', 'insomniacs', 'inspiration', 'inspiring', 'instant', 'instead', 'instruments', 'insulin', 'insult', 'intangibles', 'integral', 'integration', 'intelligence', 'intelligent', 'intense', 'intensity', 'intentions', 'interacting', 'interest', 'interested', 'interesting', 'interim', 'interplay', 'interpretations', 'interview', 'intoning', 'intrigued', 'inventive', 'involved', 'involves', 'involving', 'iq', 'ireland', 'ironically', 'irons', 'ironside', 'irritating', 'ishioka', 'iso', 'issue', 'issues', 'istagey', 'italian', 'ive', 'jack', 'jaclyn', 'james', 'jamie', 'japanese', 'jason', 'jay', 'jealousy', 'jean', 'jennifer', 'jerky', 'jerry', 'jessica', 'jessice', 'jet', 'jim', 'jimmy', 'job', 'jobs', 'joe', 'john', 'joins', 'joke', 'jokes', 'jonah', 'jones', 'journey', 'joy', 'joyce', 'juano', 'judge', 'judging', 'judith', 'judo', 'julian', 'june', 'junk', 'junkyard', 'justice', 'jutland', 'kanaly', 'kathy', 'keep', 'keeps', 'keira', 'keith', 'kept', 'kevin', 'kid', 'kidnapped', 'kids', 'kieslowski', 'kill', 'killer', 'killing', 'killings', 'kind', 'kinda', 'kirk', 'kitchy', 'knew', 'knightley', 'knocked', 'know', 'known', 'knows', 'koteas', 'kris', 'kristoffersen', 'kudos', 'la', 'labute', 'lack', 'lacked', 'lacks', 'ladies', 'lady', 'lame', 'lance', 'landscapes', 'lane', 'lange', 'largely', 'laselva', 'lassie', 'last', 'lasting', 'latched', 'late', 'later', 'latest', 'latifa', 'latin', 'latter', 'laugh', 'laughable', 'laughed', 'laughs', 'layers', 'lazy', 'lead', 'leading', 'leap', 'learn', 'least', 'leave', 'leaves', 'leaving', 'lee', 'left', 'legal', 'legendary', 'length', 'leni', 'less', 'lesser', 'lestat', 'let', 'lets', 'letting', 'level', 'levels', 'lewis', 'lid', 'lie', 'lies', 'lieutenant', 'life', 'lifetime', 'light', 'lighting', 'like', 'liked', 'likes', 'lilli', 'lilt', 'limitations', 'limited', 'linda', 'line', 'linear', 'lines', 'lino', 'lion', 'list', 'literally', 'littered', 'little', 'lived', 'lives', 'living', 'loads', 'local', 'location', 'locations', 'loewenhielm', 'logic', 'london', 'loneliness', 'long', 'longer', 'look', 'looked', 'looking', 'looks', 'loose', 'loosely', 'lord', 'los', 'losing', 'lost', 'lot', 'lots', 'lousy', 'lovable', 'love', 'loved', 'lovely', 'loves', 'low', 'lower', 'loyalty', 'lucio', 'lucy', 'lugosi', 'lust', 'luv', 'lyrics', 'macbeth', 'machine', 'mad', 'made', 'magnificent', 'main', 'mainly', 'major', 'make', 'maker', 'makers', 'makes', 'making', 'male', 'males', 'malta', 'man', 'managed', 'manages', 'manna', 'mansonites', 'many', 'marbles', 'march', 'marine', 'marion', 'mark', 'marred', 'marriage', 'martin', 'masculine', 'masculinity', 'massive', 'master', 'masterful', 'masterpiece', 'masterpieces', 'material', 'matrix', 'matter', 'matthews', 'mature', 'may', 'maybe', 'mchattie', 'mclaglen', 'meagre', 'mean', 'meanders', 'meaning', 'meanings', 'meant', 'medical', 'mediocre', 'meld', 'melodrama', 'melville', 'member', 'members', 'memorable', 'memories', 'memorized', 'menace', 'menacing', 'mention', 'mercy', 'meredith', 'merit', 'mesmerising', 'mess', 'messages', 'meteorite', 'mexican', 'michael', 'mickey', 'microsoft', 'middle', 'might', 'mighty', 'mind', 'mindblowing', 'miner', 'mini', 'minor', 'minute', 'minutes', 'mirrormask', 'miserable', 'miserably', 'mishima', 'misplace', 'miss', 'missed', 'mistakes', 'miyazaki', 'modern', 'modest', 'mollusk', 'moment', 'moments', 'momentum', 'money', 'monica', 'monolog', 'monotonous', 'monster', 'monstrous', 'monumental', 'moral', 'morgan', 'morons', 'mostly', 'mother', 'motion', 'motivations', 'mountain', 'mouse', 'mouth', 'move', 'moved', 'movements', 'moves', 'movie', 'movies', 'moving', 'ms', 'much', 'muddled', 'muppets', 'murder', 'murdered', 'murdering', 'murky', 'music', 'musician', 'must', 'mystifying', 'naked', 'narration', 'narrative', 'nasty', 'national', 'nationalities', 'native', 'natural', 'nature', 'naughty', 'nearly', 'necklace', 'need', 'needed', 'needlessly', 'negative', 'negulesco', 'neighbour', 'neil', 'nerves', 'nervous', 'net', 'netflix', 'network', 'never', 'nevertheless', 'nevsky', 'new', 'next', 'nice', 'nicola', 'night', 'nimoy', 'nine', 'no', 'noble', 'nobody', 'noir', 'non', 'none', 'nonetheless', 'nonsense', 'nor', 'normally', 'northern', 'nostalgia', 'not', 'notable', 'notch', 'note', 'noteworthy', 'nothing', 'novella', 'number', 'numbers', 'nun', 'nuns', 'nurse', 'nut', 'nuts', 'obliged', 'obsessed', 'obvious', 'obviously', 'occasionally', 'occupied', 'occur', 'occurs', 'odd', 'offend', 'offensive', 'offer', 'offers', 'often', 'oh', 'okay', 'old', 'olde', 'older', 'ole', 'olivia', 'omit', 'one', 'ones', 'open', 'opened', 'opening', 'operas', 'opinion', 'ordeal', 'oriented', 'original', 'originality', 'origins', 'ortolani', 'oscar', 'others', 'otherwise', 'ought', 'outlandish', 'outlets', 'outside', 'outward', 'overacting', 'overall', 'overcome', 'overdue', 'overly', 'overs', 'overt', 'overwrought', 'owed', 'owls', 'owned', 'owns', 'oy', 'pace', 'paced', 'pacing', 'pack', 'paid', 'painful', 'painfully', 'paint', 'painted', 'pair', 'palance', 'pandering', 'pans', 'paolo', 'pap', 'paper', 'par', 'parents', 'park', 'parker', 'part', 'partaking', 'particular', 'particularly', 'parts', 'passed', 'passion', 'past', 'patent', 'pathetic', 'patriotism', 'paul', 'pay', 'peaking', 'pearls', 'peculiarity', 'pedestal', 'pencil', 'people', 'perabo', 'perfect', 'perfected', 'perfectly', 'performance', 'performances', 'perhaps', 'period', 'perplexing', 'person', 'personalities', 'personally', 'peter', 'pg', 'phantasm', 'phenomenal', 'philippa', 'phony', 'photograph', 'photography', 'phrase', 'physical', 'pi', 'picked', 'picture', 'pictures', 'piece', 'pieces', 'pile', 'pillow', 'pitch', 'pitiful', 'pixar', 'place', 'places', 'plain', 'plane', 'planned', 'plants', 'play', 'played', 'player', 'players', 'playing', 'plays', 'pleasant', 'pleased', 'pleaser', 'pleasing', 'pledge', 'plenty', 'plmer', 'plot', 'plug', 'plus', 'pm', 'poet', 'poetry', 'poignant', 'point', 'pointillistic', 'pointless', 'poised', 'poler', 'political', 'politically', 'politics', 'ponyo', 'poor', 'poorly', 'popcorn', 'popular', 'portrayal', 'portrayals', 'portrayed', 'portraying', 'positive', 'possible', 'possibly', 'post', 'potted', 'power', 'powerful', 'powerhouse', 'practical', 'practically', 'pray', 'precisely', 'predict', 'predictable', 'predictably', 'prejudice', 'prelude', 'premise', 'prepared', 'presence', 'presents', 'preservation', 'president', 'pretentious', 'pretext', 'pretty', 'previous', 'primal', 'primary', 'probably', 'problem', 'problems', 'proceedings', 'process', 'produce', 'produced', 'producer', 'producers', 'product', 'production', 'professionals', 'professor', 'progresses', 'promote', 'prompted', 'prone', 'propaganda', 'properly', 'proud', 'proudly', 'provided', 'provokes', 'provoking', 'ps', 'pseudo', 'psychological', 'psychotic', 'public', 'pull', 'pulling', 'pulls', 'punched', 'punches', 'punish', 'punishment', 'puppet', 'puppets', 'pure', 'purity', 'put', 'putting', 'puzzle', 'pyromaniac', 'qu', 'quaid', 'qualities', 'quality', 'question', 'questioning', 'quick', 'quicker', 'quiet', 'quinn', 'quite', 'race', 'racial', 'racism', 'radiant', 'raging', 'random', 'range', 'ranks', 'rare', 'rate', 'rated', 'rather', 'rating', 'ratings', 'raver', 'raw', 'ray', 'reactions', 'readers', 'reading', 'ready', 'real', 'realised', 'realistic', 'reality', 'realize', 'realized', 'really', 'reason', 'reasonable', 'reasons', 'receive', 'received', 'recent', 'recently', 'recommend', 'recommended', 'reconciliation', 'recover', 'recurring', 'redeemed', 'redeeming', 'reenactments', 'references', 'reflected', 'refreshing', 'regardless', 'regret', 'regrettable', 'regrettably', 'rejection', 'relate', 'related', 'relation', 'relations', 'relationship', 'relationships', 'relatively', 'relaxing', 'release', 'released', 'relief', 'relying', 'remaining', 'remake', 'remarkable', 'remember', 'reminded', 'remotely', 'removing', 'rendering', 'rendition', 'renowned', 'rent', 'repair', 'repeated', 'repeating', 'repeats', 'repertory', 'reporter', 'represents', 'require', 'rescue', 'researched', 'resounding', 'respecting', 'rest', 'restrained', 'result', 'results', 'resume', 'retarded', 'retreat', 'return', 'revealing', 'revenge', 'revere', 'reverse', 'review', 'reviewer', 'reviewers', 'reviews', 'rice', 'rickman', 'ridiculous', 'ridiculousness', 'right', 'riot', 'rips', 'rise', 'rita', 'rivalry', 'riveted', 'riz', 'road', 'robert', 'robotic', 'rochon', 'rocked', 'rocks', 'roeg', 'role', 'roles', 'roller', 'rolls', 'romantic', 'room', 'roosevelt', 'roth', 'rough', 'round', 'routine', 'row', 'rpg', 'rpger', 'rubbish', 'rubin', 'rumbles', 'run', 'running', 'ruthless', 'ryan', 'ryans', 'sabotages', 'sack', 'sacrifice', 'sad', 'said', 'sake', 'salesman', 'sam', 'sample', 'sand', 'sandra', 'sappiest', 'sarcophage', 'sat', 'satanic', 'savalas', 'savant', 'save', 'savor', 'saw', 'say', 'says', 'scale', 'scamp', 'scare', 'scared', 'scares', 'scary', 'scene', 'scenery', 'scenes', 'schilling', 'schizophrenic', 'school', 'schoolers', 'schrader', 'schultz', 'sci', 'science', 'scientist', 'score', 'scot', 'scream', 'screamy', 'screen', 'screened', 'screenplay', 'screenwriter', 'scrimm', 'script', 'scripted', 'scripting', 'scripts', 'sculpture', 'sea', 'seamless', 'seamlessly', 'sean', 'season', 'seat', 'second', 'secondary', 'secondly', 'see', 'seeing', 'seem', 'seemed', 'seems', 'seen', 'selections', 'self', 'sells', 'semi', 'senior', 'sense', 'senses', 'sensibility', 'sensitivities', 'sentiment', 'seperate', 'sequel', 'sequels', 'sequence', 'sequences', 'series', 'serious', 'seriously', 'served', 'set', 'sets', 'setting', 'settings', 'seuss', 'several', 'sex', 'shakespear', 'shakespears', 'shallow', 'shame', 'shameful', 'share', 'sharing', 'sharply', 'shatner', 'shattered', 'shed', 'sheer', 'shelf', 'shell', 'shelves', 'shenanigans', 'shepard', 'shined', 'shirley', 'shocking', 'shooting', 'short', 'shortlist', 'shot', 'shots', 'show', 'showcasing', 'showed', 'shows', 'shut', 'sibling', 'sick', 'side', 'sidelined', 'sign', 'significant', 'silent', 'silly', 'simmering', 'simplifying', 'simply', 'since', 'sincere', 'sing', 'singing', 'single', 'sinister', 'sink', 'sinking', 'sister', 'sisters', 'sit', 'sitcoms', 'site', 'sites', 'sits', 'situation', 'situations', 'skilled', 'skip', 'slackers', 'slavic', 'sleep', 'slideshow', 'slightest', 'slightly', 'slimy', 'sloppy', 'slow', 'slurs', 'smack', 'small', 'smart', 'smells', 'smile', 'smiling', 'smith', 'smoothly', 'snider', 'snow', 'soap', 'sobering', 'social', 'soldiers', 'sole', 'solid', 'solidifying', 'solving', 'someone', 'something', 'sometimes', 'somewhat', 'son', 'song', 'songs', 'soon', 'sophisticated', 'sorrentino', 'sorry', 'sort', 'soul', 'sound', 'sounded', 'sounds', 'soundtrack', 'sour', 'south', 'southern', 'space', 'spacek', 'spacey', 'span', 'speak', 'speaking', 'special', 'speed', 'spend', 'spent', 'spew', 'sphere', 'spiffy', 'splendid', 'spock', 'spoil', 'spoiled', 'spoiler', 'spoilers', 'spot', 'spy', 'squibs', 'stable', 'stage', 'stagy', 'stand', 'standout', 'stanwyck', 'star', 'starlet', 'starring', 'stars', 'start', 'started', 'starts', 'state', 'stay', 'stayed', 'stealing', 'steamboat', 'steele', 'step', 'stephen', 'stereotypes', 'stereotypically', 'steve', 'stewart', 'stick', 'still', 'stinker', 'stinks', 'stocking', 'stockings', 'stoic', 'store', 'stories', 'storm', 'story', 'storyline', 'storytelling', 'stowe', 'strange', 'stranger', 'stratus', 'straw', 'street', 'strident', 'string', 'strives', 'strokes', 'strong', 'struck', 'structure', 'struggle', 'stuart', 'student', 'students', 'studio', 'study', 'stuff', 'stunning', 'stupid', 'stupidity', 'style', 'stylized', 'sub', 'subject', 'subjects', 'sublime', 'sublimely', 'subplots', 'subtitles', 'subtle', 'subversive', 'subverting', 'succeeded', 'succeeds', 'success', 'suck', 'sucked', 'sucks', 'suffered', 'suffering', 'suggest', 'suggests', 'suited', 'sum', 'summary', 'sundays', 'super', 'superb', 'superbad', 'superbly', 'superficial', 'superlative', 'supernatural', 'supporting', 'supposed', 'supposedly', 'sure', 'surely', 'surf', 'surface', 'surprised', 'surprises', 'surprising', 'surprisingly', 'surrounding', 'surroundings', 'survivors', 'suspense', 'suspension', 'sven', 'swamp', 'sweep', 'sweet', 'switched', 'swords', 'sydney', 'sympathetic', 'syrupy', 'system', 'tacky', 'taelons', 'take', 'taken', 'takes', 'taking', 'tale', 'talent', 'talented', 'talents', 'talk', 'tanks', 'taped', 'tardis', 'task', 'taste', 'taxidermists', 'taylor', 'teacher', 'teaches', 'team', 'tear', 'tears', 'technically', 'teddy', 'tedium', 'teen', 'teenagers', 'teeth', 'telephone', 'television', 'tell', 'telly', 'temperaments', 'ten', 'tender', 'tension', 'tensions', 'terminology', 'terms', 'terrible', 'terribly', 'terrific', 'terror', 'th', 'thanks', 'theater', 'theatre', 'theatres', 'theatrical', 'theme', 'themes', 'therapy', 'thick', 'thing', 'things', 'think', 'thinking', 'thomerson', 'thoroughly', 'thorsen', 'though', 'thought', 'thoughts', 'thousand', 'thread', 'three', 'threshold', 'thrilled', 'thriller', 'thrillers', 'throughout', 'throwback', 'thrown', 'thug', 'thumper', 'thunderbirds', 'thus', 'ticker', 'tickets', 'tightly', 'time', 'timeless', 'timely', 'timers', 'times', 'timing', 'tiny', 'tired', 'title', 'titta', 'today', 'together', 'told', 'tolerable', 'tolerate', 'tom', 'tomorrow', 'tone', 'tongue', 'tonight', 'tons', 'tony', 'took', 'toons', 'top', 'tops', 'torture', 'tortured', 'total', 'totally', 'touch', 'touches', 'touching', 'tough', 'towards', 'towers', 'townsend', 'track', 'tract', 'traditional', 'traffic', 'trailer', 'train', 'tranquillity', 'transcend', 'transfers', 'translate', 'translating', 'trap', 'trash', 'trashy', 'treachery', 'treasure', 'treat', 'treatments', 'trek', 'tremendous', 'tremendously', 'tries', 'trilogy', 'trinity', 'trip', 'triumphed', 'trond', 'trooper', 'trouble', 'truck', 'true', 'truly', 'trumbull', 'trumpeter', 'truth', 'try', 'trying', 'trysts', 'tsunami', 'tuneful', 'turkey', 'turn', 'turned', 'turns', 'tv', 'twice', 'twirling', 'twist', 'twists', 'two', 'tying', 'type', 'typical', 'ue', 'ugliest', 'ugly', 'uhura', 'ultra', 'um', 'unaccompanied', 'unbearable', 'unbearably', 'unbelievable', 'uncalled', 'unconditional', 'unconvincing', 'underacting', 'underappreciated', 'underbite', 'underlines', 'underlying', 'underneath', 'underrated', 'understand', 'understanding', 'understated', 'understatement', 'understood', 'undertone', 'underwater', 'undoubtedly', 'uneasy', 'unemployed', 'unethical', 'unfaithful', 'unfolds', 'unforgettable', 'unfortunate', 'unfortunately', 'unfunny', 'unintentionally', 'uninteresting', 'union', 'unique', 'uniqueness', 'universal', 'universe', 'unless', 'unlockable', 'unmatched', 'unmitigated', 'unmoving', 'unnecessary', 'unneeded', 'unoriginal', 'unpleasant', 'unpredictability', 'unpredictable', 'unrealistic', 'unrecognizable', 'unrecommended', 'unremarkable', 'unrestrained', 'unsatisfactory', 'unwatchable', 'upa', 'uplifting', 'upper', 'ups', 'uptight', 'ursula', 'us', 'use', 'used', 'user', 'uses', 'using', 'ussr', 'usual', 'utter', 'utterly', 'valentine', 'value', 'values', 'vampire', 'vandiver', 'variation', 'vehicles', 'ventura', 'verbal', 'verbatim', 'versatile', 'version', 'versus', 'vessel', 'veteran', 'vey', 'vibe', 'victor', 'video', 'view', 'viewer', 'viewing', 'views', 'villain', 'villains', 'violence', 'violin', 'virtue', 'virus', 'vision', 'visual', 'visually', 'vitally', 'vivian', 'vivid', 'vocal', 'voice', 'volatile', 'volcano', 'vomit', 'vomited', 'voyage', 'vulcan', 'waiting', 'waitress', 'walk', 'walked', 'wall', 'want', 'wanted', 'wanting', 'wants', 'war', 'warmth', 'warn', 'warning', 'wartime', 'warts', 'washed', 'washing', 'waste', 'wasted', 'waster', 'wasting', 'watch', 'watchable', 'watched', 'watching', 'water', 'watkins', 'watson', 'wave', 'way', 'waylaid', 'wayne', 'ways', 'wb', 'weak', 'weaker', 'weariness', 'weaving', 'website', 'wedding', 'weight', 'weird', 'well', 'welsh', 'went', 'whatever', 'whatsoever', 'whenever', 'whether', 'whine', 'whiny', 'white', 'whites', 'whoever', 'whole', 'wholesome', 'wide', 'widmark', 'wife', 'wih', 'wild', 'wilkinson', 'william', 'willie', 'wily', 'win', 'wind', 'wise', 'wish', 'within', 'without', 'witticisms', 'witty', 'woa', 'women', 'wonder', 'wondered', 'wonderful', 'wonderfully', 'wong', 'wont', 'woo', 'wooden', 'word', 'words', 'work', 'worked', 'working', 'works', 'world', 'worry', 'worse', 'worst', 'worth', 'worthless', 'worthwhile', 'worthy', 'would', 'wouldnt', 'woven', 'wow', 'wrap', 'write', 'writer', 'writers', 'writing', 'written', 'wrong', 'wrote', 'yardley', 'yawn', 'yeah', 'year', 'years', 'yelps', 'yes', 'yet', 'young', 'younger', 'youthful', 'youtube', 'yun', 'zillion', 'zombie', 'zombiez']\n",
      "[6.922918   6.922918   6.22977082 ... 6.922918   6.5174529  6.922918  ]\n",
      "(746, 2886)\n",
      "  (0, 2878)\t0.35781145622317734\n",
      "  (0, 2287)\t0.3377679916467555\n",
      "  (0, 1653)\t0.35781145622317734\n",
      "  (0, 1651)\t0.16192317905848022\n",
      "  (0, 1545)\t0.30566026894803877\n",
      "  (0, 720)\t0.4123943870778812\n",
      "  (0, 688)\t0.4123943870778812\n",
      "  (0, 53)\t0.4123943870778812\n",
      "[[0. 0. 0. ... 0. 0. 0.]]\n"
     ]
    }
   ],
   "source": [
    "# sklearn feature names, they are sorted in alphabetic order by default.\n",
    "from sklearn.feature_extraction.text import TfidfVectorizer\n",
    "vectorizer = TfidfVectorizer()\n",
    "vectorizer.fit(corpus)\n",
    "skl_output = vectorizer.transform(corpus)\n",
    "print(vectorizer.get_feature_names())\n",
    "print(vectorizer.idf_)\n",
    "print(skl_output.shape)\n",
    "print(skl_output[0])\n",
    "print(skl_output[0].toarray())"
   ]
  },
  {
   "cell_type": "markdown",
   "metadata": {},
   "source": [
    "### Conclusion\n",
    "Observed that output of tfidf implementation without sklearn and output generated from sklearn both are same "
   ]
  },
  {
   "cell_type": "code",
   "execution_count": null,
   "metadata": {},
   "outputs": [],
   "source": []
  }
 ],
 "metadata": {
  "colab": {
   "collapsed_sections": [],
   "name": "Assignment_3_Instructions.ipynb",
   "provenance": []
  },
  "kernelspec": {
   "display_name": "Python 3 (ipykernel)",
   "language": "python",
   "name": "python3"
  },
  "language_info": {
   "codemirror_mode": {
    "name": "ipython",
    "version": 3
   },
   "file_extension": ".py",
   "mimetype": "text/x-python",
   "name": "python",
   "nbconvert_exporter": "python",
   "pygments_lexer": "ipython3",
   "version": "3.7.5"
  }
 },
 "nbformat": 4,
 "nbformat_minor": 1
}
